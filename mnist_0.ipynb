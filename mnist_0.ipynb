{
  "nbformat": 4,
  "nbformat_minor": 0,
  "metadata": {
    "colab": {
      "name": "mnist-0",
      "provenance": [],
      "collapsed_sections": [],
      "authorship_tag": "ABX9TyOipxqcsRCLNszBtgJKePbR",
      "include_colab_link": true
    },
    "kernelspec": {
      "name": "python3",
      "display_name": "Python 3"
    },
    "accelerator": "GPU"
  },
  "cells": [
    {
      "cell_type": "markdown",
      "metadata": {
        "id": "view-in-github",
        "colab_type": "text"
      },
      "source": [
        "<a href=\"https://colab.research.google.com/github/eli-osherovich/mnist-demo/blob/main/mnist_0.ipynb\" target=\"_parent\"><img src=\"https://colab.research.google.com/assets/colab-badge.svg\" alt=\"Open In Colab\"/></a>"
      ]
    },
    {
      "cell_type": "code",
      "metadata": {
        "id": "IkuNVlXOG6ip"
      },
      "source": [
        "import numpy as np\n",
        "\n",
        "import tensorflow as tf\n",
        "from tensorflow import keras\n",
        "from keras.datasets import mnist, fashion_mnist"
      ],
      "execution_count": 1,
      "outputs": []
    },
    {
      "cell_type": "code",
      "metadata": {
        "id": "6txAjVhtvhzv",
        "outputId": "ae246b4e-dd62-4529-ddd8-216e2d69bd7b",
        "colab": {
          "base_uri": "https://localhost:8080/"
        }
      },
      "source": [
        "!nvidia-smi -L"
      ],
      "execution_count": 2,
      "outputs": [
        {
          "output_type": "stream",
          "text": [
            "GPU 0: Tesla V100-SXM2-16GB (UUID: GPU-4ad56268-ed75-26b5-1bfe-a9e896d40486)\n"
          ],
          "name": "stdout"
        }
      ]
    },
    {
      "cell_type": "code",
      "metadata": {
        "id": "Q5DJVTIg5Svw",
        "outputId": "0e689b00-e050-4ced-e088-99f3f3546983",
        "colab": {
          "base_uri": "https://localhost:8080/"
        }
      },
      "source": [
        "# Set training context (TPU, GPU or CPU)\n",
        "try:\n",
        "  tpu =  tf.distribute.cluster_resolver.TPUClusterResolver()\n",
        "  print('Running on TPU ', tpu.cluster_spec().as_dict()['worker'])\n",
        "\n",
        "  tf.config.experimental_connect_to_cluster(tpu)\n",
        "  tf.tpu.experimental.initialize_tpu_system(tpu)\n",
        "\n",
        "  strategy = tf.distribute.TPUStrategy(tpu)\n",
        "  # policy = tf.keras.mixed_precision.experimental.Policy('mixed_bfloat16')\n",
        "except ValueError:\n",
        "  print(\"Cannot conect to tpu, using default accelerator\")\n",
        "  strategy = tf.distribute.get_strategy()\n",
        "  # policy = tf.keras.mixed_precision.experimental.Policy('mixed_float16')\n",
        "\n"
      ],
      "execution_count": 3,
      "outputs": [
        {
          "output_type": "stream",
          "text": [
            "Cannot conect to tpu, using default accelerator\n"
          ],
          "name": "stdout"
        }
      ]
    },
    {
      "cell_type": "code",
      "metadata": {
        "id": "ESOUnO4PFnMZ"
      },
      "source": [
        "tf.config.optimizer.set_jit(True)"
      ],
      "execution_count": 4,
      "outputs": []
    },
    {
      "cell_type": "code",
      "metadata": {
        "id": "f2x7Alg8Ggkr",
        "outputId": "42056284-192a-4a2e-a169-85a8617d0a2c",
        "colab": {
          "base_uri": "https://localhost:8080/"
        }
      },
      "source": [
        "# the data, split between train and test sets\n",
        "dataset = fashion_mnist\n",
        "dataset = mnist\n",
        "\n",
        "\n",
        "(x_train, y_train), (x_test, y_test) = dataset.load_data()\n",
        "\n",
        "x_train = np.expand_dims(x_train, -1)\n",
        "x_test = np.expand_dims(x_test, -1)\n",
        "\n",
        "x_train = x_train.astype(np.float32)/255\n",
        "x_test = x_test.astype(np.float32)/255\n",
        "y_train = y_train.astype(np.int)\n",
        "y_test = y_test.astype(np.int)\n",
        "\n",
        "print('x_train shape:', x_train.shape)\n",
        "print('x_test shape:', x_test.shape)"
      ],
      "execution_count": 5,
      "outputs": [
        {
          "output_type": "stream",
          "text": [
            "x_train shape: (60000, 28, 28, 1)\n",
            "x_test shape: (10000, 28, 28, 1)\n"
          ],
          "name": "stdout"
        }
      ]
    },
    {
      "cell_type": "code",
      "metadata": {
        "id": "TWe0A9RaZ2r6"
      },
      "source": [
        "def gen_model(activation=\"relu\"):\n",
        "  s = tf.keras.Input(shape=(28, 28, 1))\n",
        "  h = tf.keras.layers.Flatten()(s)\n",
        "  out = tf.keras.layers.Dense(10)(h)\n",
        "  return tf.keras.Model(inputs=s, outputs=out)\n",
        "\n",
        "\n",
        "def compile_model(model, lr=0.001):\n",
        "  model.compile(loss=keras.losses.SparseCategoricalCrossentropy(from_logits=True),\n",
        "                optimizer=keras.optimizers.Adam(learning_rate=lr),\n",
        "                metrics=['accuracy'])\n",
        "  \n",
        "\n",
        "early_stop = tf.keras.callbacks.EarlyStopping(\n",
        "      monitor='val_accuracy',\n",
        "      patience=10,\n",
        "      restore_best_weights=True,\n",
        ")"
      ],
      "execution_count": 6,
      "outputs": []
    },
    {
      "cell_type": "code",
      "metadata": {
        "id": "Z5NllJuVPPwt",
        "outputId": "c524ed2e-83c9-42b1-f015-d34bcfa54c15",
        "colab": {
          "base_uri": "https://localhost:8080/"
        }
      },
      "source": [
        "%%time\n",
        "with strategy.scope():\n",
        "  model = gen_model()\n",
        "  compile_model(model)\n",
        "  model.fit(x_train, y_train,\n",
        "            batch_size=128,\n",
        "            epochs=100,\n",
        "            verbose=1,\n",
        "            callbacks=[early_stop],\n",
        "            validation_data=(x_test, y_test),\n",
        "            validation_batch_size=2048)\n"
      ],
      "execution_count": 7,
      "outputs": [
        {
          "output_type": "stream",
          "text": [
            "Epoch 1/100\n",
            "469/469 [==============================] - 2s 4ms/step - loss: 0.6848 - accuracy: 0.8306 - val_loss: 0.3875 - val_accuracy: 0.9010\n",
            "Epoch 2/100\n",
            "469/469 [==============================] - 2s 4ms/step - loss: 0.3637 - accuracy: 0.9011 - val_loss: 0.3217 - val_accuracy: 0.9132\n",
            "Epoch 3/100\n",
            "469/469 [==============================] - 1s 2ms/step - loss: 0.3203 - accuracy: 0.9112 - val_loss: 0.2991 - val_accuracy: 0.9169\n",
            "Epoch 4/100\n",
            "469/469 [==============================] - 1s 2ms/step - loss: 0.2998 - accuracy: 0.9173 - val_loss: 0.2850 - val_accuracy: 0.9225\n",
            "Epoch 5/100\n",
            "469/469 [==============================] - 1s 2ms/step - loss: 0.2879 - accuracy: 0.9202 - val_loss: 0.2780 - val_accuracy: 0.9223\n",
            "Epoch 6/100\n",
            "469/469 [==============================] - 1s 2ms/step - loss: 0.2798 - accuracy: 0.9217 - val_loss: 0.2755 - val_accuracy: 0.9246\n",
            "Epoch 7/100\n",
            "469/469 [==============================] - 1s 2ms/step - loss: 0.2739 - accuracy: 0.9240 - val_loss: 0.2716 - val_accuracy: 0.9247\n",
            "Epoch 8/100\n",
            "469/469 [==============================] - 1s 2ms/step - loss: 0.2689 - accuracy: 0.9252 - val_loss: 0.2691 - val_accuracy: 0.9256\n",
            "Epoch 9/100\n",
            "469/469 [==============================] - 1s 2ms/step - loss: 0.2650 - accuracy: 0.9262 - val_loss: 0.2697 - val_accuracy: 0.9245\n",
            "Epoch 10/100\n",
            "469/469 [==============================] - 1s 2ms/step - loss: 0.2623 - accuracy: 0.9269 - val_loss: 0.2665 - val_accuracy: 0.9266\n",
            "Epoch 11/100\n",
            "469/469 [==============================] - 1s 2ms/step - loss: 0.2595 - accuracy: 0.9276 - val_loss: 0.2668 - val_accuracy: 0.9257\n",
            "Epoch 12/100\n",
            "469/469 [==============================] - 1s 2ms/step - loss: 0.2573 - accuracy: 0.9284 - val_loss: 0.2642 - val_accuracy: 0.9254\n",
            "Epoch 13/100\n",
            "469/469 [==============================] - 1s 2ms/step - loss: 0.2555 - accuracy: 0.9288 - val_loss: 0.2633 - val_accuracy: 0.9258\n",
            "Epoch 14/100\n",
            "469/469 [==============================] - 1s 2ms/step - loss: 0.2533 - accuracy: 0.9298 - val_loss: 0.2641 - val_accuracy: 0.9266\n",
            "Epoch 15/100\n",
            "469/469 [==============================] - 1s 2ms/step - loss: 0.2517 - accuracy: 0.9307 - val_loss: 0.2631 - val_accuracy: 0.9264\n",
            "Epoch 16/100\n",
            "469/469 [==============================] - 1s 2ms/step - loss: 0.2505 - accuracy: 0.9307 - val_loss: 0.2643 - val_accuracy: 0.9257\n",
            "Epoch 17/100\n",
            "469/469 [==============================] - 1s 2ms/step - loss: 0.2494 - accuracy: 0.9312 - val_loss: 0.2630 - val_accuracy: 0.9272\n",
            "Epoch 18/100\n",
            "469/469 [==============================] - 1s 2ms/step - loss: 0.2479 - accuracy: 0.9314 - val_loss: 0.2629 - val_accuracy: 0.9276\n",
            "Epoch 19/100\n",
            "469/469 [==============================] - 1s 2ms/step - loss: 0.2471 - accuracy: 0.9319 - val_loss: 0.2619 - val_accuracy: 0.9267\n",
            "Epoch 20/100\n",
            "469/469 [==============================] - 1s 2ms/step - loss: 0.2458 - accuracy: 0.9324 - val_loss: 0.2613 - val_accuracy: 0.9266\n",
            "Epoch 21/100\n",
            "469/469 [==============================] - 1s 2ms/step - loss: 0.2451 - accuracy: 0.9323 - val_loss: 0.2612 - val_accuracy: 0.9281\n",
            "Epoch 22/100\n",
            "469/469 [==============================] - 1s 2ms/step - loss: 0.2440 - accuracy: 0.9329 - val_loss: 0.2622 - val_accuracy: 0.9271\n",
            "Epoch 23/100\n",
            "469/469 [==============================] - 1s 2ms/step - loss: 0.2430 - accuracy: 0.9334 - val_loss: 0.2632 - val_accuracy: 0.9264\n",
            "Epoch 24/100\n",
            "469/469 [==============================] - 1s 2ms/step - loss: 0.2423 - accuracy: 0.9334 - val_loss: 0.2632 - val_accuracy: 0.9273\n",
            "Epoch 25/100\n",
            "469/469 [==============================] - 1s 2ms/step - loss: 0.2415 - accuracy: 0.9336 - val_loss: 0.2622 - val_accuracy: 0.9263\n",
            "Epoch 26/100\n",
            "469/469 [==============================] - 1s 2ms/step - loss: 0.2413 - accuracy: 0.9331 - val_loss: 0.2659 - val_accuracy: 0.9269\n",
            "Epoch 27/100\n",
            "469/469 [==============================] - 1s 2ms/step - loss: 0.2404 - accuracy: 0.9343 - val_loss: 0.2642 - val_accuracy: 0.9258\n",
            "Epoch 28/100\n",
            "469/469 [==============================] - 1s 2ms/step - loss: 0.2396 - accuracy: 0.9342 - val_loss: 0.2643 - val_accuracy: 0.9273\n",
            "Epoch 29/100\n",
            "469/469 [==============================] - 1s 2ms/step - loss: 0.2397 - accuracy: 0.9339 - val_loss: 0.2643 - val_accuracy: 0.9289\n",
            "Epoch 30/100\n",
            "469/469 [==============================] - 1s 2ms/step - loss: 0.2386 - accuracy: 0.9342 - val_loss: 0.2639 - val_accuracy: 0.9264\n",
            "Epoch 31/100\n",
            "469/469 [==============================] - 1s 2ms/step - loss: 0.2381 - accuracy: 0.9346 - val_loss: 0.2643 - val_accuracy: 0.9258\n",
            "Epoch 32/100\n",
            "469/469 [==============================] - 1s 2ms/step - loss: 0.2379 - accuracy: 0.9345 - val_loss: 0.2639 - val_accuracy: 0.9269\n",
            "Epoch 33/100\n",
            "469/469 [==============================] - 1s 2ms/step - loss: 0.2375 - accuracy: 0.9346 - val_loss: 0.2652 - val_accuracy: 0.9266\n",
            "Epoch 34/100\n",
            "469/469 [==============================] - 1s 2ms/step - loss: 0.2370 - accuracy: 0.9347 - val_loss: 0.2637 - val_accuracy: 0.9285\n",
            "Epoch 35/100\n",
            "469/469 [==============================] - 1s 2ms/step - loss: 0.2361 - accuracy: 0.9349 - val_loss: 0.2666 - val_accuracy: 0.9276\n",
            "Epoch 36/100\n",
            "469/469 [==============================] - 1s 2ms/step - loss: 0.2361 - accuracy: 0.9351 - val_loss: 0.2659 - val_accuracy: 0.9274\n",
            "Epoch 37/100\n",
            "469/469 [==============================] - 1s 2ms/step - loss: 0.2354 - accuracy: 0.9352 - val_loss: 0.2679 - val_accuracy: 0.9282\n",
            "Epoch 38/100\n",
            "469/469 [==============================] - 1s 2ms/step - loss: 0.2348 - accuracy: 0.9356 - val_loss: 0.2658 - val_accuracy: 0.9280\n",
            "Epoch 39/100\n",
            "469/469 [==============================] - 1s 2ms/step - loss: 0.2350 - accuracy: 0.9353 - val_loss: 0.2647 - val_accuracy: 0.9279\n",
            "CPU times: user 45.5 s, sys: 5.97 s, total: 51.4 s\n",
            "Wall time: 42 s\n"
          ],
          "name": "stdout"
        }
      ]
    },
    {
      "cell_type": "code",
      "metadata": {
        "id": "tf3PBVa9M2ry",
        "outputId": "f0c9cd81-bf38-4ccd-feb3-a28e57fbd94e",
        "colab": {
          "base_uri": "https://localhost:8080/"
        }
      },
      "source": [
        "score = model.evaluate(x_test, y_test, verbose=0)\n",
        "print('Test loss:', score[0])\n",
        "print('Test accuracy:', score[1])\n"
      ],
      "execution_count": 8,
      "outputs": [
        {
          "output_type": "stream",
          "text": [
            "Test loss: 0.2642645835876465\n",
            "Test accuracy: 0.9289000630378723\n"
          ],
          "name": "stdout"
        }
      ]
    }
  ]
}