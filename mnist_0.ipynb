{
  "nbformat": 4,
  "nbformat_minor": 0,
  "metadata": {
    "colab": {
      "name": "mnist-0",
      "provenance": [],
      "collapsed_sections": [],
      "authorship_tag": "ABX9TyN/8eAxu/cC9xyBTcJC1odL",
      "include_colab_link": true
    },
    "kernelspec": {
      "name": "python3",
      "display_name": "Python 3"
    },
    "accelerator": "GPU"
  },
  "cells": [
    {
      "cell_type": "markdown",
      "metadata": {
        "id": "view-in-github",
        "colab_type": "text"
      },
      "source": [
        "<a href=\"https://colab.research.google.com/github/eli-osherovich/mnist-demo/blob/main/mnist_0.ipynb\" target=\"_parent\"><img src=\"https://colab.research.google.com/assets/colab-badge.svg\" alt=\"Open In Colab\"/></a>"
      ]
    },
    {
      "cell_type": "code",
      "metadata": {
        "id": "IkuNVlXOG6ip"
      },
      "source": [
        "import numpy as np\n",
        "\n",
        "import tensorflow as tf\n",
        "from tensorflow import keras\n",
        "from keras.datasets import mnist, fashion_mnist"
      ],
      "execution_count": 1,
      "outputs": []
    },
    {
      "cell_type": "code",
      "metadata": {
        "id": "6txAjVhtvhzv",
        "outputId": "db354310-8797-436c-f851-5091fa178a5c",
        "colab": {
          "base_uri": "https://localhost:8080/"
        }
      },
      "source": [
        "!nvidia-smi -L"
      ],
      "execution_count": 2,
      "outputs": [
        {
          "output_type": "stream",
          "text": [
            "GPU 0: Tesla V100-SXM2-16GB (UUID: GPU-536b977f-9ddc-d07c-5988-f641eac1bd2a)\n"
          ],
          "name": "stdout"
        }
      ]
    },
    {
      "cell_type": "code",
      "metadata": {
        "id": "f2x7Alg8Ggkr",
        "outputId": "6fc33872-cec3-4ad4-8b28-1aa6dafdf5ba",
        "colab": {
          "base_uri": "https://localhost:8080/"
        }
      },
      "source": [
        "# the data, split between train and test sets\n",
        "dataset = fashion_mnist\n",
        "dataset = mnist\n",
        "\n",
        "\n",
        "(x_train, y_train), (x_test, y_test) = dataset.load_data()\n",
        "\n",
        "x_train = np.expand_dims(x_train, -1)\n",
        "x_test = np.expand_dims(x_test, -1)\n",
        "\n",
        "x_train = x_train.astype(np.float32)/255\n",
        "x_test = x_test.astype(np.float32)/255\n",
        "y_train = y_train.astype(np.int)\n",
        "y_test = y_test.astype(np.int)\n",
        "\n",
        "print('x_train shape:', x_train.shape)\n",
        "print('x_test shape:', x_test.shape)"
      ],
      "execution_count": 3,
      "outputs": [
        {
          "output_type": "stream",
          "text": [
            "x_train shape: (60000, 28, 28, 1)\n",
            "x_test shape: (10000, 28, 28, 1)\n"
          ],
          "name": "stdout"
        }
      ]
    },
    {
      "cell_type": "code",
      "metadata": {
        "id": "TWe0A9RaZ2r6"
      },
      "source": [
        "def gen_model(activation=\"relu\"):\n",
        "  model = tf.keras.models.Sequential()\n",
        "  model.add(tf.keras.Input(shape=(28, 28, 1)))\n",
        "\n",
        "  model.add(tf.keras.layers.Flatten())\n",
        "  model.add(tf.keras.layers.Dense(10))\n",
        "  \n",
        "  return model\n",
        "\n",
        "\n",
        "def compile_model(model, lr=0.001):\n",
        "  model.compile(loss=keras.losses.SparseCategoricalCrossentropy(from_logits=True),\n",
        "                optimizer=keras.optimizers.Adam(learning_rate=lr),\n",
        "                metrics=['accuracy'])\n",
        "  \n",
        "\n",
        "early_stop = tf.keras.callbacks.EarlyStopping(\n",
        "      monitor='val_accuracy',\n",
        "      patience=20,\n",
        "      restore_best_weights=True,\n",
        ")"
      ],
      "execution_count": 4,
      "outputs": []
    },
    {
      "cell_type": "code",
      "metadata": {
        "id": "Z5NllJuVPPwt",
        "outputId": "f0fc3611-f529-45f2-e5fc-65a9041f4844",
        "colab": {
          "base_uri": "https://localhost:8080/"
        }
      },
      "source": [
        "%%time\n",
        "model = gen_model()\n",
        "compile_model(model)\n",
        "model.fit(x_train, y_train,\n",
        "          batch_size=128,\n",
        "          epochs=1000,\n",
        "          verbose=1,\n",
        "          callbacks=[early_stop],\n",
        "          validation_data=(x_test, y_test),\n",
        "          validation_batch_size=2048)"
      ],
      "execution_count": 5,
      "outputs": [
        {
          "output_type": "stream",
          "text": [
            "Epoch 1/1000\n",
            "469/469 [==============================] - 1s 2ms/step - loss: 0.6740 - accuracy: 0.8327 - val_loss: 0.3812 - val_accuracy: 0.9025\n",
            "Epoch 2/1000\n",
            "469/469 [==============================] - 1s 2ms/step - loss: 0.3619 - accuracy: 0.9017 - val_loss: 0.3203 - val_accuracy: 0.9132\n",
            "Epoch 3/1000\n",
            "469/469 [==============================] - 1s 2ms/step - loss: 0.3197 - accuracy: 0.9122 - val_loss: 0.2985 - val_accuracy: 0.9168\n",
            "Epoch 4/1000\n",
            "469/469 [==============================] - 1s 2ms/step - loss: 0.2999 - accuracy: 0.9168 - val_loss: 0.2862 - val_accuracy: 0.9190\n",
            "Epoch 5/1000\n",
            "469/469 [==============================] - 1s 2ms/step - loss: 0.2879 - accuracy: 0.9198 - val_loss: 0.2781 - val_accuracy: 0.9220\n",
            "Epoch 6/1000\n",
            "469/469 [==============================] - 1s 2ms/step - loss: 0.2800 - accuracy: 0.9216 - val_loss: 0.2739 - val_accuracy: 0.9233\n",
            "Epoch 7/1000\n",
            "469/469 [==============================] - 1s 2ms/step - loss: 0.2739 - accuracy: 0.9236 - val_loss: 0.2704 - val_accuracy: 0.9244\n",
            "Epoch 8/1000\n",
            "469/469 [==============================] - 1s 2ms/step - loss: 0.2690 - accuracy: 0.9256 - val_loss: 0.2674 - val_accuracy: 0.9255\n",
            "Epoch 9/1000\n",
            "469/469 [==============================] - 1s 2ms/step - loss: 0.2653 - accuracy: 0.9262 - val_loss: 0.2694 - val_accuracy: 0.9250\n",
            "Epoch 10/1000\n",
            "469/469 [==============================] - 1s 2ms/step - loss: 0.2624 - accuracy: 0.9265 - val_loss: 0.2658 - val_accuracy: 0.9261\n",
            "Epoch 11/1000\n",
            "469/469 [==============================] - 1s 2ms/step - loss: 0.2602 - accuracy: 0.9282 - val_loss: 0.2659 - val_accuracy: 0.9261\n",
            "Epoch 12/1000\n",
            "469/469 [==============================] - 1s 2ms/step - loss: 0.2574 - accuracy: 0.9287 - val_loss: 0.2653 - val_accuracy: 0.9256\n",
            "Epoch 13/1000\n",
            "469/469 [==============================] - 1s 2ms/step - loss: 0.2553 - accuracy: 0.9297 - val_loss: 0.2631 - val_accuracy: 0.9281\n",
            "Epoch 14/1000\n",
            "469/469 [==============================] - 1s 2ms/step - loss: 0.2537 - accuracy: 0.9297 - val_loss: 0.2632 - val_accuracy: 0.9271\n",
            "Epoch 15/1000\n",
            "469/469 [==============================] - 1s 2ms/step - loss: 0.2524 - accuracy: 0.9300 - val_loss: 0.2611 - val_accuracy: 0.9282\n",
            "Epoch 16/1000\n",
            "469/469 [==============================] - 1s 2ms/step - loss: 0.2508 - accuracy: 0.9307 - val_loss: 0.2625 - val_accuracy: 0.9267\n",
            "Epoch 17/1000\n",
            "469/469 [==============================] - 1s 2ms/step - loss: 0.2496 - accuracy: 0.9310 - val_loss: 0.2618 - val_accuracy: 0.9290\n",
            "Epoch 18/1000\n",
            "469/469 [==============================] - 1s 2ms/step - loss: 0.2483 - accuracy: 0.9311 - val_loss: 0.2627 - val_accuracy: 0.9262\n",
            "Epoch 19/1000\n",
            "469/469 [==============================] - 1s 2ms/step - loss: 0.2471 - accuracy: 0.9319 - val_loss: 0.2628 - val_accuracy: 0.9280\n",
            "Epoch 20/1000\n",
            "469/469 [==============================] - 1s 2ms/step - loss: 0.2463 - accuracy: 0.9326 - val_loss: 0.2616 - val_accuracy: 0.9266\n",
            "Epoch 21/1000\n",
            "469/469 [==============================] - 1s 2ms/step - loss: 0.2449 - accuracy: 0.9328 - val_loss: 0.2627 - val_accuracy: 0.9284\n",
            "Epoch 22/1000\n",
            "469/469 [==============================] - 1s 2ms/step - loss: 0.2444 - accuracy: 0.9324 - val_loss: 0.2628 - val_accuracy: 0.9280\n",
            "Epoch 23/1000\n",
            "469/469 [==============================] - 1s 2ms/step - loss: 0.2434 - accuracy: 0.9326 - val_loss: 0.2667 - val_accuracy: 0.9262\n",
            "Epoch 24/1000\n",
            "469/469 [==============================] - 1s 2ms/step - loss: 0.2429 - accuracy: 0.9332 - val_loss: 0.2638 - val_accuracy: 0.9271\n",
            "Epoch 25/1000\n",
            "469/469 [==============================] - 1s 2ms/step - loss: 0.2419 - accuracy: 0.9334 - val_loss: 0.2626 - val_accuracy: 0.9273\n",
            "Epoch 26/1000\n",
            "469/469 [==============================] - 1s 2ms/step - loss: 0.2411 - accuracy: 0.9339 - val_loss: 0.2648 - val_accuracy: 0.9279\n",
            "Epoch 27/1000\n",
            "469/469 [==============================] - 1s 2ms/step - loss: 0.2407 - accuracy: 0.9335 - val_loss: 0.2624 - val_accuracy: 0.9275\n",
            "Epoch 28/1000\n",
            "469/469 [==============================] - 1s 2ms/step - loss: 0.2399 - accuracy: 0.9332 - val_loss: 0.2646 - val_accuracy: 0.9285\n",
            "Epoch 29/1000\n",
            "469/469 [==============================] - 1s 2ms/step - loss: 0.2394 - accuracy: 0.9347 - val_loss: 0.2643 - val_accuracy: 0.9275\n",
            "Epoch 30/1000\n",
            "469/469 [==============================] - 1s 2ms/step - loss: 0.2386 - accuracy: 0.9342 - val_loss: 0.2639 - val_accuracy: 0.9281\n",
            "Epoch 31/1000\n",
            "469/469 [==============================] - 1s 2ms/step - loss: 0.2378 - accuracy: 0.9350 - val_loss: 0.2664 - val_accuracy: 0.9282\n",
            "Epoch 32/1000\n",
            "469/469 [==============================] - 1s 2ms/step - loss: 0.2377 - accuracy: 0.9345 - val_loss: 0.2654 - val_accuracy: 0.9274\n",
            "Epoch 33/1000\n",
            "469/469 [==============================] - 1s 2ms/step - loss: 0.2371 - accuracy: 0.9347 - val_loss: 0.2645 - val_accuracy: 0.9275\n",
            "Epoch 34/1000\n",
            "469/469 [==============================] - 1s 2ms/step - loss: 0.2371 - accuracy: 0.9348 - val_loss: 0.2647 - val_accuracy: 0.9259\n",
            "Epoch 35/1000\n",
            "469/469 [==============================] - 1s 2ms/step - loss: 0.2365 - accuracy: 0.9352 - val_loss: 0.2649 - val_accuracy: 0.9270\n",
            "Epoch 36/1000\n",
            "469/469 [==============================] - 1s 2ms/step - loss: 0.2361 - accuracy: 0.9355 - val_loss: 0.2642 - val_accuracy: 0.9270\n",
            "Epoch 37/1000\n",
            "469/469 [==============================] - 1s 2ms/step - loss: 0.2355 - accuracy: 0.9355 - val_loss: 0.2663 - val_accuracy: 0.9259\n",
            "CPU times: user 47.1 s, sys: 5.82 s, total: 53 s\n",
            "Wall time: 40.1 s\n"
          ],
          "name": "stdout"
        }
      ]
    },
    {
      "cell_type": "code",
      "metadata": {
        "id": "tf3PBVa9M2ry",
        "outputId": "aa8b43be-95d4-467d-b309-102560e63ab3",
        "colab": {
          "base_uri": "https://localhost:8080/"
        }
      },
      "source": [
        "score = model.evaluate(x_test, y_test, verbose=0)\n",
        "print('Test loss:', score[0])\n",
        "print('Test accuracy:', score[1])\n"
      ],
      "execution_count": 6,
      "outputs": [
        {
          "output_type": "stream",
          "text": [
            "Test loss: 0.26179051399230957\n",
            "Test accuracy: 0.9290000200271606\n"
          ],
          "name": "stdout"
        }
      ]
    },
    {
      "cell_type": "code",
      "metadata": {
        "id": "kOdD9UtVMC5J"
      },
      "source": [
        ""
      ],
      "execution_count": 6,
      "outputs": []
    }
  ]
}