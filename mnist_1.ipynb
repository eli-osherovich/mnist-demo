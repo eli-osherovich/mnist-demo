{
  "nbformat": 4,
  "nbformat_minor": 0,
  "metadata": {
    "colab": {
      "name": "mnist-1",
      "provenance": [],
      "collapsed_sections": [],
      "authorship_tag": "ABX9TyNBU/7k8DwVOUZT3hEyFt14",
      "include_colab_link": true
    },
    "kernelspec": {
      "name": "python3",
      "display_name": "Python 3"
    },
    "accelerator": "TPU"
  },
  "cells": [
    {
      "cell_type": "markdown",
      "metadata": {
        "id": "view-in-github",
        "colab_type": "text"
      },
      "source": [
        "<a href=\"https://colab.research.google.com/github/eli-osherovich/mnist-demo/blob/main/mnist_1.ipynb\" target=\"_parent\"><img src=\"https://colab.research.google.com/assets/colab-badge.svg\" alt=\"Open In Colab\"/></a>"
      ]
    },
    {
      "cell_type": "code",
      "metadata": {
        "id": "IkuNVlXOG6ip"
      },
      "source": [
        "import numpy as np\n",
        "\n",
        "import tensorflow as tf\n",
        "from tensorflow import keras\n",
        "from keras.datasets import mnist, fashion_mnist"
      ],
      "execution_count": 1,
      "outputs": []
    },
    {
      "cell_type": "code",
      "metadata": {
        "id": "6txAjVhtvhzv",
        "outputId": "689e964e-0af6-437d-9b3d-3674f04c3e93",
        "colab": {
          "base_uri": "https://localhost:8080/"
        }
      },
      "source": [
        "!nvidia-smi -L"
      ],
      "execution_count": 2,
      "outputs": [
        {
          "output_type": "stream",
          "text": [
            "NVIDIA-SMI has failed because it couldn't communicate with the NVIDIA driver. Make sure that the latest NVIDIA driver is installed and running.\n",
            "\n"
          ],
          "name": "stdout"
        }
      ]
    },
    {
      "cell_type": "code",
      "metadata": {
        "id": "Q5DJVTIg5Svw",
        "outputId": "631264f6-a11e-44a3-ab51-5ab2d1e3813b",
        "colab": {
          "base_uri": "https://localhost:8080/"
        }
      },
      "source": [
        "# Set training context (TPU, GPU or CPU)\n",
        "try:\n",
        "  tpu =  tf.distribute.cluster_resolver.TPUClusterResolver()\n",
        "  print('Running on TPU ', tpu.cluster_spec().as_dict()['worker'])\n",
        "\n",
        "  tf.config.experimental_connect_to_cluster(tpu)\n",
        "  tf.tpu.experimental.initialize_tpu_system(tpu)\n",
        "\n",
        "  strategy = tf.distribute.TPUStrategy(tpu)\n",
        "  # policy = tf.keras.mixed_precision.experimental.Policy('mixed_bfloat16')\n",
        "except ValueError:\n",
        "  print(\"Cannot conect to tpu, using default accelerator\")\n",
        "  strategy = tf.distribute.get_strategy()\n",
        "  # policy = tf.keras.mixed_precision.experimental.Policy('mixed_float16')\n",
        "\n"
      ],
      "execution_count": 3,
      "outputs": [
        {
          "output_type": "stream",
          "text": [
            "Running on TPU  ['10.72.115.82:8470']\n",
            "INFO:tensorflow:Initializing the TPU system: grpc://10.72.115.82:8470\n"
          ],
          "name": "stdout"
        },
        {
          "output_type": "stream",
          "text": [
            "INFO:tensorflow:Initializing the TPU system: grpc://10.72.115.82:8470\n"
          ],
          "name": "stderr"
        },
        {
          "output_type": "stream",
          "text": [
            "INFO:tensorflow:Clearing out eager caches\n"
          ],
          "name": "stdout"
        },
        {
          "output_type": "stream",
          "text": [
            "INFO:tensorflow:Clearing out eager caches\n"
          ],
          "name": "stderr"
        },
        {
          "output_type": "stream",
          "text": [
            "INFO:tensorflow:Finished initializing TPU system.\n"
          ],
          "name": "stdout"
        },
        {
          "output_type": "stream",
          "text": [
            "INFO:tensorflow:Finished initializing TPU system.\n"
          ],
          "name": "stderr"
        },
        {
          "output_type": "stream",
          "text": [
            "INFO:tensorflow:Found TPU system:\n"
          ],
          "name": "stdout"
        },
        {
          "output_type": "stream",
          "text": [
            "INFO:tensorflow:Found TPU system:\n"
          ],
          "name": "stderr"
        },
        {
          "output_type": "stream",
          "text": [
            "INFO:tensorflow:*** Num TPU Cores: 8\n"
          ],
          "name": "stdout"
        },
        {
          "output_type": "stream",
          "text": [
            "INFO:tensorflow:*** Num TPU Cores: 8\n"
          ],
          "name": "stderr"
        },
        {
          "output_type": "stream",
          "text": [
            "INFO:tensorflow:*** Num TPU Workers: 1\n"
          ],
          "name": "stdout"
        },
        {
          "output_type": "stream",
          "text": [
            "INFO:tensorflow:*** Num TPU Workers: 1\n"
          ],
          "name": "stderr"
        },
        {
          "output_type": "stream",
          "text": [
            "INFO:tensorflow:*** Num TPU Cores Per Worker: 8\n"
          ],
          "name": "stdout"
        },
        {
          "output_type": "stream",
          "text": [
            "INFO:tensorflow:*** Num TPU Cores Per Worker: 8\n"
          ],
          "name": "stderr"
        },
        {
          "output_type": "stream",
          "text": [
            "INFO:tensorflow:*** Available Device: _DeviceAttributes(/job:localhost/replica:0/task:0/device:CPU:0, CPU, 0, 0)\n"
          ],
          "name": "stdout"
        },
        {
          "output_type": "stream",
          "text": [
            "INFO:tensorflow:*** Available Device: _DeviceAttributes(/job:localhost/replica:0/task:0/device:CPU:0, CPU, 0, 0)\n"
          ],
          "name": "stderr"
        },
        {
          "output_type": "stream",
          "text": [
            "INFO:tensorflow:*** Available Device: _DeviceAttributes(/job:localhost/replica:0/task:0/device:XLA_CPU:0, XLA_CPU, 0, 0)\n"
          ],
          "name": "stdout"
        },
        {
          "output_type": "stream",
          "text": [
            "INFO:tensorflow:*** Available Device: _DeviceAttributes(/job:localhost/replica:0/task:0/device:XLA_CPU:0, XLA_CPU, 0, 0)\n"
          ],
          "name": "stderr"
        },
        {
          "output_type": "stream",
          "text": [
            "INFO:tensorflow:*** Available Device: _DeviceAttributes(/job:worker/replica:0/task:0/device:CPU:0, CPU, 0, 0)\n"
          ],
          "name": "stdout"
        },
        {
          "output_type": "stream",
          "text": [
            "INFO:tensorflow:*** Available Device: _DeviceAttributes(/job:worker/replica:0/task:0/device:CPU:0, CPU, 0, 0)\n"
          ],
          "name": "stderr"
        },
        {
          "output_type": "stream",
          "text": [
            "INFO:tensorflow:*** Available Device: _DeviceAttributes(/job:worker/replica:0/task:0/device:TPU:0, TPU, 0, 0)\n"
          ],
          "name": "stdout"
        },
        {
          "output_type": "stream",
          "text": [
            "INFO:tensorflow:*** Available Device: _DeviceAttributes(/job:worker/replica:0/task:0/device:TPU:0, TPU, 0, 0)\n"
          ],
          "name": "stderr"
        },
        {
          "output_type": "stream",
          "text": [
            "INFO:tensorflow:*** Available Device: _DeviceAttributes(/job:worker/replica:0/task:0/device:TPU:1, TPU, 0, 0)\n"
          ],
          "name": "stdout"
        },
        {
          "output_type": "stream",
          "text": [
            "INFO:tensorflow:*** Available Device: _DeviceAttributes(/job:worker/replica:0/task:0/device:TPU:1, TPU, 0, 0)\n"
          ],
          "name": "stderr"
        },
        {
          "output_type": "stream",
          "text": [
            "INFO:tensorflow:*** Available Device: _DeviceAttributes(/job:worker/replica:0/task:0/device:TPU:2, TPU, 0, 0)\n"
          ],
          "name": "stdout"
        },
        {
          "output_type": "stream",
          "text": [
            "INFO:tensorflow:*** Available Device: _DeviceAttributes(/job:worker/replica:0/task:0/device:TPU:2, TPU, 0, 0)\n"
          ],
          "name": "stderr"
        },
        {
          "output_type": "stream",
          "text": [
            "INFO:tensorflow:*** Available Device: _DeviceAttributes(/job:worker/replica:0/task:0/device:TPU:3, TPU, 0, 0)\n"
          ],
          "name": "stdout"
        },
        {
          "output_type": "stream",
          "text": [
            "INFO:tensorflow:*** Available Device: _DeviceAttributes(/job:worker/replica:0/task:0/device:TPU:3, TPU, 0, 0)\n"
          ],
          "name": "stderr"
        },
        {
          "output_type": "stream",
          "text": [
            "INFO:tensorflow:*** Available Device: _DeviceAttributes(/job:worker/replica:0/task:0/device:TPU:4, TPU, 0, 0)\n"
          ],
          "name": "stdout"
        },
        {
          "output_type": "stream",
          "text": [
            "INFO:tensorflow:*** Available Device: _DeviceAttributes(/job:worker/replica:0/task:0/device:TPU:4, TPU, 0, 0)\n"
          ],
          "name": "stderr"
        },
        {
          "output_type": "stream",
          "text": [
            "INFO:tensorflow:*** Available Device: _DeviceAttributes(/job:worker/replica:0/task:0/device:TPU:5, TPU, 0, 0)\n"
          ],
          "name": "stdout"
        },
        {
          "output_type": "stream",
          "text": [
            "INFO:tensorflow:*** Available Device: _DeviceAttributes(/job:worker/replica:0/task:0/device:TPU:5, TPU, 0, 0)\n"
          ],
          "name": "stderr"
        },
        {
          "output_type": "stream",
          "text": [
            "INFO:tensorflow:*** Available Device: _DeviceAttributes(/job:worker/replica:0/task:0/device:TPU:6, TPU, 0, 0)\n"
          ],
          "name": "stdout"
        },
        {
          "output_type": "stream",
          "text": [
            "INFO:tensorflow:*** Available Device: _DeviceAttributes(/job:worker/replica:0/task:0/device:TPU:6, TPU, 0, 0)\n"
          ],
          "name": "stderr"
        },
        {
          "output_type": "stream",
          "text": [
            "INFO:tensorflow:*** Available Device: _DeviceAttributes(/job:worker/replica:0/task:0/device:TPU:7, TPU, 0, 0)\n"
          ],
          "name": "stdout"
        },
        {
          "output_type": "stream",
          "text": [
            "INFO:tensorflow:*** Available Device: _DeviceAttributes(/job:worker/replica:0/task:0/device:TPU:7, TPU, 0, 0)\n"
          ],
          "name": "stderr"
        },
        {
          "output_type": "stream",
          "text": [
            "INFO:tensorflow:*** Available Device: _DeviceAttributes(/job:worker/replica:0/task:0/device:TPU_SYSTEM:0, TPU_SYSTEM, 0, 0)\n"
          ],
          "name": "stdout"
        },
        {
          "output_type": "stream",
          "text": [
            "INFO:tensorflow:*** Available Device: _DeviceAttributes(/job:worker/replica:0/task:0/device:TPU_SYSTEM:0, TPU_SYSTEM, 0, 0)\n"
          ],
          "name": "stderr"
        },
        {
          "output_type": "stream",
          "text": [
            "INFO:tensorflow:*** Available Device: _DeviceAttributes(/job:worker/replica:0/task:0/device:XLA_CPU:0, XLA_CPU, 0, 0)\n"
          ],
          "name": "stdout"
        },
        {
          "output_type": "stream",
          "text": [
            "INFO:tensorflow:*** Available Device: _DeviceAttributes(/job:worker/replica:0/task:0/device:XLA_CPU:0, XLA_CPU, 0, 0)\n"
          ],
          "name": "stderr"
        }
      ]
    },
    {
      "cell_type": "code",
      "metadata": {
        "id": "ESOUnO4PFnMZ"
      },
      "source": [
        "tf.config.optimizer.set_jit(True)"
      ],
      "execution_count": 4,
      "outputs": []
    },
    {
      "cell_type": "code",
      "metadata": {
        "id": "f2x7Alg8Ggkr",
        "outputId": "82bd9d5d-87f1-4cb2-8d8e-5f006119108d",
        "colab": {
          "base_uri": "https://localhost:8080/"
        }
      },
      "source": [
        "# the data, split between train and test sets\n",
        "dataset = fashion_mnist\n",
        "dataset = mnist\n",
        "\n",
        "\n",
        "(x_train, y_train), (x_test, y_test) = dataset.load_data()\n",
        "\n",
        "x_train = np.expand_dims(x_train, -1)\n",
        "x_test = np.expand_dims(x_test, -1)\n",
        "\n",
        "x_train = x_train.astype(np.float32)/255\n",
        "x_test = x_test.astype(np.float32)/255\n",
        "y_train = y_train.astype(np.int)\n",
        "y_test = y_test.astype(np.int)\n",
        "\n",
        "print('x_train shape:', x_train.shape)\n",
        "print('x_test shape:', x_test.shape)"
      ],
      "execution_count": 5,
      "outputs": [
        {
          "output_type": "stream",
          "text": [
            "x_train shape: (60000, 28, 28, 1)\n",
            "x_test shape: (10000, 28, 28, 1)\n"
          ],
          "name": "stdout"
        }
      ]
    },
    {
      "cell_type": "code",
      "metadata": {
        "id": "TWe0A9RaZ2r6"
      },
      "source": [
        "def gen_model(activation=\"relu\"):\n",
        "  s = tf.keras.Input(shape=(28, 28, 1))\n",
        "  h = tf.keras.layers.Flatten()(s)\n",
        "  h = tf.keras.layers.Dense(128, activation=activation)(h)\n",
        "  out = tf.keras.layers.Dense(10)(h)\n",
        "  return tf.keras.Model(inputs=s, outputs=out)\n",
        "\n",
        "\n",
        "def compile_model(model, lr=0.001):\n",
        "  model.compile(loss=keras.losses.SparseCategoricalCrossentropy(from_logits=True),\n",
        "                optimizer=keras.optimizers.Adam(learning_rate=lr),\n",
        "                metrics=['accuracy'])\n",
        "  \n",
        "\n",
        "early_stop = tf.keras.callbacks.EarlyStopping(\n",
        "      monitor='val_accuracy',\n",
        "      patience=10,\n",
        "      restore_best_weights=True,\n",
        ")"
      ],
      "execution_count": 6,
      "outputs": []
    },
    {
      "cell_type": "code",
      "metadata": {
        "id": "Z5NllJuVPPwt",
        "outputId": "d1778474-a21d-4b2f-e7bd-dbb5949e7991",
        "colab": {
          "base_uri": "https://localhost:8080/"
        }
      },
      "source": [
        "%%time\n",
        "with strategy.scope():\n",
        "  model = gen_model()\n",
        "  compile_model(model)\n",
        "  model.fit(x_train, y_train,\n",
        "            batch_size=128,\n",
        "            epochs=100,\n",
        "            verbose=1,\n",
        "            callbacks=[early_stop],\n",
        "            validation_data=(x_test, y_test),\n",
        "            validation_batch_size=2048)\n"
      ],
      "execution_count": 7,
      "outputs": [
        {
          "output_type": "stream",
          "text": [
            "Epoch 1/100\n",
            "WARNING:tensorflow:From /usr/local/lib/python3.6/dist-packages/tensorflow/python/data/ops/multi_device_iterator_ops.py:601: get_next_as_optional (from tensorflow.python.data.ops.iterator_ops) is deprecated and will be removed in a future version.\n",
            "Instructions for updating:\n",
            "Use `tf.data.Iterator.get_next_as_optional()` instead.\n"
          ],
          "name": "stdout"
        },
        {
          "output_type": "stream",
          "text": [
            "WARNING:tensorflow:From /usr/local/lib/python3.6/dist-packages/tensorflow/python/data/ops/multi_device_iterator_ops.py:601: get_next_as_optional (from tensorflow.python.data.ops.iterator_ops) is deprecated and will be removed in a future version.\n",
            "Instructions for updating:\n",
            "Use `tf.data.Iterator.get_next_as_optional()` instead.\n"
          ],
          "name": "stderr"
        },
        {
          "output_type": "stream",
          "text": [
            "\r  1/469 [..............................] - ETA: 1s - loss: 2.4464 - accuracy: 0.1250WARNING:tensorflow:Callbacks method `on_train_batch_end` is slow compared to the batch time (batch time: 0.0036s vs `on_train_batch_end` time: 0.0154s). Check your callbacks.\n"
          ],
          "name": "stdout"
        },
        {
          "output_type": "stream",
          "text": [
            "WARNING:tensorflow:Callbacks method `on_train_batch_end` is slow compared to the batch time (batch time: 0.0036s vs `on_train_batch_end` time: 0.0154s). Check your callbacks.\n"
          ],
          "name": "stderr"
        },
        {
          "output_type": "stream",
          "text": [
            "469/469 [==============================] - ETA: 0s - loss: 0.3610 - accuracy: 0.9005WARNING:tensorflow:Callbacks method `on_test_batch_end` is slow compared to the batch time (batch time: 0.0016s vs `on_test_batch_end` time: 0.0154s). Check your callbacks.\n"
          ],
          "name": "stdout"
        },
        {
          "output_type": "stream",
          "text": [
            "WARNING:tensorflow:Callbacks method `on_test_batch_end` is slow compared to the batch time (batch time: 0.0016s vs `on_test_batch_end` time: 0.0154s). Check your callbacks.\n"
          ],
          "name": "stderr"
        },
        {
          "output_type": "stream",
          "text": [
            "469/469 [==============================] - 11s 23ms/step - loss: 0.3610 - accuracy: 0.9005 - val_loss: 0.1913 - val_accuracy: 0.9444\n",
            "Epoch 2/100\n",
            "469/469 [==============================] - 8s 18ms/step - loss: 0.1635 - accuracy: 0.9525 - val_loss: 0.1402 - val_accuracy: 0.9568\n",
            "Epoch 3/100\n",
            "469/469 [==============================] - 8s 17ms/step - loss: 0.1181 - accuracy: 0.9659 - val_loss: 0.1131 - val_accuracy: 0.9674\n",
            "Epoch 4/100\n",
            "469/469 [==============================] - 8s 17ms/step - loss: 0.0919 - accuracy: 0.9735 - val_loss: 0.0957 - val_accuracy: 0.9705\n",
            "Epoch 5/100\n",
            "469/469 [==============================] - 8s 17ms/step - loss: 0.0750 - accuracy: 0.9782 - val_loss: 0.0915 - val_accuracy: 0.9717\n",
            "Epoch 6/100\n",
            "469/469 [==============================] - 8s 17ms/step - loss: 0.0622 - accuracy: 0.9819 - val_loss: 0.0829 - val_accuracy: 0.9745\n",
            "Epoch 7/100\n",
            "469/469 [==============================] - 9s 18ms/step - loss: 0.0514 - accuracy: 0.9852 - val_loss: 0.0803 - val_accuracy: 0.9738\n",
            "Epoch 8/100\n",
            "469/469 [==============================] - 8s 17ms/step - loss: 0.0453 - accuracy: 0.9870 - val_loss: 0.0818 - val_accuracy: 0.9764\n",
            "Epoch 9/100\n",
            "469/469 [==============================] - 8s 17ms/step - loss: 0.0369 - accuracy: 0.9897 - val_loss: 0.0781 - val_accuracy: 0.9763\n",
            "Epoch 10/100\n",
            "469/469 [==============================] - 8s 17ms/step - loss: 0.0316 - accuracy: 0.9910 - val_loss: 0.0760 - val_accuracy: 0.9776\n",
            "Epoch 11/100\n",
            "469/469 [==============================] - 8s 18ms/step - loss: 0.0265 - accuracy: 0.9927 - val_loss: 0.0738 - val_accuracy: 0.9785\n",
            "Epoch 12/100\n",
            "469/469 [==============================] - 9s 18ms/step - loss: 0.0226 - accuracy: 0.9942 - val_loss: 0.0741 - val_accuracy: 0.9788\n",
            "Epoch 13/100\n",
            "469/469 [==============================] - 9s 19ms/step - loss: 0.0199 - accuracy: 0.9950 - val_loss: 0.0728 - val_accuracy: 0.9776\n",
            "Epoch 14/100\n",
            "469/469 [==============================] - 9s 20ms/step - loss: 0.0166 - accuracy: 0.9961 - val_loss: 0.0753 - val_accuracy: 0.9783\n",
            "Epoch 15/100\n",
            "469/469 [==============================] - 9s 19ms/step - loss: 0.0137 - accuracy: 0.9970 - val_loss: 0.0757 - val_accuracy: 0.9796\n",
            "Epoch 16/100\n",
            "469/469 [==============================] - 9s 19ms/step - loss: 0.0122 - accuracy: 0.9975 - val_loss: 0.0744 - val_accuracy: 0.9799\n",
            "Epoch 17/100\n",
            "469/469 [==============================] - 8s 18ms/step - loss: 0.0099 - accuracy: 0.9981 - val_loss: 0.0840 - val_accuracy: 0.9770\n",
            "Epoch 18/100\n",
            "469/469 [==============================] - 8s 18ms/step - loss: 0.0085 - accuracy: 0.9983 - val_loss: 0.0757 - val_accuracy: 0.9804\n",
            "Epoch 19/100\n",
            "469/469 [==============================] - 8s 17ms/step - loss: 0.0081 - accuracy: 0.9985 - val_loss: 0.0824 - val_accuracy: 0.9788\n",
            "Epoch 20/100\n",
            "469/469 [==============================] - 8s 17ms/step - loss: 0.0062 - accuracy: 0.9990 - val_loss: 0.0787 - val_accuracy: 0.9787\n",
            "Epoch 21/100\n",
            "469/469 [==============================] - 8s 17ms/step - loss: 0.0057 - accuracy: 0.9989 - val_loss: 0.0820 - val_accuracy: 0.9779\n",
            "Epoch 22/100\n",
            "469/469 [==============================] - 8s 18ms/step - loss: 0.0068 - accuracy: 0.9985 - val_loss: 0.0796 - val_accuracy: 0.9803\n",
            "Epoch 23/100\n",
            "469/469 [==============================] - 8s 17ms/step - loss: 0.0039 - accuracy: 0.9996 - val_loss: 0.0809 - val_accuracy: 0.9796\n",
            "Epoch 24/100\n",
            "469/469 [==============================] - 8s 17ms/step - loss: 0.0028 - accuracy: 0.9997 - val_loss: 0.0847 - val_accuracy: 0.9787\n",
            "Epoch 25/100\n",
            "469/469 [==============================] - 10s 21ms/step - loss: 0.0026 - accuracy: 0.9998 - val_loss: 0.0856 - val_accuracy: 0.9791\n",
            "Epoch 26/100\n",
            "469/469 [==============================] - 8s 17ms/step - loss: 0.0022 - accuracy: 0.9998 - val_loss: 0.1093 - val_accuracy: 0.9742\n",
            "Epoch 27/100\n",
            "469/469 [==============================] - 8s 17ms/step - loss: 0.0111 - accuracy: 0.9963 - val_loss: 0.0914 - val_accuracy: 0.9794\n",
            "Epoch 28/100\n",
            "469/469 [==============================] - 8s 17ms/step - loss: 0.0027 - accuracy: 0.9996 - val_loss: 0.0906 - val_accuracy: 0.9794\n",
            "CPU times: user 1min 32s, sys: 21.1 s, total: 1min 53s\n",
            "Wall time: 4min 2s\n"
          ],
          "name": "stdout"
        }
      ]
    },
    {
      "cell_type": "code",
      "metadata": {
        "id": "tf3PBVa9M2ry",
        "outputId": "ee189937-9299-4801-e298-4d52a06e3ebd",
        "colab": {
          "base_uri": "https://localhost:8080/"
        }
      },
      "source": [
        "score = model.evaluate(x_test, y_test, verbose=0)\n",
        "print('Test loss:', score[0])\n",
        "print('Test accuracy:', score[1])\n"
      ],
      "execution_count": 8,
      "outputs": [
        {
          "output_type": "stream",
          "text": [
            "Test loss: 0.07568933814764023\n",
            "Test accuracy: 0.9803999662399292\n"
          ],
          "name": "stdout"
        }
      ]
    }
  ]
}