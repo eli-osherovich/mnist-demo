{
  "nbformat": 4,
  "nbformat_minor": 0,
  "metadata": {
    "colab": {
      "name": "mnist-1",
      "provenance": [],
      "collapsed_sections": [],
      "authorship_tag": "ABX9TyNBU/7k8DwVOUZT3hEyFt14",
      "include_colab_link": true
    },
    "kernelspec": {
      "name": "python3",
      "display_name": "Python 3"
    },
    "accelerator": "GPU"
  },
  "cells": [
    {
      "cell_type": "markdown",
      "metadata": {
        "id": "view-in-github",
        "colab_type": "text"
      },
      "source": [
        "<a href=\"https://colab.research.google.com/github/eli-osherovich/mnist-demo/blob/main/mnist_1.ipynb\" target=\"_parent\"><img src=\"https://colab.research.google.com/assets/colab-badge.svg\" alt=\"Open In Colab\"/></a>"
      ]
    },
    {
      "cell_type": "code",
      "metadata": {
        "id": "IkuNVlXOG6ip"
      },
      "source": [
        "import numpy as np\n",
        "\n",
        "import tensorflow as tf\n",
        "from tensorflow import keras\n",
        "from keras.datasets import mnist, fashion_mnist"
      ],
      "execution_count": 1,
      "outputs": []
    },
    {
      "cell_type": "code",
      "metadata": {
        "id": "6txAjVhtvhzv",
        "outputId": "31d12500-e715-47a8-be14-74cab872acff",
        "colab": {
          "base_uri": "https://localhost:8080/"
        }
      },
      "source": [
        "!nvidia-smi -L"
      ],
      "execution_count": 2,
      "outputs": [
        {
          "output_type": "stream",
          "text": [
            "GPU 0: Tesla V100-SXM2-16GB (UUID: GPU-4ad56268-ed75-26b5-1bfe-a9e896d40486)\n"
          ],
          "name": "stdout"
        }
      ]
    },
    {
      "cell_type": "code",
      "metadata": {
        "id": "Q5DJVTIg5Svw",
        "outputId": "33baf194-f8cd-4fc5-ddc4-51cc3142531b",
        "colab": {
          "base_uri": "https://localhost:8080/"
        }
      },
      "source": [
        "# Set training context (TPU, GPU or CPU)\n",
        "try:\n",
        "  tpu =  tf.distribute.cluster_resolver.TPUClusterResolver()\n",
        "  print('Running on TPU ', tpu.cluster_spec().as_dict()['worker'])\n",
        "\n",
        "  tf.config.experimental_connect_to_cluster(tpu)\n",
        "  tf.tpu.experimental.initialize_tpu_system(tpu)\n",
        "\n",
        "  strategy = tf.distribute.TPUStrategy(tpu)\n",
        "  # policy = tf.keras.mixed_precision.experimental.Policy('mixed_bfloat16')\n",
        "except ValueError:\n",
        "  print(\"Cannot conect to tpu, using default accelerator\")\n",
        "  strategy = tf.distribute.get_strategy()\n",
        "  # policy = tf.keras.mixed_precision.experimental.Policy('mixed_float16')\n",
        "\n"
      ],
      "execution_count": 3,
      "outputs": [
        {
          "output_type": "stream",
          "text": [
            "Cannot conect to tpu, using default accelerator\n"
          ],
          "name": "stdout"
        }
      ]
    },
    {
      "cell_type": "code",
      "metadata": {
        "id": "ESOUnO4PFnMZ"
      },
      "source": [
        "tf.config.optimizer.set_jit(True)"
      ],
      "execution_count": 4,
      "outputs": []
    },
    {
      "cell_type": "code",
      "metadata": {
        "id": "f2x7Alg8Ggkr",
        "outputId": "0b4d1198-e01e-4050-a57b-87c691d6cd89",
        "colab": {
          "base_uri": "https://localhost:8080/"
        }
      },
      "source": [
        "# the data, split between train and test sets\n",
        "dataset = fashion_mnist\n",
        "dataset = mnist\n",
        "\n",
        "\n",
        "(x_train, y_train), (x_test, y_test) = dataset.load_data()\n",
        "\n",
        "x_train = np.expand_dims(x_train, -1)\n",
        "x_test = np.expand_dims(x_test, -1)\n",
        "\n",
        "x_train = x_train.astype(np.float32)/255\n",
        "x_test = x_test.astype(np.float32)/255\n",
        "y_train = y_train.astype(np.int)\n",
        "y_test = y_test.astype(np.int)\n",
        "\n",
        "print('x_train shape:', x_train.shape)\n",
        "print('x_test shape:', x_test.shape)"
      ],
      "execution_count": 5,
      "outputs": [
        {
          "output_type": "stream",
          "text": [
            "Downloading data from https://storage.googleapis.com/tensorflow/tf-keras-datasets/mnist.npz\n",
            "11493376/11490434 [==============================] - 0s 0us/step\n",
            "x_train shape: (60000, 28, 28, 1)\n",
            "x_test shape: (10000, 28, 28, 1)\n"
          ],
          "name": "stdout"
        }
      ]
    },
    {
      "cell_type": "code",
      "metadata": {
        "id": "TWe0A9RaZ2r6"
      },
      "source": [
        "def gen_model(activation=\"relu\"):\n",
        "  s = tf.keras.Input(shape=(28, 28, 1))\n",
        "  h = tf.keras.layers.Flatten()(s)\n",
        "  h = tf.keras.layers.Dense(128, activation=activation)(h)\n",
        "  out = tf.keras.layers.Dense(10)(h)\n",
        "  return tf.keras.Model(inputs=s, outputs=out)\n",
        "\n",
        "\n",
        "def compile_model(model, lr=0.001):\n",
        "  model.compile(loss=keras.losses.SparseCategoricalCrossentropy(from_logits=True),\n",
        "                optimizer=keras.optimizers.Adam(learning_rate=lr),\n",
        "                metrics=['accuracy'])\n",
        "  \n",
        "\n",
        "early_stop = tf.keras.callbacks.EarlyStopping(\n",
        "      monitor='val_accuracy',\n",
        "      patience=10,\n",
        "      restore_best_weights=True,\n",
        ")"
      ],
      "execution_count": 6,
      "outputs": []
    },
    {
      "cell_type": "code",
      "metadata": {
        "id": "Z5NllJuVPPwt",
        "outputId": "5b1ae909-85b1-4ea7-9a12-91c8ac265a77",
        "colab": {
          "base_uri": "https://localhost:8080/"
        }
      },
      "source": [
        "%%time\n",
        "with strategy.scope():\n",
        "  model = gen_model()\n",
        "  compile_model(model)\n",
        "  model.fit(x_train, y_train,\n",
        "            batch_size=128,\n",
        "            epochs=100,\n",
        "            verbose=1,\n",
        "            callbacks=[early_stop],\n",
        "            validation_data=(x_test, y_test),\n",
        "            validation_batch_size=2048)\n"
      ],
      "execution_count": 7,
      "outputs": [
        {
          "output_type": "stream",
          "text": [
            "Epoch 1/100\n",
            "469/469 [==============================] - 2s 5ms/step - loss: 0.3637 - accuracy: 0.8987 - val_loss: 0.1954 - val_accuracy: 0.9408\n",
            "Epoch 2/100\n",
            "469/469 [==============================] - 2s 5ms/step - loss: 0.1657 - accuracy: 0.9525 - val_loss: 0.1366 - val_accuracy: 0.9613\n",
            "Epoch 3/100\n",
            "469/469 [==============================] - 1s 2ms/step - loss: 0.1176 - accuracy: 0.9667 - val_loss: 0.1101 - val_accuracy: 0.9677\n",
            "Epoch 4/100\n",
            "469/469 [==============================] - 1s 3ms/step - loss: 0.0900 - accuracy: 0.9739 - val_loss: 0.0959 - val_accuracy: 0.9716\n",
            "Epoch 5/100\n",
            "469/469 [==============================] - 1s 3ms/step - loss: 0.0727 - accuracy: 0.9793 - val_loss: 0.0911 - val_accuracy: 0.9726\n",
            "Epoch 6/100\n",
            "469/469 [==============================] - 1s 2ms/step - loss: 0.0599 - accuracy: 0.9827 - val_loss: 0.0775 - val_accuracy: 0.9777\n",
            "Epoch 7/100\n",
            "469/469 [==============================] - 1s 2ms/step - loss: 0.0500 - accuracy: 0.9857 - val_loss: 0.0810 - val_accuracy: 0.9746\n",
            "Epoch 8/100\n",
            "469/469 [==============================] - 1s 2ms/step - loss: 0.0415 - accuracy: 0.9885 - val_loss: 0.0744 - val_accuracy: 0.9764\n",
            "Epoch 9/100\n",
            "469/469 [==============================] - 1s 2ms/step - loss: 0.0346 - accuracy: 0.9905 - val_loss: 0.0737 - val_accuracy: 0.9779\n",
            "Epoch 10/100\n",
            "469/469 [==============================] - 1s 2ms/step - loss: 0.0296 - accuracy: 0.9921 - val_loss: 0.0765 - val_accuracy: 0.9741\n",
            "Epoch 11/100\n",
            "469/469 [==============================] - 1s 2ms/step - loss: 0.0255 - accuracy: 0.9935 - val_loss: 0.0717 - val_accuracy: 0.9780\n",
            "Epoch 12/100\n",
            "469/469 [==============================] - 1s 2ms/step - loss: 0.0209 - accuracy: 0.9949 - val_loss: 0.0794 - val_accuracy: 0.9764\n",
            "Epoch 13/100\n",
            "469/469 [==============================] - 1s 2ms/step - loss: 0.0184 - accuracy: 0.9956 - val_loss: 0.0737 - val_accuracy: 0.9780\n",
            "Epoch 14/100\n",
            "469/469 [==============================] - 1s 2ms/step - loss: 0.0154 - accuracy: 0.9965 - val_loss: 0.0779 - val_accuracy: 0.9772\n",
            "Epoch 15/100\n",
            "469/469 [==============================] - 1s 2ms/step - loss: 0.0141 - accuracy: 0.9967 - val_loss: 0.0763 - val_accuracy: 0.9783\n",
            "Epoch 16/100\n",
            "469/469 [==============================] - 1s 2ms/step - loss: 0.0110 - accuracy: 0.9980 - val_loss: 0.0836 - val_accuracy: 0.9769\n",
            "Epoch 17/100\n",
            "469/469 [==============================] - 1s 2ms/step - loss: 0.0100 - accuracy: 0.9979 - val_loss: 0.0775 - val_accuracy: 0.9774\n",
            "Epoch 18/100\n",
            "469/469 [==============================] - 1s 2ms/step - loss: 0.0082 - accuracy: 0.9985 - val_loss: 0.0757 - val_accuracy: 0.9778\n",
            "Epoch 19/100\n",
            "469/469 [==============================] - 1s 2ms/step - loss: 0.0080 - accuracy: 0.9985 - val_loss: 0.0889 - val_accuracy: 0.9759\n",
            "Epoch 20/100\n",
            "469/469 [==============================] - 1s 2ms/step - loss: 0.0060 - accuracy: 0.9992 - val_loss: 0.0799 - val_accuracy: 0.9794\n",
            "Epoch 21/100\n",
            "469/469 [==============================] - 1s 2ms/step - loss: 0.0044 - accuracy: 0.9996 - val_loss: 0.0818 - val_accuracy: 0.9790\n",
            "Epoch 22/100\n",
            "469/469 [==============================] - 1s 2ms/step - loss: 0.0054 - accuracy: 0.9989 - val_loss: 0.0871 - val_accuracy: 0.9768\n",
            "Epoch 23/100\n",
            "469/469 [==============================] - 1s 2ms/step - loss: 0.0043 - accuracy: 0.9994 - val_loss: 0.0911 - val_accuracy: 0.9774\n",
            "Epoch 24/100\n",
            "469/469 [==============================] - 1s 2ms/step - loss: 0.0048 - accuracy: 0.9990 - val_loss: 0.1052 - val_accuracy: 0.9741\n",
            "Epoch 25/100\n",
            "469/469 [==============================] - 1s 2ms/step - loss: 0.0047 - accuracy: 0.9991 - val_loss: 0.0954 - val_accuracy: 0.9785\n",
            "Epoch 26/100\n",
            "469/469 [==============================] - 1s 2ms/step - loss: 0.0029 - accuracy: 0.9997 - val_loss: 0.0910 - val_accuracy: 0.9789\n",
            "Epoch 27/100\n",
            "469/469 [==============================] - 1s 2ms/step - loss: 0.0034 - accuracy: 0.9994 - val_loss: 0.0893 - val_accuracy: 0.9801\n",
            "Epoch 28/100\n",
            "469/469 [==============================] - 1s 2ms/step - loss: 0.0047 - accuracy: 0.9988 - val_loss: 0.0983 - val_accuracy: 0.9763\n",
            "Epoch 29/100\n",
            "469/469 [==============================] - 1s 2ms/step - loss: 0.0017 - accuracy: 0.9999 - val_loss: 0.0945 - val_accuracy: 0.9792\n",
            "Epoch 30/100\n",
            "469/469 [==============================] - 1s 2ms/step - loss: 9.0125e-04 - accuracy: 1.0000 - val_loss: 0.0932 - val_accuracy: 0.9806\n",
            "Epoch 31/100\n",
            "469/469 [==============================] - 1s 2ms/step - loss: 8.2483e-04 - accuracy: 0.9999 - val_loss: 0.0932 - val_accuracy: 0.9794\n",
            "Epoch 32/100\n",
            "469/469 [==============================] - 1s 2ms/step - loss: 7.1900e-04 - accuracy: 1.0000 - val_loss: 0.0973 - val_accuracy: 0.9791\n",
            "Epoch 33/100\n",
            "469/469 [==============================] - 1s 2ms/step - loss: 0.0101 - accuracy: 0.9967 - val_loss: 0.1161 - val_accuracy: 0.9764\n",
            "Epoch 34/100\n",
            "469/469 [==============================] - 1s 2ms/step - loss: 0.0026 - accuracy: 0.9995 - val_loss: 0.0968 - val_accuracy: 0.9785\n",
            "Epoch 35/100\n",
            "469/469 [==============================] - 1s 2ms/step - loss: 0.0012 - accuracy: 0.9999 - val_loss: 0.0993 - val_accuracy: 0.9783\n",
            "Epoch 36/100\n",
            "469/469 [==============================] - 1s 2ms/step - loss: 4.7755e-04 - accuracy: 1.0000 - val_loss: 0.0981 - val_accuracy: 0.9784\n",
            "Epoch 37/100\n",
            "469/469 [==============================] - 1s 2ms/step - loss: 3.6665e-04 - accuracy: 1.0000 - val_loss: 0.0972 - val_accuracy: 0.9785\n",
            "Epoch 38/100\n",
            "469/469 [==============================] - 1s 2ms/step - loss: 3.2010e-04 - accuracy: 1.0000 - val_loss: 0.0989 - val_accuracy: 0.9789\n",
            "Epoch 39/100\n",
            "469/469 [==============================] - 1s 2ms/step - loss: 2.9373e-04 - accuracy: 1.0000 - val_loss: 0.0989 - val_accuracy: 0.9787\n",
            "Epoch 40/100\n",
            "469/469 [==============================] - 1s 2ms/step - loss: 2.8160e-04 - accuracy: 1.0000 - val_loss: 0.1005 - val_accuracy: 0.9793\n",
            "CPU times: user 49.6 s, sys: 6.32 s, total: 55.9 s\n",
            "Wall time: 52.4 s\n"
          ],
          "name": "stdout"
        }
      ]
    },
    {
      "cell_type": "code",
      "metadata": {
        "id": "tf3PBVa9M2ry",
        "outputId": "1fe44dd4-1b0c-4bdc-c556-12f460a59552",
        "colab": {
          "base_uri": "https://localhost:8080/"
        }
      },
      "source": [
        "score = model.evaluate(x_test, y_test, verbose=0)\n",
        "print('Test loss:', score[0])\n",
        "print('Test accuracy:', score[1])\n"
      ],
      "execution_count": 8,
      "outputs": [
        {
          "output_type": "stream",
          "text": [
            "Test loss: 0.09318169206380844\n",
            "Test accuracy: 0.9806000590324402\n"
          ],
          "name": "stdout"
        }
      ]
    }
  ]
}