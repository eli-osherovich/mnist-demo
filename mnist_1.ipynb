{
  "nbformat": 4,
  "nbformat_minor": 0,
  "metadata": {
    "colab": {
      "name": "mnist-1",
      "provenance": [],
      "collapsed_sections": [],
      "authorship_tag": "ABX9TyOp3lPD1Y86T8Wk0hh8HvnX",
      "include_colab_link": true
    },
    "kernelspec": {
      "name": "python3",
      "display_name": "Python 3"
    },
    "accelerator": "GPU"
  },
  "cells": [
    {
      "cell_type": "markdown",
      "metadata": {
        "id": "view-in-github",
        "colab_type": "text"
      },
      "source": [
        "<a href=\"https://colab.research.google.com/github/eli-osherovich/mnist-demo/blob/main/mnist_1.ipynb\" target=\"_parent\"><img src=\"https://colab.research.google.com/assets/colab-badge.svg\" alt=\"Open In Colab\"/></a>"
      ]
    },
    {
      "cell_type": "code",
      "metadata": {
        "id": "IkuNVlXOG6ip"
      },
      "source": [
        "import numpy as np\n",
        "\n",
        "import tensorflow as tf\n",
        "from tensorflow import keras\n",
        "from keras.datasets import mnist, fashion_mnist"
      ],
      "execution_count": 1,
      "outputs": []
    },
    {
      "cell_type": "code",
      "metadata": {
        "id": "6txAjVhtvhzv",
        "outputId": "f3b7de3d-9535-4b15-edc3-2b159c376d5c",
        "colab": {
          "base_uri": "https://localhost:8080/"
        }
      },
      "source": [
        "!nvidia-smi -L"
      ],
      "execution_count": 2,
      "outputs": [
        {
          "output_type": "stream",
          "text": [
            "GPU 0: Tesla V100-SXM2-16GB (UUID: GPU-d9cf7bd4-1287-af8f-62b4-6b70cd7478ea)\n"
          ],
          "name": "stdout"
        }
      ]
    },
    {
      "cell_type": "code",
      "metadata": {
        "id": "f2x7Alg8Ggkr",
        "outputId": "95aa19b8-df72-47f6-c70f-c773ffa16cb8",
        "colab": {
          "base_uri": "https://localhost:8080/"
        }
      },
      "source": [
        "# the data, split between train and test sets\n",
        "dataset = fashion_mnist\n",
        "dataset = mnist\n",
        "\n",
        "\n",
        "(x_train, y_train), (x_test, y_test) = dataset.load_data()\n",
        "\n",
        "x_train = np.expand_dims(x_train, -1)\n",
        "x_test = np.expand_dims(x_test, -1)\n",
        "\n",
        "x_train = x_train.astype(np.float32)/255\n",
        "x_test = x_test.astype(np.float32)/255\n",
        "y_train = y_train.astype(np.int)\n",
        "y_test = y_test.astype(np.int)\n",
        "\n",
        "print('x_train shape:', x_train.shape)\n",
        "print('x_test shape:', x_test.shape)"
      ],
      "execution_count": 3,
      "outputs": [
        {
          "output_type": "stream",
          "text": [
            "x_train shape: (60000, 28, 28, 1)\n",
            "x_test shape: (10000, 28, 28, 1)\n"
          ],
          "name": "stdout"
        }
      ]
    },
    {
      "cell_type": "code",
      "metadata": {
        "id": "TWe0A9RaZ2r6"
      },
      "source": [
        "def gen_model(activation=\"relu\"):\n",
        "  model = tf.keras.models.Sequential()\n",
        "  model.add(tf.keras.Input(shape=(28, 28, 1)))\n",
        "  model.add(tf.keras.layers.Flatten())\n",
        "\n",
        "  model.add(tf.keras.layers.Dense(128, activation=activation))\n",
        "  model.add(tf.keras.layers.Dense(10))\n",
        "  return model\n",
        "\n",
        "\n",
        "def compile_model(model, lr=0.001):\n",
        "  model.compile(loss=keras.losses.SparseCategoricalCrossentropy(from_logits=True),\n",
        "                optimizer=keras.optimizers.Adam(learning_rate=lr),\n",
        "                metrics=['accuracy'])\n",
        "  \n",
        "\n",
        "early_stop = tf.keras.callbacks.EarlyStopping(\n",
        "      monitor='val_accuracy',\n",
        "      patience=20,\n",
        "      restore_best_weights=True,\n",
        ")"
      ],
      "execution_count": 4,
      "outputs": []
    },
    {
      "cell_type": "code",
      "metadata": {
        "id": "Z5NllJuVPPwt",
        "outputId": "d4a9d728-42f7-4fe4-f343-20fe9d610566",
        "colab": {
          "base_uri": "https://localhost:8080/"
        }
      },
      "source": [
        "%%time\n",
        "model = gen_model()\n",
        "compile_model(model)\n",
        "model.fit(x_train, y_train,\n",
        "          batch_size=128,\n",
        "          epochs=1000,\n",
        "          verbose=1,\n",
        "          callbacks=[early_stop],\n",
        "          validation_data=(x_test, y_test),\n",
        "          validation_batch_size=2048)\n"
      ],
      "execution_count": 5,
      "outputs": [
        {
          "output_type": "stream",
          "text": [
            "Epoch 1/1000\n",
            "469/469 [==============================] - 1s 3ms/step - loss: 0.3504 - accuracy: 0.9050 - val_loss: 0.1918 - val_accuracy: 0.9442\n",
            "Epoch 2/1000\n",
            "469/469 [==============================] - 1s 2ms/step - loss: 0.1665 - accuracy: 0.9522 - val_loss: 0.1374 - val_accuracy: 0.9589\n",
            "Epoch 3/1000\n",
            "469/469 [==============================] - 1s 2ms/step - loss: 0.1195 - accuracy: 0.9663 - val_loss: 0.1155 - val_accuracy: 0.9653\n",
            "Epoch 4/1000\n",
            "469/469 [==============================] - 1s 3ms/step - loss: 0.0929 - accuracy: 0.9732 - val_loss: 0.0992 - val_accuracy: 0.9710\n",
            "Epoch 5/1000\n",
            "469/469 [==============================] - 1s 2ms/step - loss: 0.0745 - accuracy: 0.9790 - val_loss: 0.0862 - val_accuracy: 0.9740\n",
            "Epoch 6/1000\n",
            "469/469 [==============================] - 1s 2ms/step - loss: 0.0611 - accuracy: 0.9821 - val_loss: 0.0848 - val_accuracy: 0.9738\n",
            "Epoch 7/1000\n",
            "469/469 [==============================] - 1s 2ms/step - loss: 0.0517 - accuracy: 0.9849 - val_loss: 0.0785 - val_accuracy: 0.9755\n",
            "Epoch 8/1000\n",
            "469/469 [==============================] - 1s 2ms/step - loss: 0.0431 - accuracy: 0.9874 - val_loss: 0.0791 - val_accuracy: 0.9757\n",
            "Epoch 9/1000\n",
            "469/469 [==============================] - 1s 2ms/step - loss: 0.0357 - accuracy: 0.9905 - val_loss: 0.0807 - val_accuracy: 0.9754\n",
            "Epoch 10/1000\n",
            "469/469 [==============================] - 1s 3ms/step - loss: 0.0313 - accuracy: 0.9918 - val_loss: 0.0720 - val_accuracy: 0.9781\n",
            "Epoch 11/1000\n",
            "469/469 [==============================] - 1s 2ms/step - loss: 0.0263 - accuracy: 0.9936 - val_loss: 0.0718 - val_accuracy: 0.9789\n",
            "Epoch 12/1000\n",
            "469/469 [==============================] - 1s 2ms/step - loss: 0.0226 - accuracy: 0.9942 - val_loss: 0.0721 - val_accuracy: 0.9786\n",
            "Epoch 13/1000\n",
            "469/469 [==============================] - 1s 2ms/step - loss: 0.0189 - accuracy: 0.9955 - val_loss: 0.0739 - val_accuracy: 0.9790\n",
            "Epoch 14/1000\n",
            "469/469 [==============================] - 1s 2ms/step - loss: 0.0161 - accuracy: 0.9966 - val_loss: 0.0749 - val_accuracy: 0.9788\n",
            "Epoch 15/1000\n",
            "469/469 [==============================] - 1s 2ms/step - loss: 0.0140 - accuracy: 0.9968 - val_loss: 0.0743 - val_accuracy: 0.9794\n",
            "Epoch 16/1000\n",
            "469/469 [==============================] - 1s 2ms/step - loss: 0.0125 - accuracy: 0.9970 - val_loss: 0.0799 - val_accuracy: 0.9767\n",
            "Epoch 17/1000\n",
            "469/469 [==============================] - 1s 2ms/step - loss: 0.0098 - accuracy: 0.9981 - val_loss: 0.0753 - val_accuracy: 0.9797\n",
            "Epoch 18/1000\n",
            "469/469 [==============================] - 1s 2ms/step - loss: 0.0089 - accuracy: 0.9985 - val_loss: 0.0760 - val_accuracy: 0.9797\n",
            "Epoch 19/1000\n",
            "469/469 [==============================] - 1s 2ms/step - loss: 0.0077 - accuracy: 0.9984 - val_loss: 0.0786 - val_accuracy: 0.9780\n",
            "Epoch 20/1000\n",
            "469/469 [==============================] - 1s 2ms/step - loss: 0.0068 - accuracy: 0.9990 - val_loss: 0.0817 - val_accuracy: 0.9787\n",
            "Epoch 21/1000\n",
            "469/469 [==============================] - 1s 2ms/step - loss: 0.0055 - accuracy: 0.9993 - val_loss: 0.0808 - val_accuracy: 0.9782\n",
            "Epoch 22/1000\n",
            "469/469 [==============================] - 1s 3ms/step - loss: 0.0049 - accuracy: 0.9993 - val_loss: 0.0858 - val_accuracy: 0.9790\n",
            "Epoch 23/1000\n",
            "469/469 [==============================] - 1s 2ms/step - loss: 0.0052 - accuracy: 0.9991 - val_loss: 0.0859 - val_accuracy: 0.9776\n",
            "Epoch 24/1000\n",
            "469/469 [==============================] - 1s 3ms/step - loss: 0.0046 - accuracy: 0.9993 - val_loss: 0.0830 - val_accuracy: 0.9788\n",
            "Epoch 25/1000\n",
            "469/469 [==============================] - 1s 2ms/step - loss: 0.0037 - accuracy: 0.9994 - val_loss: 0.0881 - val_accuracy: 0.9789\n",
            "Epoch 26/1000\n",
            "469/469 [==============================] - 1s 2ms/step - loss: 0.0031 - accuracy: 0.9995 - val_loss: 0.0892 - val_accuracy: 0.9789\n",
            "Epoch 27/1000\n",
            "469/469 [==============================] - 1s 2ms/step - loss: 0.0062 - accuracy: 0.9983 - val_loss: 0.0915 - val_accuracy: 0.9781\n",
            "Epoch 28/1000\n",
            "469/469 [==============================] - 1s 2ms/step - loss: 0.0023 - accuracy: 0.9998 - val_loss: 0.0884 - val_accuracy: 0.9790\n",
            "Epoch 29/1000\n",
            "469/469 [==============================] - 1s 2ms/step - loss: 0.0011 - accuracy: 1.0000 - val_loss: 0.0868 - val_accuracy: 0.9805\n",
            "Epoch 30/1000\n",
            "469/469 [==============================] - 1s 2ms/step - loss: 7.9256e-04 - accuracy: 1.0000 - val_loss: 0.0858 - val_accuracy: 0.9806\n",
            "Epoch 31/1000\n",
            "469/469 [==============================] - 1s 2ms/step - loss: 8.5912e-04 - accuracy: 1.0000 - val_loss: 0.0931 - val_accuracy: 0.9791\n",
            "Epoch 32/1000\n",
            "469/469 [==============================] - 1s 2ms/step - loss: 0.0105 - accuracy: 0.9963 - val_loss: 0.1067 - val_accuracy: 0.9758\n",
            "Epoch 33/1000\n",
            "469/469 [==============================] - 1s 2ms/step - loss: 0.0023 - accuracy: 0.9997 - val_loss: 0.0932 - val_accuracy: 0.9795\n",
            "Epoch 34/1000\n",
            "469/469 [==============================] - 1s 2ms/step - loss: 8.7453e-04 - accuracy: 1.0000 - val_loss: 0.0939 - val_accuracy: 0.9797\n",
            "Epoch 35/1000\n",
            "469/469 [==============================] - 1s 2ms/step - loss: 5.2448e-04 - accuracy: 1.0000 - val_loss: 0.0922 - val_accuracy: 0.9798\n",
            "Epoch 36/1000\n",
            "469/469 [==============================] - 1s 2ms/step - loss: 4.3855e-04 - accuracy: 1.0000 - val_loss: 0.0929 - val_accuracy: 0.9794\n",
            "Epoch 37/1000\n",
            "469/469 [==============================] - 1s 2ms/step - loss: 3.8260e-04 - accuracy: 1.0000 - val_loss: 0.0949 - val_accuracy: 0.9801\n",
            "Epoch 38/1000\n",
            "469/469 [==============================] - 1s 2ms/step - loss: 4.3927e-04 - accuracy: 1.0000 - val_loss: 0.0961 - val_accuracy: 0.9804\n",
            "Epoch 39/1000\n",
            "469/469 [==============================] - 1s 2ms/step - loss: 0.0110 - accuracy: 0.9966 - val_loss: 0.1105 - val_accuracy: 0.9774\n",
            "Epoch 40/1000\n",
            "469/469 [==============================] - 1s 2ms/step - loss: 0.0041 - accuracy: 0.9988 - val_loss: 0.0981 - val_accuracy: 0.9801\n",
            "Epoch 41/1000\n",
            "469/469 [==============================] - 1s 2ms/step - loss: 7.7557e-04 - accuracy: 1.0000 - val_loss: 0.0982 - val_accuracy: 0.9797\n",
            "Epoch 42/1000\n",
            "469/469 [==============================] - 1s 2ms/step - loss: 3.6738e-04 - accuracy: 1.0000 - val_loss: 0.0994 - val_accuracy: 0.9797\n",
            "Epoch 43/1000\n",
            "469/469 [==============================] - 1s 2ms/step - loss: 2.9012e-04 - accuracy: 1.0000 - val_loss: 0.0983 - val_accuracy: 0.9795\n",
            "Epoch 44/1000\n",
            "469/469 [==============================] - 1s 2ms/step - loss: 2.6477e-04 - accuracy: 1.0000 - val_loss: 0.0999 - val_accuracy: 0.9800\n",
            "Epoch 45/1000\n",
            "469/469 [==============================] - 1s 2ms/step - loss: 2.2746e-04 - accuracy: 1.0000 - val_loss: 0.0994 - val_accuracy: 0.9803\n",
            "Epoch 46/1000\n",
            "469/469 [==============================] - 1s 2ms/step - loss: 2.0634e-04 - accuracy: 1.0000 - val_loss: 0.1008 - val_accuracy: 0.9802\n",
            "Epoch 47/1000\n",
            "469/469 [==============================] - 1s 2ms/step - loss: 3.0145e-04 - accuracy: 1.0000 - val_loss: 0.1025 - val_accuracy: 0.9790\n",
            "Epoch 48/1000\n",
            "469/469 [==============================] - 1s 2ms/step - loss: 0.0109 - accuracy: 0.9965 - val_loss: 0.1088 - val_accuracy: 0.9784\n",
            "Epoch 49/1000\n",
            "469/469 [==============================] - 1s 2ms/step - loss: 0.0018 - accuracy: 0.9996 - val_loss: 0.1057 - val_accuracy: 0.9796\n",
            "Epoch 50/1000\n",
            "469/469 [==============================] - 1s 2ms/step - loss: 3.7753e-04 - accuracy: 1.0000 - val_loss: 0.1041 - val_accuracy: 0.9798\n",
            "CPU times: user 1min 5s, sys: 7.98 s, total: 1min 13s\n",
            "Wall time: 56.7 s\n"
          ],
          "name": "stdout"
        }
      ]
    },
    {
      "cell_type": "code",
      "metadata": {
        "id": "tf3PBVa9M2ry",
        "outputId": "7b46100c-f9ea-4374-af52-afaac3faf205",
        "colab": {
          "base_uri": "https://localhost:8080/"
        }
      },
      "source": [
        "score = model.evaluate(x_test, y_test, verbose=0)\n",
        "print('Test loss:', score[0])\n",
        "print('Test accuracy:', score[1])\n"
      ],
      "execution_count": 6,
      "outputs": [
        {
          "output_type": "stream",
          "text": [
            "Test loss: 0.08576986938714981\n",
            "Test accuracy: 0.9805999994277954\n"
          ],
          "name": "stdout"
        }
      ]
    },
    {
      "cell_type": "code",
      "metadata": {
        "id": "8H270az8NaRR"
      },
      "source": [
        ""
      ],
      "execution_count": 6,
      "outputs": []
    }
  ]
}