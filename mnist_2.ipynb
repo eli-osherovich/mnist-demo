{
  "nbformat": 4,
  "nbformat_minor": 0,
  "metadata": {
    "colab": {
      "name": "mnist-2",
      "provenance": [],
      "collapsed_sections": [],
      "authorship_tag": "ABX9TyN0w76yxeB7Oca0oAUPxnyR",
      "include_colab_link": true
    },
    "kernelspec": {
      "name": "python3",
      "display_name": "Python 3"
    },
    "accelerator": "GPU"
  },
  "cells": [
    {
      "cell_type": "markdown",
      "metadata": {
        "id": "view-in-github",
        "colab_type": "text"
      },
      "source": [
        "<a href=\"https://colab.research.google.com/github/eli-osherovich/mnist-demo/blob/main/mnist_2.ipynb\" target=\"_parent\"><img src=\"https://colab.research.google.com/assets/colab-badge.svg\" alt=\"Open In Colab\"/></a>"
      ]
    },
    {
      "cell_type": "code",
      "metadata": {
        "id": "IkuNVlXOG6ip"
      },
      "source": [
        "import numpy as np\n",
        "\n",
        "import tensorflow as tf\n",
        "from tensorflow import keras\n",
        "from keras.datasets import mnist, fashion_mnist"
      ],
      "execution_count": 1,
      "outputs": []
    },
    {
      "cell_type": "code",
      "metadata": {
        "id": "6txAjVhtvhzv",
        "outputId": "007cb3c5-1c8f-4531-aa9d-533de6a885a5",
        "colab": {
          "base_uri": "https://localhost:8080/"
        }
      },
      "source": [
        "!nvidia-smi -L"
      ],
      "execution_count": 2,
      "outputs": [
        {
          "output_type": "stream",
          "text": [
            "GPU 0: Tesla V100-SXM2-16GB (UUID: GPU-3f01f1de-db72-d54f-7376-7bb1cfa64352)\n"
          ],
          "name": "stdout"
        }
      ]
    },
    {
      "cell_type": "code",
      "metadata": {
        "id": "ESOUnO4PFnMZ"
      },
      "source": [
        "tf.config.optimizer.set_jit(True)"
      ],
      "execution_count": 3,
      "outputs": []
    },
    {
      "cell_type": "code",
      "metadata": {
        "id": "f2x7Alg8Ggkr",
        "outputId": "0007f083-a737-44a4-fd45-b8552136316b",
        "colab": {
          "base_uri": "https://localhost:8080/"
        }
      },
      "source": [
        "# the data, split between train and test sets\n",
        "dataset = fashion_mnist\n",
        "dataset = mnist\n",
        "\n",
        "\n",
        "(x_train, y_train), (x_test, y_test) = dataset.load_data()\n",
        "\n",
        "x_train = np.expand_dims(x_train, -1)\n",
        "x_test = np.expand_dims(x_test, -1)\n",
        "\n",
        "x_train = x_train.astype(np.float32)/255\n",
        "x_test = x_test.astype(np.float32)/255\n",
        "y_train = y_train.astype(np.int)\n",
        "y_test = y_test.astype(np.int)\n",
        "\n",
        "print('x_train shape:', x_train.shape)\n",
        "print('x_test shape:', x_test.shape)"
      ],
      "execution_count": 4,
      "outputs": [
        {
          "output_type": "stream",
          "text": [
            "x_train shape: (60000, 28, 28, 1)\n",
            "x_test shape: (10000, 28, 28, 1)\n"
          ],
          "name": "stdout"
        }
      ]
    },
    {
      "cell_type": "code",
      "metadata": {
        "id": "TWe0A9RaZ2r6"
      },
      "source": [
        "def gen_model(activation=\"relu\"):\n",
        "  s = tf.keras.Input(shape=(28, 28, 1))\n",
        "  h = tf.keras.layers.Flatten()(s)\n",
        "  # h = tf.keras.layers.Dropout(0.1)(h)\n",
        "  h = tf.keras.layers.Dense(128, activation=activation)(h)\n",
        "  h = tf.keras.layers.Dropout(0.4)(h)\n",
        "\n",
        "  out = tf.keras.layers.Dense(10)(h)\n",
        "  return tf.keras.Model(inputs=s, outputs=out)\n",
        "\n",
        "\n",
        "def compile_model(model, lr=0.001):\n",
        "  model.compile(loss=keras.losses.SparseCategoricalCrossentropy(from_logits=True),\n",
        "                optimizer=keras.optimizers.Adam(learning_rate=lr),\n",
        "                metrics=['accuracy'])\n",
        "  \n",
        "\n",
        "early_stop = tf.keras.callbacks.EarlyStopping(\n",
        "      monitor='val_accuracy',\n",
        "      patience=10,\n",
        "      restore_best_weights=True,\n",
        ")"
      ],
      "execution_count": 5,
      "outputs": []
    },
    {
      "cell_type": "code",
      "metadata": {
        "id": "Z5NllJuVPPwt",
        "outputId": "3eccd6ed-6474-4415-cec3-4860997ac93a",
        "colab": {
          "base_uri": "https://localhost:8080/"
        }
      },
      "source": [
        "%%time\n",
        "model = gen_model()\n",
        "compile_model(model)\n",
        "model.fit(x_train, y_train,\n",
        "          batch_size=128,\n",
        "          epochs=100,\n",
        "          verbose=1,\n",
        "          callbacks=[early_stop],\n",
        "          validation_data=(x_test, y_test),\n",
        "          validation_batch_size=2048)\n"
      ],
      "execution_count": 6,
      "outputs": [
        {
          "output_type": "stream",
          "text": [
            "Epoch 1/100\n",
            "469/469 [==============================] - 2s 4ms/step - loss: 0.4700 - accuracy: 0.8626 - val_loss: 0.2118 - val_accuracy: 0.9400\n",
            "Epoch 2/100\n",
            "469/469 [==============================] - 2s 5ms/step - loss: 0.2404 - accuracy: 0.9302 - val_loss: 0.1545 - val_accuracy: 0.9534\n",
            "Epoch 3/100\n",
            "469/469 [==============================] - 1s 2ms/step - loss: 0.1888 - accuracy: 0.9459 - val_loss: 0.1245 - val_accuracy: 0.9635\n",
            "Epoch 4/100\n",
            "469/469 [==============================] - 1s 2ms/step - loss: 0.1580 - accuracy: 0.9545 - val_loss: 0.1093 - val_accuracy: 0.9663\n",
            "Epoch 5/100\n",
            "469/469 [==============================] - 1s 2ms/step - loss: 0.1397 - accuracy: 0.9590 - val_loss: 0.0981 - val_accuracy: 0.9702\n",
            "Epoch 6/100\n",
            "469/469 [==============================] - 1s 2ms/step - loss: 0.1261 - accuracy: 0.9620 - val_loss: 0.0907 - val_accuracy: 0.9713\n",
            "Epoch 7/100\n",
            "469/469 [==============================] - 1s 3ms/step - loss: 0.1144 - accuracy: 0.9649 - val_loss: 0.0848 - val_accuracy: 0.9731\n",
            "Epoch 8/100\n",
            "469/469 [==============================] - 1s 2ms/step - loss: 0.1069 - accuracy: 0.9677 - val_loss: 0.0819 - val_accuracy: 0.9742\n",
            "Epoch 9/100\n",
            "469/469 [==============================] - 1s 3ms/step - loss: 0.0996 - accuracy: 0.9698 - val_loss: 0.0813 - val_accuracy: 0.9756\n",
            "Epoch 10/100\n",
            "469/469 [==============================] - 1s 2ms/step - loss: 0.0934 - accuracy: 0.9711 - val_loss: 0.0758 - val_accuracy: 0.9767\n",
            "Epoch 11/100\n",
            "469/469 [==============================] - 1s 2ms/step - loss: 0.0873 - accuracy: 0.9723 - val_loss: 0.0725 - val_accuracy: 0.9775\n",
            "Epoch 12/100\n",
            "469/469 [==============================] - 1s 2ms/step - loss: 0.0843 - accuracy: 0.9734 - val_loss: 0.0706 - val_accuracy: 0.9780\n",
            "Epoch 13/100\n",
            "469/469 [==============================] - 1s 2ms/step - loss: 0.0803 - accuracy: 0.9753 - val_loss: 0.0723 - val_accuracy: 0.9780\n",
            "Epoch 14/100\n",
            "469/469 [==============================] - 1s 3ms/step - loss: 0.0777 - accuracy: 0.9758 - val_loss: 0.0683 - val_accuracy: 0.9794\n",
            "Epoch 15/100\n",
            "469/469 [==============================] - 1s 2ms/step - loss: 0.0749 - accuracy: 0.9767 - val_loss: 0.0676 - val_accuracy: 0.9785\n",
            "Epoch 16/100\n",
            "469/469 [==============================] - 1s 2ms/step - loss: 0.0711 - accuracy: 0.9768 - val_loss: 0.0682 - val_accuracy: 0.9791\n",
            "Epoch 17/100\n",
            "469/469 [==============================] - 1s 3ms/step - loss: 0.0693 - accuracy: 0.9781 - val_loss: 0.0685 - val_accuracy: 0.9794\n",
            "Epoch 18/100\n",
            "469/469 [==============================] - 1s 2ms/step - loss: 0.0669 - accuracy: 0.9789 - val_loss: 0.0687 - val_accuracy: 0.9793\n",
            "Epoch 19/100\n",
            "469/469 [==============================] - 1s 2ms/step - loss: 0.0635 - accuracy: 0.9795 - val_loss: 0.0661 - val_accuracy: 0.9812\n",
            "Epoch 20/100\n",
            "469/469 [==============================] - 1s 2ms/step - loss: 0.0620 - accuracy: 0.9798 - val_loss: 0.0662 - val_accuracy: 0.9801\n",
            "Epoch 21/100\n",
            "469/469 [==============================] - 1s 2ms/step - loss: 0.0590 - accuracy: 0.9806 - val_loss: 0.0698 - val_accuracy: 0.9800\n",
            "Epoch 22/100\n",
            "469/469 [==============================] - 1s 2ms/step - loss: 0.0605 - accuracy: 0.9799 - val_loss: 0.0722 - val_accuracy: 0.9809\n",
            "Epoch 23/100\n",
            "469/469 [==============================] - 1s 3ms/step - loss: 0.0570 - accuracy: 0.9815 - val_loss: 0.0673 - val_accuracy: 0.9807\n",
            "Epoch 24/100\n",
            "469/469 [==============================] - 1s 2ms/step - loss: 0.0547 - accuracy: 0.9821 - val_loss: 0.0692 - val_accuracy: 0.9796\n",
            "Epoch 25/100\n",
            "469/469 [==============================] - 1s 2ms/step - loss: 0.0547 - accuracy: 0.9815 - val_loss: 0.0693 - val_accuracy: 0.9808\n",
            "Epoch 26/100\n",
            "469/469 [==============================] - 1s 2ms/step - loss: 0.0531 - accuracy: 0.9822 - val_loss: 0.0706 - val_accuracy: 0.9810\n",
            "Epoch 27/100\n",
            "469/469 [==============================] - 1s 3ms/step - loss: 0.0525 - accuracy: 0.9830 - val_loss: 0.0691 - val_accuracy: 0.9805\n",
            "Epoch 28/100\n",
            "469/469 [==============================] - 1s 2ms/step - loss: 0.0495 - accuracy: 0.9832 - val_loss: 0.0721 - val_accuracy: 0.9809\n",
            "Epoch 29/100\n",
            "469/469 [==============================] - 1s 2ms/step - loss: 0.0502 - accuracy: 0.9827 - val_loss: 0.0743 - val_accuracy: 0.9802\n",
            "CPU times: user 40.4 s, sys: 5.09 s, total: 45.5 s\n",
            "Wall time: 37.7 s\n"
          ],
          "name": "stdout"
        }
      ]
    },
    {
      "cell_type": "code",
      "metadata": {
        "id": "tf3PBVa9M2ry",
        "outputId": "228f44fd-159f-409e-85eb-a7b3d2362aea",
        "colab": {
          "base_uri": "https://localhost:8080/"
        }
      },
      "source": [
        "score = model.evaluate(x_test, y_test, verbose=0)\n",
        "print('Test loss:', score[0])\n",
        "print('Test accuracy:', score[1])\n"
      ],
      "execution_count": 7,
      "outputs": [
        {
          "output_type": "stream",
          "text": [
            "Test loss: 0.06611675769090652\n",
            "Test accuracy: 0.9812000393867493\n"
          ],
          "name": "stdout"
        }
      ]
    },
    {
      "cell_type": "code",
      "metadata": {
        "id": "-lH8wWQdUm-P"
      },
      "source": [
        ""
      ],
      "execution_count": 7,
      "outputs": []
    }
  ]
}