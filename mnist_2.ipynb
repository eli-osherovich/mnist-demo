{
  "nbformat": 4,
  "nbformat_minor": 0,
  "metadata": {
    "colab": {
      "name": "mnist-2",
      "provenance": [],
      "collapsed_sections": [],
      "authorship_tag": "ABX9TyNXDOdwCkc0bCK2VwO0hfe0",
      "include_colab_link": true
    },
    "kernelspec": {
      "name": "python3",
      "display_name": "Python 3"
    },
    "accelerator": "GPU"
  },
  "cells": [
    {
      "cell_type": "markdown",
      "metadata": {
        "id": "view-in-github",
        "colab_type": "text"
      },
      "source": [
        "<a href=\"https://colab.research.google.com/github/eli-osherovich/mnist-demo/blob/main/mnist_2.ipynb\" target=\"_parent\"><img src=\"https://colab.research.google.com/assets/colab-badge.svg\" alt=\"Open In Colab\"/></a>"
      ]
    },
    {
      "cell_type": "code",
      "metadata": {
        "id": "IkuNVlXOG6ip"
      },
      "source": [
        "import numpy as np\n",
        "\n",
        "import tensorflow as tf\n",
        "from tensorflow import keras\n",
        "from keras.datasets import mnist, fashion_mnist"
      ],
      "execution_count": 1,
      "outputs": []
    },
    {
      "cell_type": "code",
      "metadata": {
        "id": "6txAjVhtvhzv",
        "outputId": "f0e2f331-bd1a-4c7a-f7fc-3c7cfd9f8241",
        "colab": {
          "base_uri": "https://localhost:8080/"
        }
      },
      "source": [
        "!nvidia-smi -L"
      ],
      "execution_count": 2,
      "outputs": [
        {
          "output_type": "stream",
          "text": [
            "GPU 0: Tesla V100-SXM2-16GB (UUID: GPU-0c656e69-30c0-3a96-a9af-1a0b45c1b79b)\n"
          ],
          "name": "stdout"
        }
      ]
    },
    {
      "cell_type": "code",
      "metadata": {
        "id": "ESOUnO4PFnMZ"
      },
      "source": [
        "tf.config.optimizer.set_jit(True)"
      ],
      "execution_count": 3,
      "outputs": []
    },
    {
      "cell_type": "code",
      "metadata": {
        "id": "f2x7Alg8Ggkr",
        "outputId": "c3bc7f04-9bab-4b0f-cfd0-9f7417fc803a",
        "colab": {
          "base_uri": "https://localhost:8080/"
        }
      },
      "source": [
        "# the data, split between train and test sets\n",
        "dataset = fashion_mnist()\n",
        "dataset = mnist\n",
        "\n",
        "\n",
        "(x_train, y_train),(x_test, y_test) = dataset.load_data()\n",
        "\n",
        "x_train = np.expand_dims(x_train, -1)\n",
        "x_test = np.expand_dims(x_test, -1)\n",
        "\n",
        "x_train = x_train.astype(np.float32)/255\n",
        "x_test = x_test.astype(np.float32)/255\n",
        "y_train = y_train.astype(np.int)\n",
        "y_test = y_test.astype(np.int)\n",
        "\n",
        "print('x_train shape:', x_train.shape)\n",
        "print('x_test shape:', x_test.shape)"
      ],
      "execution_count": 4,
      "outputs": [
        {
          "output_type": "stream",
          "text": [
            "x_train shape: (60000, 28, 28, 1)\n",
            "x_test shape: (10000, 28, 28, 1)\n"
          ],
          "name": "stdout"
        }
      ]
    },
    {
      "cell_type": "code",
      "metadata": {
        "id": "TWe0A9RaZ2r6"
      },
      "source": [
        "def gen_model(activation=\"relu\"):\n",
        "  model = tf.keras.models.Sequential()\n",
        "  model.add(tf.keras.Input(shape=(28, 28, 1)))\n",
        "  model.add(tf.keras.layers.Flatten())\n",
        "\n",
        "  model.add(tf.keras.layers.Dense(128, activation=activation))\n",
        "  model.add(tf.keras.layers.Dropout(0.4))\n",
        "\n",
        "  model.add(tf.keras.layers.Dense(10))\n",
        "\n",
        "  return model\n",
        "\n",
        "def compile_model(model, lr=0.001):\n",
        "  model.compile(loss=keras.losses.SparseCategoricalCrossentropy(from_logits=True),\n",
        "                optimizer=keras.optimizers.Adam(learning_rate=lr),\n",
        "                metrics=['accuracy'])\n",
        "  \n",
        "\n",
        "early_stop = tf.keras.callbacks.EarlyStopping(\n",
        "      monitor='val_accuracy',\n",
        "      patience=20,\n",
        "      restore_best_weights=True,\n",
        ")"
      ],
      "execution_count": 5,
      "outputs": []
    },
    {
      "cell_type": "code",
      "metadata": {
        "id": "Z5NllJuVPPwt",
        "outputId": "ea530792-48e8-45b1-941e-34133af48205",
        "colab": {
          "base_uri": "https://localhost:8080/"
        }
      },
      "source": [
        "%%time\n",
        "model = gen_model()\n",
        "compile_model(model)\n",
        "model.fit(x_train, y_train,\n",
        "          batch_size=256,\n",
        "          epochs=100,\n",
        "          verbose=1,\n",
        "          callbacks=[early_stop],\n",
        "          validation_data=(x_train, y_train),\n",
        "          validation_batch_size=2048)\n"
      ],
      "execution_count": 6,
      "outputs": [
        {
          "output_type": "stream",
          "text": [
            "Epoch 1/1000\n",
            "469/469 [==============================] - 2s 4ms/step - loss: 0.4582 - accuracy: 0.8673 - val_loss: 0.2063 - val_accuracy: 0.9407\n",
            "Epoch 2/1000\n",
            "469/469 [==============================] - 2s 5ms/step - loss: 0.2347 - accuracy: 0.9315 - val_loss: 0.1522 - val_accuracy: 0.9555\n",
            "Epoch 3/1000\n",
            "469/469 [==============================] - 1s 3ms/step - loss: 0.1862 - accuracy: 0.9458 - val_loss: 0.1249 - val_accuracy: 0.9628\n",
            "Epoch 4/1000\n",
            "469/469 [==============================] - 1s 3ms/step - loss: 0.1569 - accuracy: 0.9542 - val_loss: 0.1057 - val_accuracy: 0.9691\n",
            "Epoch 5/1000\n",
            "469/469 [==============================] - 1s 3ms/step - loss: 0.1397 - accuracy: 0.9581 - val_loss: 0.0963 - val_accuracy: 0.9706\n",
            "Epoch 6/1000\n",
            "469/469 [==============================] - 1s 3ms/step - loss: 0.1239 - accuracy: 0.9629 - val_loss: 0.0867 - val_accuracy: 0.9727\n",
            "Epoch 7/1000\n",
            "469/469 [==============================] - 1s 3ms/step - loss: 0.1136 - accuracy: 0.9657 - val_loss: 0.0822 - val_accuracy: 0.9750\n",
            "Epoch 8/1000\n",
            "469/469 [==============================] - 1s 3ms/step - loss: 0.1045 - accuracy: 0.9681 - val_loss: 0.0784 - val_accuracy: 0.9760\n",
            "Epoch 9/1000\n",
            "469/469 [==============================] - 1s 3ms/step - loss: 0.0969 - accuracy: 0.9699 - val_loss: 0.0762 - val_accuracy: 0.9768\n",
            "Epoch 10/1000\n",
            "469/469 [==============================] - 1s 3ms/step - loss: 0.0929 - accuracy: 0.9711 - val_loss: 0.0775 - val_accuracy: 0.9762\n",
            "Epoch 11/1000\n",
            "469/469 [==============================] - 1s 3ms/step - loss: 0.0895 - accuracy: 0.9718 - val_loss: 0.0746 - val_accuracy: 0.9776\n",
            "Epoch 12/1000\n",
            "469/469 [==============================] - 1s 3ms/step - loss: 0.0834 - accuracy: 0.9740 - val_loss: 0.0697 - val_accuracy: 0.9785\n",
            "Epoch 13/1000\n",
            "469/469 [==============================] - 1s 3ms/step - loss: 0.0807 - accuracy: 0.9748 - val_loss: 0.0718 - val_accuracy: 0.9798\n",
            "Epoch 14/1000\n",
            "469/469 [==============================] - 1s 3ms/step - loss: 0.0747 - accuracy: 0.9757 - val_loss: 0.0672 - val_accuracy: 0.9797\n",
            "Epoch 15/1000\n",
            "469/469 [==============================] - 1s 3ms/step - loss: 0.0735 - accuracy: 0.9768 - val_loss: 0.0660 - val_accuracy: 0.9803\n",
            "Epoch 16/1000\n",
            "469/469 [==============================] - 1s 3ms/step - loss: 0.0708 - accuracy: 0.9778 - val_loss: 0.0640 - val_accuracy: 0.9819\n",
            "Epoch 17/1000\n",
            "469/469 [==============================] - 1s 3ms/step - loss: 0.0670 - accuracy: 0.9778 - val_loss: 0.0670 - val_accuracy: 0.9806\n",
            "Epoch 18/1000\n",
            "469/469 [==============================] - 1s 3ms/step - loss: 0.0654 - accuracy: 0.9782 - val_loss: 0.0674 - val_accuracy: 0.9808\n",
            "Epoch 19/1000\n",
            "469/469 [==============================] - 1s 3ms/step - loss: 0.0645 - accuracy: 0.9790 - val_loss: 0.0688 - val_accuracy: 0.9804\n",
            "Epoch 20/1000\n",
            "469/469 [==============================] - 1s 2ms/step - loss: 0.0614 - accuracy: 0.9802 - val_loss: 0.0681 - val_accuracy: 0.9811\n",
            "Epoch 21/1000\n",
            "469/469 [==============================] - 1s 3ms/step - loss: 0.0622 - accuracy: 0.9794 - val_loss: 0.0664 - val_accuracy: 0.9807\n",
            "Epoch 22/1000\n",
            "469/469 [==============================] - 1s 3ms/step - loss: 0.0568 - accuracy: 0.9813 - val_loss: 0.0682 - val_accuracy: 0.9817\n",
            "Epoch 23/1000\n",
            "469/469 [==============================] - 1s 3ms/step - loss: 0.0559 - accuracy: 0.9814 - val_loss: 0.0660 - val_accuracy: 0.9819\n",
            "Epoch 24/1000\n",
            "469/469 [==============================] - 1s 3ms/step - loss: 0.0546 - accuracy: 0.9814 - val_loss: 0.0690 - val_accuracy: 0.9813\n",
            "Epoch 25/1000\n",
            "469/469 [==============================] - 1s 3ms/step - loss: 0.0548 - accuracy: 0.9819 - val_loss: 0.0737 - val_accuracy: 0.9808\n",
            "Epoch 26/1000\n",
            "469/469 [==============================] - 1s 3ms/step - loss: 0.0516 - accuracy: 0.9831 - val_loss: 0.0657 - val_accuracy: 0.9828\n",
            "Epoch 27/1000\n",
            "469/469 [==============================] - 1s 3ms/step - loss: 0.0520 - accuracy: 0.9820 - val_loss: 0.0728 - val_accuracy: 0.9808\n",
            "Epoch 28/1000\n",
            "469/469 [==============================] - 1s 2ms/step - loss: 0.0498 - accuracy: 0.9829 - val_loss: 0.0671 - val_accuracy: 0.9820\n",
            "Epoch 29/1000\n",
            "469/469 [==============================] - 1s 3ms/step - loss: 0.0506 - accuracy: 0.9829 - val_loss: 0.0699 - val_accuracy: 0.9815\n",
            "Epoch 30/1000\n",
            "469/469 [==============================] - 1s 3ms/step - loss: 0.0499 - accuracy: 0.9829 - val_loss: 0.0682 - val_accuracy: 0.9822\n",
            "Epoch 31/1000\n",
            "469/469 [==============================] - 1s 3ms/step - loss: 0.0478 - accuracy: 0.9840 - val_loss: 0.0719 - val_accuracy: 0.9809\n",
            "Epoch 32/1000\n",
            "469/469 [==============================] - 1s 3ms/step - loss: 0.0448 - accuracy: 0.9848 - val_loss: 0.0735 - val_accuracy: 0.9817\n",
            "Epoch 33/1000\n",
            "469/469 [==============================] - 1s 3ms/step - loss: 0.0464 - accuracy: 0.9838 - val_loss: 0.0733 - val_accuracy: 0.9818\n",
            "Epoch 34/1000\n",
            "469/469 [==============================] - 1s 3ms/step - loss: 0.0442 - accuracy: 0.9847 - val_loss: 0.0695 - val_accuracy: 0.9821\n",
            "Epoch 35/1000\n",
            "469/469 [==============================] - 1s 3ms/step - loss: 0.0439 - accuracy: 0.9848 - val_loss: 0.0723 - val_accuracy: 0.9821\n",
            "Epoch 36/1000\n",
            "469/469 [==============================] - 1s 3ms/step - loss: 0.0435 - accuracy: 0.9855 - val_loss: 0.0734 - val_accuracy: 0.9801\n",
            "Epoch 37/1000\n",
            "469/469 [==============================] - 1s 3ms/step - loss: 0.0439 - accuracy: 0.9852 - val_loss: 0.0719 - val_accuracy: 0.9815\n",
            "Epoch 38/1000\n",
            "469/469 [==============================] - 1s 3ms/step - loss: 0.0423 - accuracy: 0.9854 - val_loss: 0.0746 - val_accuracy: 0.9825\n",
            "Epoch 39/1000\n",
            "469/469 [==============================] - 1s 3ms/step - loss: 0.0404 - accuracy: 0.9857 - val_loss: 0.0739 - val_accuracy: 0.9818\n",
            "Epoch 40/1000\n",
            "469/469 [==============================] - 1s 3ms/step - loss: 0.0404 - accuracy: 0.9861 - val_loss: 0.0786 - val_accuracy: 0.9815\n",
            "Epoch 41/1000\n",
            "469/469 [==============================] - 1s 3ms/step - loss: 0.0409 - accuracy: 0.9862 - val_loss: 0.0777 - val_accuracy: 0.9806\n",
            "Epoch 42/1000\n",
            "469/469 [==============================] - 1s 3ms/step - loss: 0.0387 - accuracy: 0.9866 - val_loss: 0.0792 - val_accuracy: 0.9814\n",
            "Epoch 43/1000\n",
            "469/469 [==============================] - 1s 3ms/step - loss: 0.0400 - accuracy: 0.9863 - val_loss: 0.0779 - val_accuracy: 0.9821\n",
            "Epoch 44/1000\n",
            "469/469 [==============================] - 1s 3ms/step - loss: 0.0381 - accuracy: 0.9868 - val_loss: 0.0773 - val_accuracy: 0.9805\n",
            "Epoch 45/1000\n",
            "469/469 [==============================] - 1s 3ms/step - loss: 0.0380 - accuracy: 0.9870 - val_loss: 0.0794 - val_accuracy: 0.9816\n",
            "Epoch 46/1000\n",
            "469/469 [==============================] - 1s 3ms/step - loss: 0.0377 - accuracy: 0.9871 - val_loss: 0.0824 - val_accuracy: 0.9808\n",
            "CPU times: user 1min 7s, sys: 8.04 s, total: 1min 15s\n",
            "Wall time: 1min 2s\n"
          ],
          "name": "stdout"
        }
      ]
    },
    {
      "cell_type": "code",
      "metadata": {
        "id": "tf3PBVa9M2ry",
        "outputId": "c700a0ea-a9e6-4c0f-8850-f47d03d260f2",
        "colab": {
          "base_uri": "https://localhost:8080/"
        }
      },
      "source": [
        "score = model.evaluate(x_test, y_test, verbose=0)\n",
        "print('Test loss:', score[0])\n",
        "print('Test accuracy:', score[1])\n"
      ],
      "source":[
        linear regression = model.fit(x_train,y_train)
        ]
      "execution_count": 7,
      "outputs": [
        {
          "output_type": "stream",
          "text": [
            "Test loss: 0.06565974652767181\n",
            "Test accuracy: 0.9828000664710999\n"
          ],
          "name": "stdout"
        }
      ]
    },
    {
      "cell_type": "code",
      "metadata": {
        "id": "-lH8wWQdUm-P"
      },
      "source": [
        ""
      ],
      "execution_count": 7,
      "outputs": []
    }
  ]
}
