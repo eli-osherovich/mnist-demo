{
  "nbformat": 4,
  "nbformat_minor": 0,
  "metadata": {
    "colab": {
      "name": "mnist-3",
      "provenance": [],
      "collapsed_sections": [],
      "authorship_tag": "ABX9TyMegrQhIt3VZkIWkCz8LbiM",
      "include_colab_link": true
    },
    "kernelspec": {
      "name": "python3",
      "display_name": "Python 3"
    },
    "accelerator": "GPU"
  },
  "cells": [
    {
      "cell_type": "markdown",
      "metadata": {
        "id": "view-in-github",
        "colab_type": "text"
      },
      "source": [
        "<a href=\"https://colab.research.google.com/github/eli-osherovich/mnist-demo/blob/main/mnist_3.ipynb\" target=\"_parent\"><img src=\"https://colab.research.google.com/assets/colab-badge.svg\" alt=\"Open In Colab\"/></a>"
      ]
    },
    {
      "cell_type": "code",
      "metadata": {
        "id": "IkuNVlXOG6ip"
      },
      "source": [
        "import numpy as np\n",
        "\n",
        "import tensorflow as tf\n",
        "from tensorflow import keras\n",
        "from keras.datasets import mnist, fashion_mnist"
      ],
      "execution_count": 1,
      "outputs": []
    },
    {
      "cell_type": "code",
      "metadata": {
        "id": "6txAjVhtvhzv",
        "outputId": "7d90aec1-9482-4150-8a16-fc88e014d4bc",
        "colab": {
          "base_uri": "https://localhost:8080/"
        }
      },
      "source": [
        "!nvidia-smi -L"
      ],
      "execution_count": 2,
      "outputs": [
        {
          "output_type": "stream",
          "text": [
            "GPU 0: Tesla V100-SXM2-16GB (UUID: GPU-3f01f1de-db72-d54f-7376-7bb1cfa64352)\n"
          ],
          "name": "stdout"
        }
      ]
    },
    {
      "cell_type": "code",
      "metadata": {
        "id": "ESOUnO4PFnMZ"
      },
      "source": [
        "tf.config.optimizer.set_jit(True)"
      ],
      "execution_count": 3,
      "outputs": []
    },
    {
      "cell_type": "code",
      "metadata": {
        "id": "f2x7Alg8Ggkr",
        "outputId": "217aeff0-481e-4c89-9d03-d169731bb216",
        "colab": {
          "base_uri": "https://localhost:8080/"
        }
      },
      "source": [
        "# the data, split between train and test sets\n",
        "dataset = fashion_mnist\n",
        "dataset = mnist\n",
        "\n",
        "\n",
        "(x_train, y_train), (x_test, y_test) = dataset.load_data()\n",
        "\n",
        "x_train = np.expand_dims(x_train, -1)\n",
        "x_test = np.expand_dims(x_test, -1)\n",
        "\n",
        "x_train = x_train.astype(np.float32)/255\n",
        "x_test = x_test.astype(np.float32)/255\n",
        "y_train = y_train.astype(np.int)\n",
        "y_test = y_test.astype(np.int)\n",
        "\n",
        "print('x_train shape:', x_train.shape)\n",
        "print('x_test shape:', x_test.shape)"
      ],
      "execution_count": 4,
      "outputs": [
        {
          "output_type": "stream",
          "text": [
            "x_train shape: (60000, 28, 28, 1)\n",
            "x_test shape: (10000, 28, 28, 1)\n"
          ],
          "name": "stdout"
        }
      ]
    },
    {
      "cell_type": "code",
      "metadata": {
        "id": "TWe0A9RaZ2r6"
      },
      "source": [
        "def gen_model(activation=\"relu\"):\n",
        "  s = tf.keras.Input(shape=(28, 28, 1))\n",
        "  h = tf.keras.layers.Flatten()(s)\n",
        "  h = tf.keras.layers.Dropout(0.1)(h)\n",
        "\n",
        "  h = tf.keras.layers.Dense(128, activation=activation)(h)\n",
        "  h = tf.keras.layers.Dropout(0.4)(h)\n",
        "\n",
        "  h = tf.keras.layers.Dense(128, activation=activation)(h)\n",
        "  \n",
        "  out = tf.keras.layers.Dense(10)(h)\n",
        "  return tf.keras.Model(inputs=s, outputs=out)\n",
        "\n",
        "\n",
        "def compile_model(model, lr=0.001):\n",
        "  model.compile(loss=keras.losses.SparseCategoricalCrossentropy(from_logits=True),\n",
        "                optimizer=keras.optimizers.Adam(learning_rate=lr),\n",
        "                metrics=['accuracy'])\n",
        "  \n",
        "\n",
        "early_stop = tf.keras.callbacks.EarlyStopping(\n",
        "      monitor='val_accuracy',\n",
        "      patience=10,\n",
        "      restore_best_weights=True,\n",
        ")"
      ],
      "execution_count": 5,
      "outputs": []
    },
    {
      "cell_type": "code",
      "metadata": {
        "id": "Z5NllJuVPPwt",
        "outputId": "32ed7975-3879-49f0-f4d9-f3d5cf8884ad",
        "colab": {
          "base_uri": "https://localhost:8080/"
        }
      },
      "source": [
        "%%time\n",
        "model = gen_model()\n",
        "compile_model(model)\n",
        "model.fit(x_train, y_train,\n",
        "          batch_size=128,\n",
        "          epochs=100,\n",
        "          verbose=1,\n",
        "          callbacks=[early_stop],\n",
        "          validation_data=(x_test, y_test),\n",
        "          validation_batch_size=2048)\n"
      ],
      "execution_count": 6,
      "outputs": [
        {
          "output_type": "stream",
          "text": [
            "Epoch 1/100\n",
            "469/469 [==============================] - 2s 4ms/step - loss: 0.4656 - accuracy: 0.8594 - val_loss: 0.1774 - val_accuracy: 0.9464\n",
            "Epoch 2/100\n",
            "469/469 [==============================] - 3s 5ms/step - loss: 0.2249 - accuracy: 0.9332 - val_loss: 0.1227 - val_accuracy: 0.9621\n",
            "Epoch 3/100\n",
            "469/469 [==============================] - 1s 3ms/step - loss: 0.1828 - accuracy: 0.9449 - val_loss: 0.1074 - val_accuracy: 0.9671\n",
            "Epoch 4/100\n",
            "469/469 [==============================] - 1s 3ms/step - loss: 0.1581 - accuracy: 0.9525 - val_loss: 0.0909 - val_accuracy: 0.9708\n",
            "Epoch 5/100\n",
            "469/469 [==============================] - 1s 3ms/step - loss: 0.1429 - accuracy: 0.9560 - val_loss: 0.0916 - val_accuracy: 0.9726\n",
            "Epoch 6/100\n",
            "469/469 [==============================] - 1s 3ms/step - loss: 0.1318 - accuracy: 0.9588 - val_loss: 0.0779 - val_accuracy: 0.9761\n",
            "Epoch 7/100\n",
            "469/469 [==============================] - 1s 3ms/step - loss: 0.1250 - accuracy: 0.9603 - val_loss: 0.0787 - val_accuracy: 0.9754\n",
            "Epoch 8/100\n",
            "469/469 [==============================] - 1s 3ms/step - loss: 0.1185 - accuracy: 0.9625 - val_loss: 0.0789 - val_accuracy: 0.9755\n",
            "Epoch 9/100\n",
            "469/469 [==============================] - 1s 3ms/step - loss: 0.1106 - accuracy: 0.9650 - val_loss: 0.0744 - val_accuracy: 0.9785\n",
            "Epoch 10/100\n",
            "469/469 [==============================] - 1s 3ms/step - loss: 0.1046 - accuracy: 0.9673 - val_loss: 0.0764 - val_accuracy: 0.9770\n",
            "Epoch 11/100\n",
            "469/469 [==============================] - 1s 3ms/step - loss: 0.1023 - accuracy: 0.9671 - val_loss: 0.0766 - val_accuracy: 0.9781\n",
            "Epoch 12/100\n",
            "469/469 [==============================] - 1s 3ms/step - loss: 0.1004 - accuracy: 0.9683 - val_loss: 0.0740 - val_accuracy: 0.9775\n",
            "Epoch 13/100\n",
            "469/469 [==============================] - 1s 3ms/step - loss: 0.0954 - accuracy: 0.9695 - val_loss: 0.0682 - val_accuracy: 0.9781\n",
            "Epoch 14/100\n",
            "469/469 [==============================] - 1s 3ms/step - loss: 0.0924 - accuracy: 0.9696 - val_loss: 0.0723 - val_accuracy: 0.9790\n",
            "Epoch 15/100\n",
            "469/469 [==============================] - 1s 3ms/step - loss: 0.0913 - accuracy: 0.9703 - val_loss: 0.0700 - val_accuracy: 0.9795\n",
            "Epoch 16/100\n",
            "469/469 [==============================] - 1s 3ms/step - loss: 0.0899 - accuracy: 0.9707 - val_loss: 0.0685 - val_accuracy: 0.9796\n",
            "Epoch 17/100\n",
            "469/469 [==============================] - 1s 3ms/step - loss: 0.0861 - accuracy: 0.9713 - val_loss: 0.0678 - val_accuracy: 0.9791\n",
            "Epoch 18/100\n",
            "469/469 [==============================] - 1s 3ms/step - loss: 0.0824 - accuracy: 0.9730 - val_loss: 0.0688 - val_accuracy: 0.9792\n",
            "Epoch 19/100\n",
            "469/469 [==============================] - 1s 3ms/step - loss: 0.0802 - accuracy: 0.9738 - val_loss: 0.0680 - val_accuracy: 0.9797\n",
            "Epoch 20/100\n",
            "469/469 [==============================] - 1s 3ms/step - loss: 0.0803 - accuracy: 0.9734 - val_loss: 0.0681 - val_accuracy: 0.9806\n",
            "Epoch 21/100\n",
            "469/469 [==============================] - 1s 3ms/step - loss: 0.0785 - accuracy: 0.9743 - val_loss: 0.0660 - val_accuracy: 0.9812\n",
            "Epoch 22/100\n",
            "469/469 [==============================] - 1s 3ms/step - loss: 0.0765 - accuracy: 0.9750 - val_loss: 0.0691 - val_accuracy: 0.9792\n",
            "Epoch 23/100\n",
            "469/469 [==============================] - 1s 3ms/step - loss: 0.0767 - accuracy: 0.9748 - val_loss: 0.0669 - val_accuracy: 0.9808\n",
            "Epoch 24/100\n",
            "469/469 [==============================] - 1s 3ms/step - loss: 0.0757 - accuracy: 0.9753 - val_loss: 0.0697 - val_accuracy: 0.9804\n",
            "Epoch 25/100\n",
            "469/469 [==============================] - 1s 3ms/step - loss: 0.0722 - accuracy: 0.9760 - val_loss: 0.0683 - val_accuracy: 0.9811\n",
            "Epoch 26/100\n",
            "469/469 [==============================] - 1s 3ms/step - loss: 0.0743 - accuracy: 0.9755 - val_loss: 0.0679 - val_accuracy: 0.9821\n",
            "Epoch 27/100\n",
            "469/469 [==============================] - 1s 3ms/step - loss: 0.0713 - accuracy: 0.9764 - val_loss: 0.0683 - val_accuracy: 0.9807\n",
            "Epoch 28/100\n",
            "469/469 [==============================] - 1s 3ms/step - loss: 0.0687 - accuracy: 0.9771 - val_loss: 0.0671 - val_accuracy: 0.9809\n",
            "Epoch 29/100\n",
            "469/469 [==============================] - 1s 3ms/step - loss: 0.0706 - accuracy: 0.9771 - val_loss: 0.0681 - val_accuracy: 0.9809\n",
            "Epoch 30/100\n",
            "469/469 [==============================] - 1s 3ms/step - loss: 0.0684 - accuracy: 0.9776 - val_loss: 0.0664 - val_accuracy: 0.9802\n",
            "Epoch 31/100\n",
            "469/469 [==============================] - 1s 3ms/step - loss: 0.0680 - accuracy: 0.9780 - val_loss: 0.0664 - val_accuracy: 0.9810\n",
            "Epoch 32/100\n",
            "469/469 [==============================] - 1s 3ms/step - loss: 0.0663 - accuracy: 0.9782 - val_loss: 0.0680 - val_accuracy: 0.9816\n",
            "Epoch 33/100\n",
            "469/469 [==============================] - 1s 3ms/step - loss: 0.0639 - accuracy: 0.9785 - val_loss: 0.0696 - val_accuracy: 0.9814\n",
            "Epoch 34/100\n",
            "469/469 [==============================] - 1s 3ms/step - loss: 0.0656 - accuracy: 0.9779 - val_loss: 0.0664 - val_accuracy: 0.9818\n",
            "Epoch 35/100\n",
            "469/469 [==============================] - 1s 3ms/step - loss: 0.0650 - accuracy: 0.9786 - val_loss: 0.0639 - val_accuracy: 0.9816\n",
            "Epoch 36/100\n",
            "469/469 [==============================] - 1s 3ms/step - loss: 0.0666 - accuracy: 0.9777 - val_loss: 0.0655 - val_accuracy: 0.9827\n",
            "Epoch 37/100\n",
            "469/469 [==============================] - 1s 3ms/step - loss: 0.0641 - accuracy: 0.9785 - val_loss: 0.0663 - val_accuracy: 0.9809\n",
            "Epoch 38/100\n",
            "469/469 [==============================] - 1s 3ms/step - loss: 0.0615 - accuracy: 0.9793 - val_loss: 0.0691 - val_accuracy: 0.9804\n",
            "Epoch 39/100\n",
            "469/469 [==============================] - 1s 3ms/step - loss: 0.0618 - accuracy: 0.9791 - val_loss: 0.0663 - val_accuracy: 0.9814\n",
            "Epoch 40/100\n",
            "469/469 [==============================] - 1s 3ms/step - loss: 0.0609 - accuracy: 0.9797 - val_loss: 0.0659 - val_accuracy: 0.9829\n",
            "Epoch 41/100\n",
            "469/469 [==============================] - 1s 3ms/step - loss: 0.0595 - accuracy: 0.9801 - val_loss: 0.0642 - val_accuracy: 0.9831\n",
            "Epoch 42/100\n",
            "469/469 [==============================] - 1s 3ms/step - loss: 0.0607 - accuracy: 0.9796 - val_loss: 0.0632 - val_accuracy: 0.9818\n",
            "Epoch 43/100\n",
            "469/469 [==============================] - 1s 3ms/step - loss: 0.0597 - accuracy: 0.9799 - val_loss: 0.0634 - val_accuracy: 0.9816\n",
            "Epoch 44/100\n",
            "469/469 [==============================] - 1s 3ms/step - loss: 0.0598 - accuracy: 0.9802 - val_loss: 0.0605 - val_accuracy: 0.9818\n",
            "Epoch 45/100\n",
            "469/469 [==============================] - 1s 3ms/step - loss: 0.0603 - accuracy: 0.9794 - val_loss: 0.0643 - val_accuracy: 0.9818\n",
            "Epoch 46/100\n",
            "469/469 [==============================] - 1s 3ms/step - loss: 0.0598 - accuracy: 0.9797 - val_loss: 0.0684 - val_accuracy: 0.9813\n",
            "Epoch 47/100\n",
            "469/469 [==============================] - 1s 3ms/step - loss: 0.0577 - accuracy: 0.9803 - val_loss: 0.0659 - val_accuracy: 0.9834\n",
            "Epoch 48/100\n",
            "469/469 [==============================] - 1s 3ms/step - loss: 0.0579 - accuracy: 0.9808 - val_loss: 0.0639 - val_accuracy: 0.9827\n",
            "Epoch 49/100\n",
            "469/469 [==============================] - 1s 3ms/step - loss: 0.0564 - accuracy: 0.9808 - val_loss: 0.0680 - val_accuracy: 0.9823\n",
            "Epoch 50/100\n",
            "469/469 [==============================] - 1s 3ms/step - loss: 0.0591 - accuracy: 0.9807 - val_loss: 0.0607 - val_accuracy: 0.9838\n",
            "Epoch 51/100\n",
            "469/469 [==============================] - 1s 3ms/step - loss: 0.0584 - accuracy: 0.9800 - val_loss: 0.0634 - val_accuracy: 0.9829\n",
            "Epoch 52/100\n",
            "469/469 [==============================] - 1s 3ms/step - loss: 0.0566 - accuracy: 0.9814 - val_loss: 0.0699 - val_accuracy: 0.9818\n",
            "Epoch 53/100\n",
            "469/469 [==============================] - 1s 3ms/step - loss: 0.0552 - accuracy: 0.9816 - val_loss: 0.0662 - val_accuracy: 0.9823\n",
            "Epoch 54/100\n",
            "469/469 [==============================] - 1s 3ms/step - loss: 0.0541 - accuracy: 0.9815 - val_loss: 0.0692 - val_accuracy: 0.9818\n",
            "Epoch 55/100\n",
            "469/469 [==============================] - 1s 3ms/step - loss: 0.0551 - accuracy: 0.9820 - val_loss: 0.0672 - val_accuracy: 0.9825\n",
            "Epoch 56/100\n",
            "469/469 [==============================] - 1s 3ms/step - loss: 0.0579 - accuracy: 0.9806 - val_loss: 0.0713 - val_accuracy: 0.9810\n",
            "Epoch 57/100\n",
            "469/469 [==============================] - 1s 3ms/step - loss: 0.0555 - accuracy: 0.9806 - val_loss: 0.0681 - val_accuracy: 0.9820\n",
            "Epoch 58/100\n",
            "469/469 [==============================] - 1s 3ms/step - loss: 0.0557 - accuracy: 0.9810 - val_loss: 0.0700 - val_accuracy: 0.9819\n",
            "Epoch 59/100\n",
            "469/469 [==============================] - 1s 3ms/step - loss: 0.0534 - accuracy: 0.9816 - val_loss: 0.0652 - val_accuracy: 0.9841\n",
            "Epoch 60/100\n",
            "469/469 [==============================] - 1s 3ms/step - loss: 0.0550 - accuracy: 0.9810 - val_loss: 0.0683 - val_accuracy: 0.9830\n",
            "Epoch 61/100\n",
            "469/469 [==============================] - 1s 3ms/step - loss: 0.0523 - accuracy: 0.9819 - val_loss: 0.0661 - val_accuracy: 0.9825\n",
            "Epoch 62/100\n",
            "469/469 [==============================] - 1s 3ms/step - loss: 0.0520 - accuracy: 0.9825 - val_loss: 0.0631 - val_accuracy: 0.9824\n",
            "Epoch 63/100\n",
            "469/469 [==============================] - 1s 3ms/step - loss: 0.0535 - accuracy: 0.9819 - val_loss: 0.0665 - val_accuracy: 0.9838\n",
            "Epoch 64/100\n",
            "469/469 [==============================] - 1s 3ms/step - loss: 0.0531 - accuracy: 0.9820 - val_loss: 0.0673 - val_accuracy: 0.9821\n",
            "Epoch 65/100\n",
            "469/469 [==============================] - 1s 3ms/step - loss: 0.0536 - accuracy: 0.9821 - val_loss: 0.0639 - val_accuracy: 0.9826\n",
            "Epoch 66/100\n",
            "469/469 [==============================] - 1s 3ms/step - loss: 0.0502 - accuracy: 0.9831 - val_loss: 0.0659 - val_accuracy: 0.9831\n",
            "Epoch 67/100\n",
            "469/469 [==============================] - 1s 3ms/step - loss: 0.0525 - accuracy: 0.9817 - val_loss: 0.0688 - val_accuracy: 0.9834\n",
            "Epoch 68/100\n",
            "469/469 [==============================] - 1s 3ms/step - loss: 0.0524 - accuracy: 0.9826 - val_loss: 0.0668 - val_accuracy: 0.9841\n",
            "Epoch 69/100\n",
            "469/469 [==============================] - 1s 3ms/step - loss: 0.0527 - accuracy: 0.9826 - val_loss: 0.0658 - val_accuracy: 0.9834\n",
            "CPU times: user 1min 40s, sys: 11.1 s, total: 1min 51s\n",
            "Wall time: 1min 31s\n"
          ],
          "name": "stdout"
        }
      ]
    },
    {
      "cell_type": "code",
      "metadata": {
        "id": "tf3PBVa9M2ry",
        "outputId": "98319b27-9f79-4331-da01-7adf4ea2fd02",
        "colab": {
          "base_uri": "https://localhost:8080/"
        }
      },
      "source": [
        "score = model.evaluate(x_test, y_test, verbose=0)\n",
        "print('Test loss:', score[0])\n",
        "print('Test accuracy:', score[1])\n"
      ],
      "execution_count": 7,
      "outputs": [
        {
          "output_type": "stream",
          "text": [
            "Test loss: 0.06524636596441269\n",
            "Test accuracy: 0.9841000437736511\n"
          ],
          "name": "stdout"
        }
      ]
    },
    {
      "cell_type": "code",
      "metadata": {
        "id": "-lH8wWQdUm-P"
      },
      "source": [
        ""
      ],
      "execution_count": 7,
      "outputs": []
    }
  ]
}