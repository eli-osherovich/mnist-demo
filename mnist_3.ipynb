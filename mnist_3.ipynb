{
  "nbformat": 4,
  "nbformat_minor": 0,
  "metadata": {
    "colab": {
      "name": "mnist-3",
      "provenance": [],
      "collapsed_sections": [],
      "authorship_tag": "ABX9TyMQ3qhiAZhyq7NAq4NM9f27",
      "include_colab_link": true
    },
    "kernelspec": {
      "name": "python3",
      "display_name": "Python 3"
    },
    "accelerator": "GPU"
  },
  "cells": [
    {
      "cell_type": "markdown",
      "metadata": {
        "id": "view-in-github",
        "colab_type": "text"
      },
      "source": [
        "<a href=\"https://colab.research.google.com/github/eli-osherovich/mnist-demo/blob/main/mnist_3.ipynb\" target=\"_parent\"><img src=\"https://colab.research.google.com/assets/colab-badge.svg\" alt=\"Open In Colab\"/></a>"
      ]
    },
    {
      "cell_type": "code",
      "metadata": {
        "id": "IkuNVlXOG6ip"
      },
      "source": [
        "import numpy as np\n",
        "\n",
        "import tensorflow as tf\n",
        "from tensorflow import keras\n",
        "from keras.datasets import mnist, fashion_mnist"
      ],
      "execution_count": 1,
      "outputs": []
    },
    {
      "cell_type": "code",
      "metadata": {
        "id": "6txAjVhtvhzv",
        "outputId": "8eb4a508-d3a4-49e1-a540-e999d461dde7",
        "colab": {
          "base_uri": "https://localhost:8080/"
        }
      },
      "source": [
        "!nvidia-smi -L"
      ],
      "execution_count": 2,
      "outputs": [
        {
          "output_type": "stream",
          "text": [
            "GPU 0: Tesla P100-PCIE-16GB (UUID: GPU-c390d742-5b9d-de4f-625d-be5e4b33d1f4)\n"
          ],
          "name": "stdout"
        }
      ]
    },
    {
      "cell_type": "code",
      "metadata": {
        "id": "ESOUnO4PFnMZ"
      },
      "source": [
        "tf.config.optimizer.set_jit(True)"
      ],
      "execution_count": 3,
      "outputs": []
    },
    {
      "cell_type": "code",
      "metadata": {
        "id": "f2x7Alg8Ggkr",
        "outputId": "50f67be5-daae-426f-dfee-baf9d8146bb6",
        "colab": {
          "base_uri": "https://localhost:8080/"
        }
      },
      "source": [
        "# the data, split between train and test sets\n",
        "dataset = fashion_mnist\n",
        "dataset = mnist\n",
        "\n",
        "\n",
        "(x_train, y_train), (x_test, y_test) = dataset.load_data()\n",
        "\n",
        "x_train = np.expand_dims(x_train, -1)\n",
        "x_test = np.expand_dims(x_test, -1)\n",
        "\n",
        "x_train = x_train.astype(np.float32)/255\n",
        "x_test = x_test.astype(np.float32)/255\n",
        "y_train = y_train.astype(np.int)\n",
        "y_test = y_test.astype(np.int)\n",
        "\n",
        "print('x_train shape:', x_train.shape)\n",
        "print('x_test shape:', x_test.shape)"
      ],
      "execution_count": 4,
      "outputs": [
        {
          "output_type": "stream",
          "text": [
            "x_train shape: (60000, 28, 28, 1)\n",
            "x_test shape: (10000, 28, 28, 1)\n"
          ],
          "name": "stdout"
        }
      ]
    },
    {
      "cell_type": "code",
      "metadata": {
        "id": "TWe0A9RaZ2r6"
      },
      "source": [
        "def gen_model(activation=\"relu\"):\n",
        "  model = tf.keras.models.Sequential()\n",
        "  model.add(tf.keras.Input(shape=(28, 28, 1)))\n",
        "  model.add(tf.keras.layers.Flatten())\n",
        "  model.add(tf.keras.layers.Dropout(0.1))\n",
        "\n",
        "  model.add(tf.keras.layers.Dense(128, activation=activation))\n",
        "  model.add(tf.keras.layers.Dropout(0.4))\n",
        "\n",
        "  model.add(tf.keras.layers.Dense(128, activation=activation))\n",
        "  model.add(tf.keras.layers.Dense(10))\n",
        "\n",
        "  return model\n",
        "\n",
        "\n",
        "def compile_model(model, lr=0.001):\n",
        "  model.compile(loss=keras.losses.SparseCategoricalCrossentropy(from_logits=True),\n",
        "                optimizer=keras.optimizers.Adam(learning_rate=lr),\n",
        "                metrics=['accuracy'])\n",
        "  \n",
        "\n",
        "early_stop = tf.keras.callbacks.EarlyStopping(\n",
        "      monitor='val_accuracy',\n",
        "      patience=20,\n",
        "      restore_best_weights=True,\n",
        ")"
      ],
      "execution_count": 5,
      "outputs": []
    },
    {
      "cell_type": "code",
      "metadata": {
        "id": "Z5NllJuVPPwt",
        "outputId": "08f8ea36-acc9-40ff-c36f-069fa140d811",
        "colab": {
          "base_uri": "https://localhost:8080/"
        }
      },
      "source": [
        "%%time\n",
        "model = gen_model()\n",
        "compile_model(model)\n",
        "model.fit(x_train, y_train,\n",
        "          batch_size=128,\n",
        "          epochs=1000,\n",
        "          verbose=1,\n",
        "          callbacks=[early_stop],\n",
        "          validation_data=(x_test, y_test),\n",
        "          validation_batch_size=2048)"
      ],
      "execution_count": 6,
      "outputs": [
        {
          "output_type": "stream",
          "text": [
            "Epoch 1/1000\n",
            "469/469 [==============================] - 2s 4ms/step - loss: 0.4587 - accuracy: 0.8609 - val_loss: 0.1687 - val_accuracy: 0.9497\n",
            "Epoch 2/1000\n",
            "469/469 [==============================] - 2s 5ms/step - loss: 0.2241 - accuracy: 0.9324 - val_loss: 0.1259 - val_accuracy: 0.9627\n",
            "Epoch 3/1000\n",
            "469/469 [==============================] - 1s 2ms/step - loss: 0.1842 - accuracy: 0.9442 - val_loss: 0.1031 - val_accuracy: 0.9666\n",
            "Epoch 4/1000\n",
            "469/469 [==============================] - 1s 2ms/step - loss: 0.1598 - accuracy: 0.9509 - val_loss: 0.0939 - val_accuracy: 0.9701\n",
            "Epoch 5/1000\n",
            "469/469 [==============================] - 1s 2ms/step - loss: 0.1445 - accuracy: 0.9549 - val_loss: 0.0897 - val_accuracy: 0.9712\n",
            "Epoch 6/1000\n",
            "469/469 [==============================] - 1s 2ms/step - loss: 0.1328 - accuracy: 0.9584 - val_loss: 0.0850 - val_accuracy: 0.9740\n",
            "Epoch 7/1000\n",
            "469/469 [==============================] - 1s 2ms/step - loss: 0.1248 - accuracy: 0.9606 - val_loss: 0.0789 - val_accuracy: 0.9755\n",
            "Epoch 8/1000\n",
            "469/469 [==============================] - 1s 2ms/step - loss: 0.1162 - accuracy: 0.9634 - val_loss: 0.0736 - val_accuracy: 0.9764\n",
            "Epoch 9/1000\n",
            "469/469 [==============================] - 1s 2ms/step - loss: 0.1123 - accuracy: 0.9642 - val_loss: 0.0683 - val_accuracy: 0.9783\n",
            "Epoch 10/1000\n",
            "469/469 [==============================] - 1s 2ms/step - loss: 0.1052 - accuracy: 0.9662 - val_loss: 0.0738 - val_accuracy: 0.9754\n",
            "Epoch 11/1000\n",
            "469/469 [==============================] - 1s 2ms/step - loss: 0.1024 - accuracy: 0.9668 - val_loss: 0.0670 - val_accuracy: 0.9793\n",
            "Epoch 12/1000\n",
            "469/469 [==============================] - 1s 2ms/step - loss: 0.0987 - accuracy: 0.9682 - val_loss: 0.0645 - val_accuracy: 0.9805\n",
            "Epoch 13/1000\n",
            "469/469 [==============================] - 1s 2ms/step - loss: 0.0951 - accuracy: 0.9689 - val_loss: 0.0636 - val_accuracy: 0.9803\n",
            "Epoch 14/1000\n",
            "469/469 [==============================] - 1s 2ms/step - loss: 0.0945 - accuracy: 0.9700 - val_loss: 0.0659 - val_accuracy: 0.9805\n",
            "Epoch 15/1000\n",
            "469/469 [==============================] - 1s 2ms/step - loss: 0.0924 - accuracy: 0.9700 - val_loss: 0.0635 - val_accuracy: 0.9808\n",
            "Epoch 16/1000\n",
            "469/469 [==============================] - 1s 2ms/step - loss: 0.0880 - accuracy: 0.9703 - val_loss: 0.0618 - val_accuracy: 0.9801\n",
            "Epoch 17/1000\n",
            "469/469 [==============================] - 1s 2ms/step - loss: 0.0849 - accuracy: 0.9720 - val_loss: 0.0617 - val_accuracy: 0.9817\n",
            "Epoch 18/1000\n",
            "469/469 [==============================] - 1s 2ms/step - loss: 0.0850 - accuracy: 0.9722 - val_loss: 0.0639 - val_accuracy: 0.9820\n",
            "Epoch 19/1000\n",
            "469/469 [==============================] - 1s 2ms/step - loss: 0.0827 - accuracy: 0.9736 - val_loss: 0.0608 - val_accuracy: 0.9828\n",
            "Epoch 20/1000\n",
            "469/469 [==============================] - 1s 2ms/step - loss: 0.0821 - accuracy: 0.9729 - val_loss: 0.0678 - val_accuracy: 0.9808\n",
            "Epoch 21/1000\n",
            "469/469 [==============================] - 1s 2ms/step - loss: 0.0768 - accuracy: 0.9749 - val_loss: 0.0625 - val_accuracy: 0.9813\n",
            "Epoch 22/1000\n",
            "469/469 [==============================] - 1s 2ms/step - loss: 0.0758 - accuracy: 0.9743 - val_loss: 0.0572 - val_accuracy: 0.9828\n",
            "Epoch 23/1000\n",
            "469/469 [==============================] - 1s 2ms/step - loss: 0.0769 - accuracy: 0.9739 - val_loss: 0.0615 - val_accuracy: 0.9825\n",
            "Epoch 24/1000\n",
            "469/469 [==============================] - 1s 2ms/step - loss: 0.0768 - accuracy: 0.9747 - val_loss: 0.0612 - val_accuracy: 0.9840\n",
            "Epoch 25/1000\n",
            "469/469 [==============================] - 1s 2ms/step - loss: 0.0742 - accuracy: 0.9755 - val_loss: 0.0585 - val_accuracy: 0.9824\n",
            "Epoch 26/1000\n",
            "469/469 [==============================] - 1s 2ms/step - loss: 0.0725 - accuracy: 0.9760 - val_loss: 0.0608 - val_accuracy: 0.9829\n",
            "Epoch 27/1000\n",
            "469/469 [==============================] - 1s 2ms/step - loss: 0.0717 - accuracy: 0.9761 - val_loss: 0.0659 - val_accuracy: 0.9827\n",
            "Epoch 28/1000\n",
            "469/469 [==============================] - 1s 2ms/step - loss: 0.0728 - accuracy: 0.9758 - val_loss: 0.0575 - val_accuracy: 0.9836\n",
            "Epoch 29/1000\n",
            "469/469 [==============================] - 1s 2ms/step - loss: 0.0690 - accuracy: 0.9777 - val_loss: 0.0601 - val_accuracy: 0.9827\n",
            "Epoch 30/1000\n",
            "469/469 [==============================] - 1s 2ms/step - loss: 0.0674 - accuracy: 0.9778 - val_loss: 0.0585 - val_accuracy: 0.9824\n",
            "Epoch 31/1000\n",
            "469/469 [==============================] - 1s 2ms/step - loss: 0.0672 - accuracy: 0.9776 - val_loss: 0.0599 - val_accuracy: 0.9836\n",
            "Epoch 32/1000\n",
            "469/469 [==============================] - 1s 2ms/step - loss: 0.0670 - accuracy: 0.9774 - val_loss: 0.0603 - val_accuracy: 0.9838\n",
            "Epoch 33/1000\n",
            "469/469 [==============================] - 1s 2ms/step - loss: 0.0677 - accuracy: 0.9772 - val_loss: 0.0570 - val_accuracy: 0.9843\n",
            "Epoch 34/1000\n",
            "469/469 [==============================] - 1s 2ms/step - loss: 0.0671 - accuracy: 0.9776 - val_loss: 0.0590 - val_accuracy: 0.9842\n",
            "Epoch 35/1000\n",
            "469/469 [==============================] - 1s 2ms/step - loss: 0.0661 - accuracy: 0.9781 - val_loss: 0.0662 - val_accuracy: 0.9819\n",
            "Epoch 36/1000\n",
            "469/469 [==============================] - 1s 2ms/step - loss: 0.0634 - accuracy: 0.9788 - val_loss: 0.0579 - val_accuracy: 0.9842\n",
            "Epoch 37/1000\n",
            "469/469 [==============================] - 1s 2ms/step - loss: 0.0625 - accuracy: 0.9788 - val_loss: 0.0590 - val_accuracy: 0.9830\n",
            "Epoch 38/1000\n",
            "469/469 [==============================] - 1s 2ms/step - loss: 0.0633 - accuracy: 0.9786 - val_loss: 0.0578 - val_accuracy: 0.9837\n",
            "Epoch 39/1000\n",
            "469/469 [==============================] - 1s 2ms/step - loss: 0.0626 - accuracy: 0.9792 - val_loss: 0.0570 - val_accuracy: 0.9850\n",
            "Epoch 40/1000\n",
            "469/469 [==============================] - 1s 2ms/step - loss: 0.0616 - accuracy: 0.9789 - val_loss: 0.0610 - val_accuracy: 0.9834\n",
            "Epoch 41/1000\n",
            "469/469 [==============================] - 1s 2ms/step - loss: 0.0619 - accuracy: 0.9794 - val_loss: 0.0573 - val_accuracy: 0.9844\n",
            "Epoch 42/1000\n",
            "469/469 [==============================] - 1s 2ms/step - loss: 0.0621 - accuracy: 0.9792 - val_loss: 0.0618 - val_accuracy: 0.9827\n",
            "Epoch 43/1000\n",
            "469/469 [==============================] - 1s 2ms/step - loss: 0.0599 - accuracy: 0.9795 - val_loss: 0.0585 - val_accuracy: 0.9835\n",
            "Epoch 44/1000\n",
            "469/469 [==============================] - 1s 2ms/step - loss: 0.0607 - accuracy: 0.9794 - val_loss: 0.0573 - val_accuracy: 0.9843\n",
            "Epoch 45/1000\n",
            "469/469 [==============================] - 1s 2ms/step - loss: 0.0601 - accuracy: 0.9800 - val_loss: 0.0626 - val_accuracy: 0.9834\n",
            "Epoch 46/1000\n",
            "469/469 [==============================] - 1s 2ms/step - loss: 0.0590 - accuracy: 0.9801 - val_loss: 0.0598 - val_accuracy: 0.9831\n",
            "Epoch 47/1000\n",
            "469/469 [==============================] - 1s 2ms/step - loss: 0.0580 - accuracy: 0.9805 - val_loss: 0.0609 - val_accuracy: 0.9835\n",
            "Epoch 48/1000\n",
            "469/469 [==============================] - 1s 2ms/step - loss: 0.0575 - accuracy: 0.9809 - val_loss: 0.0581 - val_accuracy: 0.9836\n",
            "Epoch 49/1000\n",
            "469/469 [==============================] - 1s 2ms/step - loss: 0.0572 - accuracy: 0.9807 - val_loss: 0.0622 - val_accuracy: 0.9838\n",
            "Epoch 50/1000\n",
            "469/469 [==============================] - 1s 2ms/step - loss: 0.0578 - accuracy: 0.9807 - val_loss: 0.0567 - val_accuracy: 0.9856\n",
            "Epoch 51/1000\n",
            "469/469 [==============================] - 1s 2ms/step - loss: 0.0570 - accuracy: 0.9810 - val_loss: 0.0615 - val_accuracy: 0.9833\n",
            "Epoch 52/1000\n",
            "469/469 [==============================] - 1s 2ms/step - loss: 0.0574 - accuracy: 0.9806 - val_loss: 0.0616 - val_accuracy: 0.9826\n",
            "Epoch 53/1000\n",
            "469/469 [==============================] - 1s 2ms/step - loss: 0.0570 - accuracy: 0.9809 - val_loss: 0.0629 - val_accuracy: 0.9824\n",
            "Epoch 54/1000\n",
            "469/469 [==============================] - 1s 2ms/step - loss: 0.0546 - accuracy: 0.9814 - val_loss: 0.0578 - val_accuracy: 0.9843\n",
            "Epoch 55/1000\n",
            "469/469 [==============================] - 1s 2ms/step - loss: 0.0551 - accuracy: 0.9817 - val_loss: 0.0575 - val_accuracy: 0.9852\n",
            "Epoch 56/1000\n",
            "469/469 [==============================] - 1s 2ms/step - loss: 0.0558 - accuracy: 0.9813 - val_loss: 0.0611 - val_accuracy: 0.9836\n",
            "Epoch 57/1000\n",
            "469/469 [==============================] - 1s 3ms/step - loss: 0.0527 - accuracy: 0.9823 - val_loss: 0.0584 - val_accuracy: 0.9851\n",
            "Epoch 58/1000\n",
            "469/469 [==============================] - 1s 3ms/step - loss: 0.0533 - accuracy: 0.9823 - val_loss: 0.0595 - val_accuracy: 0.9835\n",
            "Epoch 59/1000\n",
            "469/469 [==============================] - 1s 3ms/step - loss: 0.0528 - accuracy: 0.9816 - val_loss: 0.0605 - val_accuracy: 0.9831\n",
            "Epoch 60/1000\n",
            "469/469 [==============================] - 1s 2ms/step - loss: 0.0548 - accuracy: 0.9818 - val_loss: 0.0576 - val_accuracy: 0.9845\n",
            "Epoch 61/1000\n",
            "469/469 [==============================] - 1s 3ms/step - loss: 0.0553 - accuracy: 0.9808 - val_loss: 0.0555 - val_accuracy: 0.9860\n",
            "Epoch 62/1000\n",
            "469/469 [==============================] - 1s 3ms/step - loss: 0.0536 - accuracy: 0.9819 - val_loss: 0.0643 - val_accuracy: 0.9849\n",
            "Epoch 63/1000\n",
            "469/469 [==============================] - 1s 2ms/step - loss: 0.0529 - accuracy: 0.9823 - val_loss: 0.0572 - val_accuracy: 0.9853\n",
            "Epoch 64/1000\n",
            "469/469 [==============================] - 1s 3ms/step - loss: 0.0558 - accuracy: 0.9806 - val_loss: 0.0587 - val_accuracy: 0.9851\n",
            "Epoch 65/1000\n",
            "469/469 [==============================] - 1s 2ms/step - loss: 0.0532 - accuracy: 0.9825 - val_loss: 0.0601 - val_accuracy: 0.9846\n",
            "Epoch 66/1000\n",
            "469/469 [==============================] - 1s 2ms/step - loss: 0.0521 - accuracy: 0.9824 - val_loss: 0.0580 - val_accuracy: 0.9859\n",
            "Epoch 67/1000\n",
            "469/469 [==============================] - 1s 2ms/step - loss: 0.0506 - accuracy: 0.9830 - val_loss: 0.0579 - val_accuracy: 0.9853\n",
            "Epoch 68/1000\n",
            "469/469 [==============================] - 1s 2ms/step - loss: 0.0501 - accuracy: 0.9827 - val_loss: 0.0603 - val_accuracy: 0.9836\n",
            "Epoch 69/1000\n",
            "469/469 [==============================] - 1s 2ms/step - loss: 0.0529 - accuracy: 0.9825 - val_loss: 0.0573 - val_accuracy: 0.9852\n",
            "Epoch 70/1000\n",
            "469/469 [==============================] - 1s 2ms/step - loss: 0.0513 - accuracy: 0.9828 - val_loss: 0.0587 - val_accuracy: 0.9855\n",
            "Epoch 71/1000\n",
            "469/469 [==============================] - 1s 2ms/step - loss: 0.0515 - accuracy: 0.9823 - val_loss: 0.0605 - val_accuracy: 0.9844\n",
            "Epoch 72/1000\n",
            "469/469 [==============================] - 1s 2ms/step - loss: 0.0547 - accuracy: 0.9816 - val_loss: 0.0579 - val_accuracy: 0.9852\n",
            "Epoch 73/1000\n",
            "469/469 [==============================] - 1s 2ms/step - loss: 0.0524 - accuracy: 0.9824 - val_loss: 0.0590 - val_accuracy: 0.9851\n",
            "Epoch 74/1000\n",
            "469/469 [==============================] - 1s 2ms/step - loss: 0.0477 - accuracy: 0.9840 - val_loss: 0.0597 - val_accuracy: 0.9840\n",
            "Epoch 75/1000\n",
            "469/469 [==============================] - 1s 2ms/step - loss: 0.0529 - accuracy: 0.9819 - val_loss: 0.0550 - val_accuracy: 0.9852\n",
            "Epoch 76/1000\n",
            "469/469 [==============================] - 1s 2ms/step - loss: 0.0514 - accuracy: 0.9827 - val_loss: 0.0602 - val_accuracy: 0.9847\n",
            "Epoch 77/1000\n",
            "469/469 [==============================] - 1s 2ms/step - loss: 0.0503 - accuracy: 0.9827 - val_loss: 0.0610 - val_accuracy: 0.9854\n",
            "Epoch 78/1000\n",
            "469/469 [==============================] - 1s 2ms/step - loss: 0.0485 - accuracy: 0.9834 - val_loss: 0.0581 - val_accuracy: 0.9859\n",
            "Epoch 79/1000\n",
            "469/469 [==============================] - 1s 2ms/step - loss: 0.0475 - accuracy: 0.9841 - val_loss: 0.0581 - val_accuracy: 0.9854\n",
            "Epoch 80/1000\n",
            "469/469 [==============================] - 1s 2ms/step - loss: 0.0508 - accuracy: 0.9828 - val_loss: 0.0605 - val_accuracy: 0.9845\n",
            "Epoch 81/1000\n",
            "469/469 [==============================] - 1s 2ms/step - loss: 0.0484 - accuracy: 0.9837 - val_loss: 0.0592 - val_accuracy: 0.9853\n",
            "CPU times: user 1min 40s, sys: 11.8 s, total: 1min 52s\n",
            "Wall time: 1min 31s\n"
          ],
          "name": "stdout"
        }
      ]
    },
    {
      "cell_type": "code",
      "metadata": {
        "id": "tf3PBVa9M2ry",
        "outputId": "479829ff-2b43-4a2e-adec-b0123fb1ff8d",
        "colab": {
          "base_uri": "https://localhost:8080/"
        }
      },
      "source": [
        "score = model.evaluate(x_test, y_test, verbose=0)\n",
        "print('Test loss:', score[0])\n",
        "print('Test accuracy:', score[1])\n"
      ],
      "execution_count": 7,
      "outputs": [
        {
          "output_type": "stream",
          "text": [
            "Test loss: 0.055488694459199905\n",
            "Test accuracy: 0.9860000610351562\n"
          ],
          "name": "stdout"
        }
      ]
    },
    {
      "cell_type": "code",
      "metadata": {
        "id": "-lH8wWQdUm-P"
      },
      "source": [
        ""
      ],
      "execution_count": 7,
      "outputs": []
    }
  ]
}