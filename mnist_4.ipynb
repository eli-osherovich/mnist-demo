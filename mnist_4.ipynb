{
  "nbformat": 4,
  "nbformat_minor": 0,
  "metadata": {
    "colab": {
      "name": "mnist-4",
      "provenance": [],
      "collapsed_sections": [],
      "authorship_tag": "ABX9TyNRQ49JjZQ64GJWawtS8Szk",
      "include_colab_link": true
    },
    "kernelspec": {
      "name": "python3",
      "display_name": "Python 3"
    },
    "accelerator": "GPU"
  },
  "cells": [
    {
      "cell_type": "markdown",
      "metadata": {
        "id": "view-in-github",
        "colab_type": "text"
      },
      "source": [
        "<a href=\"https://colab.research.google.com/github/eli-osherovich/mnist-demo/blob/main/mnist_4.ipynb\" target=\"_parent\"><img src=\"https://colab.research.google.com/assets/colab-badge.svg\" alt=\"Open In Colab\"/></a>"
      ]
    },
    {
      "cell_type": "code",
      "metadata": {
        "id": "IkuNVlXOG6ip"
      },
      "source": [
        "import numpy as np\n",
        "\n",
        "import tensorflow as tf\n",
        "from tensorflow import keras\n",
        "from keras.datasets import mnist, fashion_mnist"
      ],
      "execution_count": 1,
      "outputs": []
    },
    {
      "cell_type": "code",
      "metadata": {
        "id": "6txAjVhtvhzv",
        "outputId": "a8683ba8-70d9-4779-fe17-ac69fce888ad",
        "colab": {
          "base_uri": "https://localhost:8080/"
        }
      },
      "source": [
        "!nvidia-smi -L"
      ],
      "execution_count": 2,
      "outputs": [
        {
          "output_type": "stream",
          "text": [
            "GPU 0: Tesla V100-SXM2-16GB (UUID: GPU-3f01f1de-db72-d54f-7376-7bb1cfa64352)\n"
          ],
          "name": "stdout"
        }
      ]
    },
    {
      "cell_type": "code",
      "metadata": {
        "id": "ESOUnO4PFnMZ"
      },
      "source": [
        "tf.config.optimizer.set_jit(True)"
      ],
      "execution_count": 3,
      "outputs": []
    },
    {
      "cell_type": "code",
      "metadata": {
        "id": "f2x7Alg8Ggkr",
        "outputId": "a24f7ea5-9d5e-4003-8e8d-bacd3e04fd67",
        "colab": {
          "base_uri": "https://localhost:8080/"
        }
      },
      "source": [
        "# the data, split between train and test sets\n",
        "dataset = fashion_mnist\n",
        "dataset = mnist\n",
        "\n",
        "\n",
        "(x_train, y_train), (x_test, y_test) = dataset.load_data()\n",
        "\n",
        "x_train = np.expand_dims(x_train, -1)\n",
        "x_test = np.expand_dims(x_test, -1)\n",
        "\n",
        "x_train = x_train.astype(np.float32)/255\n",
        "x_test = x_test.astype(np.float32)/255\n",
        "y_train = y_train.astype(np.int)\n",
        "y_test = y_test.astype(np.int)\n",
        "\n",
        "print('x_train shape:', x_train.shape)\n",
        "print('x_test shape:', x_test.shape)"
      ],
      "execution_count": 4,
      "outputs": [
        {
          "output_type": "stream",
          "text": [
            "x_train shape: (60000, 28, 28, 1)\n",
            "x_test shape: (10000, 28, 28, 1)\n"
          ],
          "name": "stdout"
        }
      ]
    },
    {
      "cell_type": "code",
      "metadata": {
        "id": "TWe0A9RaZ2r6"
      },
      "source": [
        "def gen_model(activation=\"relu\"):\n",
        "  s = tf.keras.Input(shape=(28, 28, 1))\n",
        "  h = tf.keras.layers.Flatten()(s)\n",
        "  h = tf.keras.layers.Dropout(0.1)(h)\n",
        "\n",
        "  h = tf.keras.layers.Dense(128, activation=activation)(h)\n",
        "  h = tf.keras.layers.Dropout(0.4)(h)\n",
        "\n",
        "  h = tf.keras.layers.Dense(128, activation=activation)(h)\n",
        "\n",
        "  h = tf.keras.layers.Dense(128, activation=activation)(h)\n",
        "\n",
        "  out = tf.keras.layers.Dense(10)(h)\n",
        "  return tf.keras.Model(inputs=s, outputs=out)\n",
        "\n",
        "\n",
        "def compile_model(model, lr=0.001):\n",
        "  model.compile(loss=keras.losses.SparseCategoricalCrossentropy(from_logits=True),\n",
        "                optimizer=keras.optimizers.Adam(learning_rate=lr),\n",
        "                metrics=['accuracy'])\n",
        "  \n",
        "\n",
        "early_stop = tf.keras.callbacks.EarlyStopping(\n",
        "      monitor='val_accuracy',\n",
        "      patience=10,\n",
        "      restore_best_weights=True,\n",
        ")"
      ],
      "execution_count": 5,
      "outputs": []
    },
    {
      "cell_type": "code",
      "metadata": {
        "id": "Z5NllJuVPPwt",
        "outputId": "1e0e1373-be85-4b00-fe52-6f22457760a0",
        "colab": {
          "base_uri": "https://localhost:8080/"
        }
      },
      "source": [
        "%%time\n",
        "model = gen_model()\n",
        "compile_model(model)\n",
        "model.fit(x_train, y_train,\n",
        "          batch_size=128,\n",
        "          epochs=100,\n",
        "          verbose=1,\n",
        "          callbacks=[early_stop],\n",
        "          validation_data=(x_test, y_test),\n",
        "          validation_batch_size=2048)\n"
      ],
      "execution_count": 6,
      "outputs": [
        {
          "output_type": "stream",
          "text": [
            "Epoch 1/100\n",
            "469/469 [==============================] - 2s 5ms/step - loss: 0.4489 - accuracy: 0.8625 - val_loss: 0.1565 - val_accuracy: 0.9544\n",
            "Epoch 2/100\n",
            "469/469 [==============================] - 3s 6ms/step - loss: 0.2165 - accuracy: 0.9329 - val_loss: 0.1174 - val_accuracy: 0.9629\n",
            "Epoch 3/100\n",
            "469/469 [==============================] - 1s 3ms/step - loss: 0.1788 - accuracy: 0.9440 - val_loss: 0.1011 - val_accuracy: 0.9693\n",
            "Epoch 4/100\n",
            "469/469 [==============================] - 1s 3ms/step - loss: 0.1592 - accuracy: 0.9502 - val_loss: 0.0914 - val_accuracy: 0.9721\n",
            "Epoch 5/100\n",
            "469/469 [==============================] - 1s 3ms/step - loss: 0.1422 - accuracy: 0.9554 - val_loss: 0.0916 - val_accuracy: 0.9733\n",
            "Epoch 6/100\n",
            "469/469 [==============================] - 1s 3ms/step - loss: 0.1327 - accuracy: 0.9581 - val_loss: 0.0851 - val_accuracy: 0.9745\n",
            "Epoch 7/100\n",
            "469/469 [==============================] - 1s 3ms/step - loss: 0.1260 - accuracy: 0.9599 - val_loss: 0.0820 - val_accuracy: 0.9743\n",
            "Epoch 8/100\n",
            "469/469 [==============================] - 1s 3ms/step - loss: 0.1171 - accuracy: 0.9623 - val_loss: 0.0811 - val_accuracy: 0.9754\n",
            "Epoch 9/100\n",
            "469/469 [==============================] - 1s 3ms/step - loss: 0.1150 - accuracy: 0.9628 - val_loss: 0.0767 - val_accuracy: 0.9767\n",
            "Epoch 10/100\n",
            "469/469 [==============================] - 1s 3ms/step - loss: 0.1095 - accuracy: 0.9650 - val_loss: 0.0695 - val_accuracy: 0.9785\n",
            "Epoch 11/100\n",
            "469/469 [==============================] - 1s 3ms/step - loss: 0.1018 - accuracy: 0.9669 - val_loss: 0.0698 - val_accuracy: 0.9784\n",
            "Epoch 12/100\n",
            "469/469 [==============================] - 1s 3ms/step - loss: 0.0984 - accuracy: 0.9683 - val_loss: 0.0771 - val_accuracy: 0.9772\n",
            "Epoch 13/100\n",
            "469/469 [==============================] - 1s 3ms/step - loss: 0.0959 - accuracy: 0.9695 - val_loss: 0.0732 - val_accuracy: 0.9780\n",
            "Epoch 14/100\n",
            "469/469 [==============================] - 1s 3ms/step - loss: 0.0942 - accuracy: 0.9691 - val_loss: 0.0729 - val_accuracy: 0.9777\n",
            "Epoch 15/100\n",
            "469/469 [==============================] - 1s 3ms/step - loss: 0.0951 - accuracy: 0.9695 - val_loss: 0.0700 - val_accuracy: 0.9795\n",
            "Epoch 16/100\n",
            "469/469 [==============================] - 1s 3ms/step - loss: 0.0935 - accuracy: 0.9691 - val_loss: 0.0659 - val_accuracy: 0.9800\n",
            "Epoch 17/100\n",
            "469/469 [==============================] - 1s 3ms/step - loss: 0.0849 - accuracy: 0.9727 - val_loss: 0.0635 - val_accuracy: 0.9802\n",
            "Epoch 18/100\n",
            "469/469 [==============================] - 1s 3ms/step - loss: 0.0881 - accuracy: 0.9712 - val_loss: 0.0660 - val_accuracy: 0.9806\n",
            "Epoch 19/100\n",
            "469/469 [==============================] - 1s 3ms/step - loss: 0.0849 - accuracy: 0.9722 - val_loss: 0.0621 - val_accuracy: 0.9813\n",
            "Epoch 20/100\n",
            "469/469 [==============================] - 1s 3ms/step - loss: 0.0844 - accuracy: 0.9724 - val_loss: 0.0595 - val_accuracy: 0.9819\n",
            "Epoch 21/100\n",
            "469/469 [==============================] - 1s 3ms/step - loss: 0.0817 - accuracy: 0.9727 - val_loss: 0.0630 - val_accuracy: 0.9815\n",
            "Epoch 22/100\n",
            "469/469 [==============================] - 1s 3ms/step - loss: 0.0759 - accuracy: 0.9747 - val_loss: 0.0609 - val_accuracy: 0.9822\n",
            "Epoch 23/100\n",
            "469/469 [==============================] - 1s 3ms/step - loss: 0.0754 - accuracy: 0.9750 - val_loss: 0.0580 - val_accuracy: 0.9818\n",
            "Epoch 24/100\n",
            "469/469 [==============================] - 1s 3ms/step - loss: 0.0751 - accuracy: 0.9757 - val_loss: 0.0627 - val_accuracy: 0.9804\n",
            "Epoch 25/100\n",
            "469/469 [==============================] - 1s 3ms/step - loss: 0.0765 - accuracy: 0.9746 - val_loss: 0.0643 - val_accuracy: 0.9818\n",
            "Epoch 26/100\n",
            "469/469 [==============================] - 1s 3ms/step - loss: 0.0749 - accuracy: 0.9761 - val_loss: 0.0642 - val_accuracy: 0.9800\n",
            "Epoch 27/100\n",
            "469/469 [==============================] - 1s 3ms/step - loss: 0.0739 - accuracy: 0.9750 - val_loss: 0.0629 - val_accuracy: 0.9816\n",
            "Epoch 28/100\n",
            "469/469 [==============================] - 1s 3ms/step - loss: 0.0721 - accuracy: 0.9762 - val_loss: 0.0624 - val_accuracy: 0.9815\n",
            "Epoch 29/100\n",
            "469/469 [==============================] - 1s 3ms/step - loss: 0.0698 - accuracy: 0.9770 - val_loss: 0.0607 - val_accuracy: 0.9804\n",
            "Epoch 30/100\n",
            "469/469 [==============================] - 1s 3ms/step - loss: 0.0712 - accuracy: 0.9768 - val_loss: 0.0582 - val_accuracy: 0.9818\n",
            "Epoch 31/100\n",
            "469/469 [==============================] - 1s 3ms/step - loss: 0.0697 - accuracy: 0.9770 - val_loss: 0.0606 - val_accuracy: 0.9814\n",
            "Epoch 32/100\n",
            "469/469 [==============================] - 1s 3ms/step - loss: 0.0684 - accuracy: 0.9774 - val_loss: 0.0585 - val_accuracy: 0.9840\n",
            "Epoch 33/100\n",
            "469/469 [==============================] - 1s 3ms/step - loss: 0.0672 - accuracy: 0.9780 - val_loss: 0.0620 - val_accuracy: 0.9824\n",
            "Epoch 34/100\n",
            "469/469 [==============================] - 1s 3ms/step - loss: 0.0689 - accuracy: 0.9777 - val_loss: 0.0630 - val_accuracy: 0.9802\n",
            "Epoch 35/100\n",
            "469/469 [==============================] - 1s 3ms/step - loss: 0.0664 - accuracy: 0.9780 - val_loss: 0.0626 - val_accuracy: 0.9819\n",
            "Epoch 36/100\n",
            "469/469 [==============================] - 1s 3ms/step - loss: 0.0648 - accuracy: 0.9785 - val_loss: 0.0567 - val_accuracy: 0.9827\n",
            "Epoch 37/100\n",
            "469/469 [==============================] - 1s 3ms/step - loss: 0.0678 - accuracy: 0.9771 - val_loss: 0.0564 - val_accuracy: 0.9840\n",
            "Epoch 38/100\n",
            "469/469 [==============================] - 1s 3ms/step - loss: 0.0654 - accuracy: 0.9783 - val_loss: 0.0591 - val_accuracy: 0.9826\n",
            "Epoch 39/100\n",
            "469/469 [==============================] - 1s 3ms/step - loss: 0.0620 - accuracy: 0.9791 - val_loss: 0.0564 - val_accuracy: 0.9834\n",
            "Epoch 40/100\n",
            "469/469 [==============================] - 1s 3ms/step - loss: 0.0636 - accuracy: 0.9787 - val_loss: 0.0559 - val_accuracy: 0.9827\n",
            "Epoch 41/100\n",
            "469/469 [==============================] - 1s 3ms/step - loss: 0.0624 - accuracy: 0.9796 - val_loss: 0.0592 - val_accuracy: 0.9821\n",
            "Epoch 42/100\n",
            "469/469 [==============================] - 1s 3ms/step - loss: 0.0624 - accuracy: 0.9783 - val_loss: 0.0596 - val_accuracy: 0.9826\n",
            "CPU times: user 1min 4s, sys: 6.86 s, total: 1min 11s\n",
            "Wall time: 59.5 s\n"
          ],
          "name": "stdout"
        }
      ]
    },
    {
      "cell_type": "code",
      "metadata": {
        "id": "tf3PBVa9M2ry",
        "outputId": "30856327-986e-4c7c-950c-05d153a2a396",
        "colab": {
          "base_uri": "https://localhost:8080/"
        }
      },
      "source": [
        "score = model.evaluate(x_test, y_test, verbose=0)\n",
        "print('Test loss:', score[0])\n",
        "print('Test accuracy:', score[1])\n"
      ],
      "execution_count": 7,
      "outputs": [
        {
          "output_type": "stream",
          "text": [
            "Test loss: 0.058468420058488846\n",
            "Test accuracy: 0.984000027179718\n"
          ],
          "name": "stdout"
        }
      ]
    },
    {
      "cell_type": "code",
      "metadata": {
        "id": "-lH8wWQdUm-P"
      },
      "source": [
        ""
      ],
      "execution_count": 7,
      "outputs": []
    }
  ]
}