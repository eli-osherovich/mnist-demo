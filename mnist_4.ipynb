{
  "nbformat": 4,
  "nbformat_minor": 0,
  "metadata": {
    "colab": {
      "name": "mnist-4",
      "provenance": [],
      "collapsed_sections": [],
      "authorship_tag": "ABX9TyNYHfrcxn6ltRFn9YCJkKJe",
      "include_colab_link": true
    },
    "kernelspec": {
      "name": "python3",
      "display_name": "Python 3"
    },
    "accelerator": "GPU"
  },
  "cells": [
    {
      "cell_type": "markdown",
      "metadata": {
        "id": "view-in-github",
        "colab_type": "text"
      },
      "source": [
        "<a href=\"https://colab.research.google.com/github/eli-osherovich/mnist-demo/blob/main/mnist_4.ipynb\" target=\"_parent\"><img src=\"https://colab.research.google.com/assets/colab-badge.svg\" alt=\"Open In Colab\"/></a>"
      ]
    },
    {
      "cell_type": "code",
      "metadata": {
        "id": "IkuNVlXOG6ip"
      },
      "source": [
        "import numpy as np\n",
        "\n",
        "import tensorflow as tf\n",
        "from tensorflow import keras\n",
        "from keras.datasets import mnist, fashion_mnist"
      ],
      "execution_count": 1,
      "outputs": []
    },
    {
      "cell_type": "code",
      "metadata": {
        "id": "6txAjVhtvhzv",
        "outputId": "7ba4fb6c-b39e-449a-e625-6a37f2f27a28",
        "colab": {
          "base_uri": "https://localhost:8080/"
        }
      },
      "source": [
        "!nvidia-smi -L"
      ],
      "execution_count": 2,
      "outputs": [
        {
          "output_type": "stream",
          "text": [
            "GPU 0: Tesla P100-PCIE-16GB (UUID: GPU-34f8f053-7af6-8ff2-fb80-f2005a952331)\n"
          ],
          "name": "stdout"
        }
      ]
    },
    {
      "cell_type": "code",
      "metadata": {
        "id": "ESOUnO4PFnMZ"
      },
      "source": [
        "tf.config.optimizer.set_jit(True)"
      ],
      "execution_count": 3,
      "outputs": []
    },
    {
      "cell_type": "code",
      "metadata": {
        "id": "f2x7Alg8Ggkr",
        "outputId": "df109453-c6dc-44d7-b635-f143badf9668",
        "colab": {
          "base_uri": "https://localhost:8080/"
        }
      },
      "source": [
        "# the data, split between train and test sets\n",
        "dataset = fashion_mnist\n",
        "dataset = mnist\n",
        "\n",
        "\n",
        "(x_train, y_train), (x_test, y_test) = dataset.load_data()\n",
        "\n",
        "x_train = np.expand_dims(x_train, -1)\n",
        "x_test = np.expand_dims(x_test, -1)\n",
        "\n",
        "x_train = x_train.astype(np.float32)/255\n",
        "x_test = x_test.astype(np.float32)/255\n",
        "y_train = y_train.astype(np.int)\n",
        "y_test = y_test.astype(np.int)\n",
        "\n",
        "print('x_train shape:', x_train.shape)\n",
        "print('x_test shape:', x_test.shape)"
      ],
      "execution_count": 4,
      "outputs": [
        {
          "output_type": "stream",
          "text": [
            "x_train shape: (60000, 28, 28, 1)\n",
            "x_test shape: (10000, 28, 28, 1)\n"
          ],
          "name": "stdout"
        }
      ]
    },
    {
      "cell_type": "code",
      "metadata": {
        "id": "TWe0A9RaZ2r6"
      },
      "source": [
        "def gen_model(activation=\"relu\"):\n",
        "  model = tf.keras.models.Sequential()\n",
        "  model.add(tf.keras.Input(shape=(28, 28, 1)))\n",
        "  model.add(tf.keras.layers.Flatten())\n",
        "  model.add(tf.keras.layers.Dropout(0.1))\n",
        "\n",
        "  model.add(tf.keras.layers.Dense(128, activation=activation))\n",
        "  model.add(tf.keras.layers.Dropout(0.4))\n",
        "\n",
        "  model.add(tf.keras.layers.Dense(128, activation=activation))\n",
        "\n",
        "  model.add(tf.keras.layers.Dense(128, activation=activation))\n",
        "  model.add(tf.keras.layers.Dense(10))\n",
        "\n",
        "  return model\n",
        "\n",
        "\n",
        "def compile_model(model, lr=0.001):\n",
        "  model.compile(loss=keras.losses.SparseCategoricalCrossentropy(from_logits=True),\n",
        "                optimizer=keras.optimizers.Adam(learning_rate=lr),\n",
        "                metrics=['accuracy'])\n",
        "  \n",
        "\n",
        "early_stop = tf.keras.callbacks.EarlyStopping(\n",
        "      monitor='val_accuracy',\n",
        "      patience=20,\n",
        "      restore_best_weights=True,\n",
        ")"
      ],
      "execution_count": 5,
      "outputs": []
    },
    {
      "cell_type": "code",
      "metadata": {
        "id": "Z5NllJuVPPwt",
        "outputId": "6b59001c-a2ae-488f-8ca8-91581a3038f8",
        "colab": {
          "base_uri": "https://localhost:8080/"
        }
      },
      "source": [
        "%%time\n",
        "model = gen_model()\n",
        "compile_model(model)\n",
        "model.fit(x_train, y_train,\n",
        "          batch_size=128,\n",
        "          epochs=1000,\n",
        "          verbose=1,\n",
        "          callbacks=[early_stop],\n",
        "          validation_data=(x_test, y_test),\n",
        "          validation_batch_size=2048)"
      ],
      "execution_count": 6,
      "outputs": [
        {
          "output_type": "stream",
          "text": [
            "Epoch 1/1000\n",
            "469/469 [==============================] - 2s 5ms/step - loss: 0.4495 - accuracy: 0.8606 - val_loss: 0.1551 - val_accuracy: 0.9513\n",
            "Epoch 2/1000\n",
            "469/469 [==============================] - 3s 6ms/step - loss: 0.2238 - accuracy: 0.9313 - val_loss: 0.1324 - val_accuracy: 0.9598\n",
            "Epoch 3/1000\n",
            "469/469 [==============================] - 2s 3ms/step - loss: 0.1818 - accuracy: 0.9444 - val_loss: 0.1061 - val_accuracy: 0.9667\n",
            "Epoch 4/1000\n",
            "469/469 [==============================] - 1s 3ms/step - loss: 0.1598 - accuracy: 0.9504 - val_loss: 0.0910 - val_accuracy: 0.9727\n",
            "Epoch 5/1000\n",
            "469/469 [==============================] - 1s 3ms/step - loss: 0.1472 - accuracy: 0.9536 - val_loss: 0.0893 - val_accuracy: 0.9733\n",
            "Epoch 6/1000\n",
            "469/469 [==============================] - 1s 3ms/step - loss: 0.1334 - accuracy: 0.9582 - val_loss: 0.0852 - val_accuracy: 0.9734\n",
            "Epoch 7/1000\n",
            "469/469 [==============================] - 1s 3ms/step - loss: 0.1279 - accuracy: 0.9597 - val_loss: 0.0816 - val_accuracy: 0.9756\n",
            "Epoch 8/1000\n",
            "469/469 [==============================] - 1s 3ms/step - loss: 0.1217 - accuracy: 0.9616 - val_loss: 0.0777 - val_accuracy: 0.9769\n",
            "Epoch 9/1000\n",
            "469/469 [==============================] - 1s 3ms/step - loss: 0.1135 - accuracy: 0.9647 - val_loss: 0.0725 - val_accuracy: 0.9779\n",
            "Epoch 10/1000\n",
            "469/469 [==============================] - 1s 3ms/step - loss: 0.1110 - accuracy: 0.9639 - val_loss: 0.0796 - val_accuracy: 0.9765\n",
            "Epoch 11/1000\n",
            "469/469 [==============================] - 1s 3ms/step - loss: 0.1073 - accuracy: 0.9658 - val_loss: 0.0761 - val_accuracy: 0.9788\n",
            "Epoch 12/1000\n",
            "469/469 [==============================] - 1s 3ms/step - loss: 0.1044 - accuracy: 0.9668 - val_loss: 0.0786 - val_accuracy: 0.9774\n",
            "Epoch 13/1000\n",
            "469/469 [==============================] - 1s 3ms/step - loss: 0.0984 - accuracy: 0.9687 - val_loss: 0.0753 - val_accuracy: 0.9780\n",
            "Epoch 14/1000\n",
            "469/469 [==============================] - 1s 3ms/step - loss: 0.0957 - accuracy: 0.9690 - val_loss: 0.0718 - val_accuracy: 0.9787\n",
            "Epoch 15/1000\n",
            "469/469 [==============================] - 1s 3ms/step - loss: 0.0919 - accuracy: 0.9704 - val_loss: 0.0717 - val_accuracy: 0.9779\n",
            "Epoch 16/1000\n",
            "469/469 [==============================] - 1s 3ms/step - loss: 0.0928 - accuracy: 0.9699 - val_loss: 0.0645 - val_accuracy: 0.9811\n",
            "Epoch 17/1000\n",
            "469/469 [==============================] - 1s 3ms/step - loss: 0.0892 - accuracy: 0.9714 - val_loss: 0.0690 - val_accuracy: 0.9797\n",
            "Epoch 18/1000\n",
            "469/469 [==============================] - 1s 3ms/step - loss: 0.0869 - accuracy: 0.9711 - val_loss: 0.0660 - val_accuracy: 0.9808\n",
            "Epoch 19/1000\n",
            "469/469 [==============================] - 1s 3ms/step - loss: 0.0827 - accuracy: 0.9726 - val_loss: 0.0693 - val_accuracy: 0.9793\n",
            "Epoch 20/1000\n",
            "469/469 [==============================] - 1s 3ms/step - loss: 0.0841 - accuracy: 0.9728 - val_loss: 0.0708 - val_accuracy: 0.9796\n",
            "Epoch 21/1000\n",
            "469/469 [==============================] - 1s 3ms/step - loss: 0.0803 - accuracy: 0.9737 - val_loss: 0.0667 - val_accuracy: 0.9807\n",
            "Epoch 22/1000\n",
            "469/469 [==============================] - 1s 3ms/step - loss: 0.0823 - accuracy: 0.9726 - val_loss: 0.0651 - val_accuracy: 0.9814\n",
            "Epoch 23/1000\n",
            "469/469 [==============================] - 1s 3ms/step - loss: 0.0774 - accuracy: 0.9747 - val_loss: 0.0675 - val_accuracy: 0.9794\n",
            "Epoch 24/1000\n",
            "469/469 [==============================] - 1s 3ms/step - loss: 0.0775 - accuracy: 0.9743 - val_loss: 0.0659 - val_accuracy: 0.9813\n",
            "Epoch 25/1000\n",
            "469/469 [==============================] - 1s 3ms/step - loss: 0.0766 - accuracy: 0.9742 - val_loss: 0.0632 - val_accuracy: 0.9817\n",
            "Epoch 26/1000\n",
            "469/469 [==============================] - 1s 3ms/step - loss: 0.0772 - accuracy: 0.9746 - val_loss: 0.0647 - val_accuracy: 0.9806\n",
            "Epoch 27/1000\n",
            "469/469 [==============================] - 1s 3ms/step - loss: 0.0746 - accuracy: 0.9757 - val_loss: 0.0588 - val_accuracy: 0.9821\n",
            "Epoch 28/1000\n",
            "469/469 [==============================] - 1s 3ms/step - loss: 0.0708 - accuracy: 0.9768 - val_loss: 0.0689 - val_accuracy: 0.9815\n",
            "Epoch 29/1000\n",
            "469/469 [==============================] - 1s 3ms/step - loss: 0.0716 - accuracy: 0.9769 - val_loss: 0.0611 - val_accuracy: 0.9817\n",
            "Epoch 30/1000\n",
            "469/469 [==============================] - 1s 3ms/step - loss: 0.0713 - accuracy: 0.9772 - val_loss: 0.0680 - val_accuracy: 0.9806\n",
            "Epoch 31/1000\n",
            "469/469 [==============================] - 1s 3ms/step - loss: 0.0693 - accuracy: 0.9776 - val_loss: 0.0671 - val_accuracy: 0.9810\n",
            "Epoch 32/1000\n",
            "469/469 [==============================] - 1s 3ms/step - loss: 0.0711 - accuracy: 0.9768 - val_loss: 0.0648 - val_accuracy: 0.9813\n",
            "Epoch 33/1000\n",
            "469/469 [==============================] - 1s 3ms/step - loss: 0.0660 - accuracy: 0.9783 - val_loss: 0.0625 - val_accuracy: 0.9816\n",
            "Epoch 34/1000\n",
            "469/469 [==============================] - 1s 3ms/step - loss: 0.0695 - accuracy: 0.9773 - val_loss: 0.0627 - val_accuracy: 0.9810\n",
            "Epoch 35/1000\n",
            "469/469 [==============================] - 1s 3ms/step - loss: 0.0640 - accuracy: 0.9789 - val_loss: 0.0614 - val_accuracy: 0.9828\n",
            "Epoch 36/1000\n",
            "469/469 [==============================] - 1s 3ms/step - loss: 0.0658 - accuracy: 0.9782 - val_loss: 0.0640 - val_accuracy: 0.9821\n",
            "Epoch 37/1000\n",
            "469/469 [==============================] - 1s 3ms/step - loss: 0.0681 - accuracy: 0.9775 - val_loss: 0.0664 - val_accuracy: 0.9819\n",
            "Epoch 38/1000\n",
            "469/469 [==============================] - 1s 3ms/step - loss: 0.0664 - accuracy: 0.9774 - val_loss: 0.0605 - val_accuracy: 0.9826\n",
            "Epoch 39/1000\n",
            "469/469 [==============================] - 1s 3ms/step - loss: 0.0660 - accuracy: 0.9781 - val_loss: 0.0614 - val_accuracy: 0.9831\n",
            "Epoch 40/1000\n",
            "469/469 [==============================] - 1s 3ms/step - loss: 0.0637 - accuracy: 0.9791 - val_loss: 0.0588 - val_accuracy: 0.9822\n",
            "Epoch 41/1000\n",
            "469/469 [==============================] - 1s 3ms/step - loss: 0.0625 - accuracy: 0.9791 - val_loss: 0.0582 - val_accuracy: 0.9829\n",
            "Epoch 42/1000\n",
            "469/469 [==============================] - 1s 3ms/step - loss: 0.0616 - accuracy: 0.9797 - val_loss: 0.0606 - val_accuracy: 0.9833\n",
            "Epoch 43/1000\n",
            "469/469 [==============================] - 1s 3ms/step - loss: 0.0611 - accuracy: 0.9794 - val_loss: 0.0658 - val_accuracy: 0.9833\n",
            "Epoch 44/1000\n",
            "469/469 [==============================] - 1s 3ms/step - loss: 0.0614 - accuracy: 0.9800 - val_loss: 0.0634 - val_accuracy: 0.9811\n",
            "Epoch 45/1000\n",
            "469/469 [==============================] - 1s 3ms/step - loss: 0.0611 - accuracy: 0.9793 - val_loss: 0.0633 - val_accuracy: 0.9815\n",
            "Epoch 46/1000\n",
            "469/469 [==============================] - 2s 3ms/step - loss: 0.0592 - accuracy: 0.9812 - val_loss: 0.0633 - val_accuracy: 0.9818\n",
            "Epoch 47/1000\n",
            "469/469 [==============================] - 2s 3ms/step - loss: 0.0596 - accuracy: 0.9799 - val_loss: 0.0615 - val_accuracy: 0.9831\n",
            "Epoch 48/1000\n",
            "469/469 [==============================] - 2s 3ms/step - loss: 0.0586 - accuracy: 0.9810 - val_loss: 0.0589 - val_accuracy: 0.9827\n",
            "Epoch 49/1000\n",
            "469/469 [==============================] - 1s 3ms/step - loss: 0.0589 - accuracy: 0.9803 - val_loss: 0.0639 - val_accuracy: 0.9835\n",
            "Epoch 50/1000\n",
            "469/469 [==============================] - 1s 3ms/step - loss: 0.0567 - accuracy: 0.9807 - val_loss: 0.0642 - val_accuracy: 0.9831\n",
            "Epoch 51/1000\n",
            "469/469 [==============================] - 1s 3ms/step - loss: 0.0584 - accuracy: 0.9801 - val_loss: 0.0634 - val_accuracy: 0.9828\n",
            "Epoch 52/1000\n",
            "469/469 [==============================] - 1s 3ms/step - loss: 0.0582 - accuracy: 0.9804 - val_loss: 0.0627 - val_accuracy: 0.9824\n",
            "Epoch 53/1000\n",
            "469/469 [==============================] - 1s 3ms/step - loss: 0.0565 - accuracy: 0.9807 - val_loss: 0.0624 - val_accuracy: 0.9832\n",
            "Epoch 54/1000\n",
            "469/469 [==============================] - 1s 3ms/step - loss: 0.0545 - accuracy: 0.9821 - val_loss: 0.0602 - val_accuracy: 0.9825\n",
            "Epoch 55/1000\n",
            "469/469 [==============================] - 1s 3ms/step - loss: 0.0565 - accuracy: 0.9817 - val_loss: 0.0603 - val_accuracy: 0.9826\n",
            "Epoch 56/1000\n",
            "469/469 [==============================] - 1s 3ms/step - loss: 0.0564 - accuracy: 0.9809 - val_loss: 0.0644 - val_accuracy: 0.9823\n",
            "Epoch 57/1000\n",
            "469/469 [==============================] - 1s 3ms/step - loss: 0.0552 - accuracy: 0.9820 - val_loss: 0.0629 - val_accuracy: 0.9814\n",
            "Epoch 58/1000\n",
            "469/469 [==============================] - 1s 3ms/step - loss: 0.0559 - accuracy: 0.9817 - val_loss: 0.0637 - val_accuracy: 0.9825\n",
            "Epoch 59/1000\n",
            "469/469 [==============================] - 1s 3ms/step - loss: 0.0530 - accuracy: 0.9826 - val_loss: 0.0603 - val_accuracy: 0.9842\n",
            "Epoch 60/1000\n",
            "469/469 [==============================] - 1s 3ms/step - loss: 0.0535 - accuracy: 0.9818 - val_loss: 0.0571 - val_accuracy: 0.9844\n",
            "Epoch 61/1000\n",
            "469/469 [==============================] - 1s 3ms/step - loss: 0.0526 - accuracy: 0.9824 - val_loss: 0.0600 - val_accuracy: 0.9834\n",
            "Epoch 62/1000\n",
            "469/469 [==============================] - 1s 3ms/step - loss: 0.0543 - accuracy: 0.9826 - val_loss: 0.0618 - val_accuracy: 0.9837\n",
            "Epoch 63/1000\n",
            "469/469 [==============================] - 1s 3ms/step - loss: 0.0554 - accuracy: 0.9819 - val_loss: 0.0589 - val_accuracy: 0.9826\n",
            "Epoch 64/1000\n",
            "469/469 [==============================] - 1s 3ms/step - loss: 0.0545 - accuracy: 0.9819 - val_loss: 0.0578 - val_accuracy: 0.9830\n",
            "Epoch 65/1000\n",
            "469/469 [==============================] - 1s 3ms/step - loss: 0.0525 - accuracy: 0.9822 - val_loss: 0.0624 - val_accuracy: 0.9831\n",
            "Epoch 66/1000\n",
            "469/469 [==============================] - 1s 3ms/step - loss: 0.0526 - accuracy: 0.9822 - val_loss: 0.0584 - val_accuracy: 0.9839\n",
            "Epoch 67/1000\n",
            "469/469 [==============================] - 1s 3ms/step - loss: 0.0529 - accuracy: 0.9823 - val_loss: 0.0591 - val_accuracy: 0.9842\n",
            "Epoch 68/1000\n",
            "469/469 [==============================] - 1s 3ms/step - loss: 0.0529 - accuracy: 0.9832 - val_loss: 0.0608 - val_accuracy: 0.9839\n",
            "Epoch 69/1000\n",
            "469/469 [==============================] - 1s 3ms/step - loss: 0.0507 - accuracy: 0.9830 - val_loss: 0.0625 - val_accuracy: 0.9825\n",
            "Epoch 70/1000\n",
            "469/469 [==============================] - 1s 3ms/step - loss: 0.0512 - accuracy: 0.9828 - val_loss: 0.0654 - val_accuracy: 0.9829\n",
            "Epoch 71/1000\n",
            "469/469 [==============================] - 1s 3ms/step - loss: 0.0521 - accuracy: 0.9828 - val_loss: 0.0587 - val_accuracy: 0.9831\n",
            "Epoch 72/1000\n",
            "469/469 [==============================] - 1s 3ms/step - loss: 0.0511 - accuracy: 0.9830 - val_loss: 0.0713 - val_accuracy: 0.9810\n",
            "Epoch 73/1000\n",
            "469/469 [==============================] - 1s 3ms/step - loss: 0.0503 - accuracy: 0.9828 - val_loss: 0.0647 - val_accuracy: 0.9838\n",
            "Epoch 74/1000\n",
            "469/469 [==============================] - 1s 3ms/step - loss: 0.0523 - accuracy: 0.9823 - val_loss: 0.0658 - val_accuracy: 0.9831\n",
            "Epoch 75/1000\n",
            "469/469 [==============================] - 1s 3ms/step - loss: 0.0496 - accuracy: 0.9834 - val_loss: 0.0603 - val_accuracy: 0.9826\n",
            "Epoch 76/1000\n",
            "469/469 [==============================] - 1s 3ms/step - loss: 0.0523 - accuracy: 0.9830 - val_loss: 0.0638 - val_accuracy: 0.9822\n",
            "Epoch 77/1000\n",
            "469/469 [==============================] - 1s 3ms/step - loss: 0.0507 - accuracy: 0.9828 - val_loss: 0.0613 - val_accuracy: 0.9826\n",
            "Epoch 78/1000\n",
            "469/469 [==============================] - 1s 3ms/step - loss: 0.0476 - accuracy: 0.9841 - val_loss: 0.0618 - val_accuracy: 0.9834\n",
            "Epoch 79/1000\n",
            "469/469 [==============================] - 1s 3ms/step - loss: 0.0493 - accuracy: 0.9834 - val_loss: 0.0628 - val_accuracy: 0.9834\n",
            "Epoch 80/1000\n",
            "469/469 [==============================] - 1s 3ms/step - loss: 0.0510 - accuracy: 0.9833 - val_loss: 0.0613 - val_accuracy: 0.9818\n",
            "CPU times: user 2min 9s, sys: 16.4 s, total: 2min 26s\n",
            "Wall time: 1min 58s\n"
          ],
          "name": "stdout"
        }
      ]
    },
    {
      "cell_type": "code",
      "metadata": {
        "id": "tf3PBVa9M2ry",
        "outputId": "8a386586-46b1-4162-b827-e49cd203c80d",
        "colab": {
          "base_uri": "https://localhost:8080/"
        }
      },
      "source": [
        "score = model.evaluate(x_test, y_test, verbose=0)\n",
        "print('Test loss:', score[0])\n",
        "print('Test accuracy:', score[1])\n"
      ],
      "execution_count": 7,
      "outputs": [
        {
          "output_type": "stream",
          "text": [
            "Test loss: 0.05711185932159424\n",
            "Test accuracy: 0.9844000339508057\n"
          ],
          "name": "stdout"
        }
      ]
    },
    {
      "cell_type": "code",
      "metadata": {
        "id": "-lH8wWQdUm-P"
      },
      "source": [
        ""
      ],
      "execution_count": 7,
      "outputs": []
    }
  ]
}