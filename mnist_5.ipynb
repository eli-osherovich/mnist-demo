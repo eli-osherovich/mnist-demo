{
  "nbformat": 4,
  "nbformat_minor": 0,
  "metadata": {
    "colab": {
      "name": "mnist-5",
      "provenance": [],
      "collapsed_sections": [],
      "authorship_tag": "ABX9TyMkKohJBo7hc51P5/5JVQre",
      "include_colab_link": true
    },
    "kernelspec": {
      "name": "python3",
      "display_name": "Python 3"
    },
    "accelerator": "GPU"
  },
  "cells": [
    {
      "cell_type": "markdown",
      "metadata": {
        "id": "view-in-github",
        "colab_type": "text"
      },
      "source": [
        "<a href=\"https://colab.research.google.com/github/eli-osherovich/mnist-demo/blob/main/mnist_5.ipynb\" target=\"_parent\"><img src=\"https://colab.research.google.com/assets/colab-badge.svg\" alt=\"Open In Colab\"/></a>"
      ]
    },
    {
      "cell_type": "code",
      "metadata": {
        "id": "IkuNVlXOG6ip"
      },
      "source": [
        "import numpy as np\n",
        "\n",
        "import tensorflow as tf\n",
        "from tensorflow import keras\n",
        "from keras.datasets import mnist, fashion_mnist"
      ],
      "execution_count": 1,
      "outputs": []
    },
    {
      "cell_type": "code",
      "metadata": {
        "id": "6txAjVhtvhzv",
        "outputId": "117b5982-8635-4fff-877d-f4e193f41ca4",
        "colab": {
          "base_uri": "https://localhost:8080/"
        }
      },
      "source": [
        "!nvidia-smi -L"
      ],
      "execution_count": 2,
      "outputs": [
        {
          "output_type": "stream",
          "text": [
            "GPU 0: Tesla V100-SXM2-16GB (UUID: GPU-e37db730-7d06-512e-cb1a-793d8103d770)\n"
          ],
          "name": "stdout"
        }
      ]
    },
    {
      "cell_type": "code",
      "metadata": {
        "id": "ESOUnO4PFnMZ"
      },
      "source": [
        "tf.config.optimizer.set_jit(True)"
      ],
      "execution_count": 3,
      "outputs": []
    },
    {
      "cell_type": "code",
      "metadata": {
        "id": "f2x7Alg8Ggkr",
        "outputId": "28a509a4-add3-4afe-b761-e85166a95df3",
        "colab": {
          "base_uri": "https://localhost:8080/"
        }
      },
      "source": [
        "# the data, split between train and test sets\n",
        "dataset = fashion_mnist\n",
        "dataset = mnist\n",
        "\n",
        "\n",
        "(x_train, y_train), (x_test, y_test) = dataset.load_data()\n",
        "\n",
        "x_train = np.expand_dims(x_train, -1)\n",
        "x_test = np.expand_dims(x_test, -1)\n",
        "\n",
        "x_train = x_train.astype(np.float32)/255\n",
        "x_test = x_test.astype(np.float32)/255\n",
        "y_train = y_train.astype(np.int)\n",
        "y_test = y_test.astype(np.int)\n",
        "\n",
        "print('x_train shape:', x_train.shape)\n",
        "print('x_test shape:', x_test.shape)"
      ],
      "execution_count": 4,
      "outputs": [
        {
          "output_type": "stream",
          "text": [
            "x_train shape: (60000, 28, 28, 1)\n",
            "x_test shape: (10000, 28, 28, 1)\n"
          ],
          "name": "stdout"
        }
      ]
    },
    {
      "cell_type": "code",
      "metadata": {
        "id": "TWe0A9RaZ2r6"
      },
      "source": [
        "def gen_model(activation=\"relu\"):\n",
        "  model = tf.keras.models.Sequential()\n",
        "  model.add(tf.keras.Input(shape=(28, 28, 1)))\n",
        "\n",
        "  model.add(tf.keras.layers.Conv2D(6, 5, activation=activation, padding=\"same\"))\n",
        "  model.add(tf.keras.layers.AveragePooling2D(2))\n",
        "  \n",
        "  model.add(tf.keras.layers.Conv2D(10, 5, activation=activation))\n",
        "  model.add(tf.keras.layers.AveragePooling2D())\n",
        "\n",
        "  model.add(tf.keras.layers.Conv2D(10, 5, activation=activation))\n",
        "  \n",
        "  model.add(tf.keras.layers.Flatten())\n",
        "  model.add(tf.keras.layers.Dense(84, activation=activation))\n",
        "  model.add(tf.keras.layers.Dense(10))\n",
        "  return model\n",
        "\n",
        "def compile_model(model, lr=0.001):\n",
        "  model.compile(loss=keras.losses.SparseCategoricalCrossentropy(from_logits=True),\n",
        "                optimizer=keras.optimizers.Adam(learning_rate=lr),\n",
        "                metrics=['accuracy'])\n",
        "  \n",
        "\n",
        "early_stop = tf.keras.callbacks.EarlyStopping(\n",
        "      monitor='val_accuracy',\n",
        "      patience=20,\n",
        "      restore_best_weights=True,\n",
        ")"
      ],
      "execution_count": 5,
      "outputs": []
    },
    {
      "cell_type": "code",
      "metadata": {
        "id": "Z5NllJuVPPwt",
        "outputId": "4ff8aa50-3e6e-4914-da08-de919e2fbf95",
        "colab": {
          "base_uri": "https://localhost:8080/"
        }
      },
      "source": [
        "%%time\n",
        "model = gen_model()\n",
        "compile_model(model)\n",
        "model.fit(x_train, y_train,\n",
        "          batch_size=128,\n",
        "          epochs=1000,\n",
        "          verbose=1,\n",
        "          callbacks=[early_stop],\n",
        "          validation_data=(x_test, y_test),\n",
        "          validation_batch_size=2048)\n"
      ],
      "execution_count": 6,
      "outputs": [
        {
          "output_type": "stream",
          "text": [
            "Epoch 1/1000\n",
            "469/469 [==============================] - 3s 5ms/step - loss: 0.6494 - accuracy: 0.7901 - val_loss: 0.2516 - val_accuracy: 0.9244\n",
            "Epoch 2/1000\n",
            "469/469 [==============================] - 3s 7ms/step - loss: 0.1997 - accuracy: 0.9406 - val_loss: 0.1431 - val_accuracy: 0.9568\n",
            "Epoch 3/1000\n",
            "469/469 [==============================] - 2s 3ms/step - loss: 0.1354 - accuracy: 0.9594 - val_loss: 0.1088 - val_accuracy: 0.9663\n",
            "Epoch 4/1000\n",
            "469/469 [==============================] - 2s 3ms/step - loss: 0.1121 - accuracy: 0.9667 - val_loss: 0.1012 - val_accuracy: 0.9674\n",
            "Epoch 5/1000\n",
            "469/469 [==============================] - 2s 3ms/step - loss: 0.0958 - accuracy: 0.9714 - val_loss: 0.0814 - val_accuracy: 0.9736\n",
            "Epoch 6/1000\n",
            "469/469 [==============================] - 2s 3ms/step - loss: 0.0883 - accuracy: 0.9735 - val_loss: 0.0749 - val_accuracy: 0.9751\n",
            "Epoch 7/1000\n",
            "469/469 [==============================] - 1s 3ms/step - loss: 0.0828 - accuracy: 0.9750 - val_loss: 0.0798 - val_accuracy: 0.9734\n",
            "Epoch 8/1000\n",
            "469/469 [==============================] - 2s 3ms/step - loss: 0.0775 - accuracy: 0.9768 - val_loss: 0.0735 - val_accuracy: 0.9751\n",
            "Epoch 9/1000\n",
            "469/469 [==============================] - 2s 3ms/step - loss: 0.0731 - accuracy: 0.9779 - val_loss: 0.0710 - val_accuracy: 0.9779\n",
            "Epoch 10/1000\n",
            "469/469 [==============================] - 2s 3ms/step - loss: 0.0690 - accuracy: 0.9791 - val_loss: 0.0683 - val_accuracy: 0.9751\n",
            "Epoch 11/1000\n",
            "469/469 [==============================] - 1s 3ms/step - loss: 0.0657 - accuracy: 0.9804 - val_loss: 0.0570 - val_accuracy: 0.9795\n",
            "Epoch 12/1000\n",
            "469/469 [==============================] - 1s 3ms/step - loss: 0.0632 - accuracy: 0.9810 - val_loss: 0.0671 - val_accuracy: 0.9777\n",
            "Epoch 13/1000\n",
            "469/469 [==============================] - 1s 3ms/step - loss: 0.0592 - accuracy: 0.9819 - val_loss: 0.0534 - val_accuracy: 0.9814\n",
            "Epoch 14/1000\n",
            "469/469 [==============================] - 1s 3ms/step - loss: 0.0567 - accuracy: 0.9824 - val_loss: 0.0522 - val_accuracy: 0.9811\n",
            "Epoch 15/1000\n",
            "469/469 [==============================] - 2s 3ms/step - loss: 0.0548 - accuracy: 0.9833 - val_loss: 0.0516 - val_accuracy: 0.9813\n",
            "Epoch 16/1000\n",
            "469/469 [==============================] - 2s 3ms/step - loss: 0.0525 - accuracy: 0.9836 - val_loss: 0.0490 - val_accuracy: 0.9832\n",
            "Epoch 17/1000\n",
            "469/469 [==============================] - 2s 3ms/step - loss: 0.0499 - accuracy: 0.9846 - val_loss: 0.0460 - val_accuracy: 0.9828\n",
            "Epoch 18/1000\n",
            "469/469 [==============================] - 2s 3ms/step - loss: 0.0466 - accuracy: 0.9855 - val_loss: 0.0508 - val_accuracy: 0.9833\n",
            "Epoch 19/1000\n",
            "469/469 [==============================] - 1s 3ms/step - loss: 0.0456 - accuracy: 0.9859 - val_loss: 0.0475 - val_accuracy: 0.9846\n",
            "Epoch 20/1000\n",
            "469/469 [==============================] - 1s 3ms/step - loss: 0.0446 - accuracy: 0.9859 - val_loss: 0.0466 - val_accuracy: 0.9835\n",
            "Epoch 21/1000\n",
            "469/469 [==============================] - 2s 3ms/step - loss: 0.0412 - accuracy: 0.9873 - val_loss: 0.0447 - val_accuracy: 0.9843\n",
            "Epoch 22/1000\n",
            "469/469 [==============================] - 2s 3ms/step - loss: 0.0409 - accuracy: 0.9873 - val_loss: 0.0501 - val_accuracy: 0.9830\n",
            "Epoch 23/1000\n",
            "469/469 [==============================] - 1s 3ms/step - loss: 0.0390 - accuracy: 0.9876 - val_loss: 0.0449 - val_accuracy: 0.9834\n",
            "Epoch 24/1000\n",
            "469/469 [==============================] - 2s 3ms/step - loss: 0.0380 - accuracy: 0.9878 - val_loss: 0.0538 - val_accuracy: 0.9815\n",
            "Epoch 25/1000\n",
            "469/469 [==============================] - 2s 3ms/step - loss: 0.0374 - accuracy: 0.9879 - val_loss: 0.0448 - val_accuracy: 0.9852\n",
            "Epoch 26/1000\n",
            "469/469 [==============================] - 2s 3ms/step - loss: 0.0349 - accuracy: 0.9890 - val_loss: 0.0494 - val_accuracy: 0.9836\n",
            "Epoch 27/1000\n",
            "469/469 [==============================] - 2s 3ms/step - loss: 0.0350 - accuracy: 0.9889 - val_loss: 0.0438 - val_accuracy: 0.9855\n",
            "Epoch 28/1000\n",
            "469/469 [==============================] - 2s 3ms/step - loss: 0.0337 - accuracy: 0.9889 - val_loss: 0.0367 - val_accuracy: 0.9862\n",
            "Epoch 29/1000\n",
            "469/469 [==============================] - 2s 3ms/step - loss: 0.0321 - accuracy: 0.9896 - val_loss: 0.0483 - val_accuracy: 0.9844\n",
            "Epoch 30/1000\n",
            "469/469 [==============================] - 2s 3ms/step - loss: 0.0315 - accuracy: 0.9900 - val_loss: 0.0439 - val_accuracy: 0.9857\n",
            "Epoch 31/1000\n",
            "469/469 [==============================] - 2s 3ms/step - loss: 0.0314 - accuracy: 0.9900 - val_loss: 0.0391 - val_accuracy: 0.9867\n",
            "Epoch 32/1000\n",
            "469/469 [==============================] - 2s 3ms/step - loss: 0.0301 - accuracy: 0.9903 - val_loss: 0.0392 - val_accuracy: 0.9868\n",
            "Epoch 33/1000\n",
            "469/469 [==============================] - 2s 3ms/step - loss: 0.0283 - accuracy: 0.9910 - val_loss: 0.0406 - val_accuracy: 0.9861\n",
            "Epoch 34/1000\n",
            "469/469 [==============================] - 2s 3ms/step - loss: 0.0278 - accuracy: 0.9914 - val_loss: 0.0483 - val_accuracy: 0.9842\n",
            "Epoch 35/1000\n",
            "469/469 [==============================] - 2s 3ms/step - loss: 0.0281 - accuracy: 0.9912 - val_loss: 0.0509 - val_accuracy: 0.9822\n",
            "Epoch 36/1000\n",
            "469/469 [==============================] - 2s 3ms/step - loss: 0.0270 - accuracy: 0.9910 - val_loss: 0.0470 - val_accuracy: 0.9841\n",
            "Epoch 37/1000\n",
            "469/469 [==============================] - 2s 3ms/step - loss: 0.0266 - accuracy: 0.9918 - val_loss: 0.0413 - val_accuracy: 0.9869\n",
            "Epoch 38/1000\n",
            "469/469 [==============================] - 2s 3ms/step - loss: 0.0250 - accuracy: 0.9917 - val_loss: 0.0349 - val_accuracy: 0.9880\n",
            "Epoch 39/1000\n",
            "469/469 [==============================] - 2s 3ms/step - loss: 0.0252 - accuracy: 0.9917 - val_loss: 0.0423 - val_accuracy: 0.9843\n",
            "Epoch 40/1000\n",
            "469/469 [==============================] - 2s 3ms/step - loss: 0.0240 - accuracy: 0.9920 - val_loss: 0.0367 - val_accuracy: 0.9879\n",
            "Epoch 41/1000\n",
            "469/469 [==============================] - 2s 3ms/step - loss: 0.0237 - accuracy: 0.9923 - val_loss: 0.0411 - val_accuracy: 0.9855\n",
            "Epoch 42/1000\n",
            "469/469 [==============================] - 2s 3ms/step - loss: 0.0246 - accuracy: 0.9918 - val_loss: 0.0392 - val_accuracy: 0.9871\n",
            "Epoch 43/1000\n",
            "469/469 [==============================] - 2s 3ms/step - loss: 0.0230 - accuracy: 0.9925 - val_loss: 0.0385 - val_accuracy: 0.9885\n",
            "Epoch 44/1000\n",
            "469/469 [==============================] - 1s 3ms/step - loss: 0.0224 - accuracy: 0.9923 - val_loss: 0.0467 - val_accuracy: 0.9865\n",
            "Epoch 45/1000\n",
            "469/469 [==============================] - 2s 3ms/step - loss: 0.0221 - accuracy: 0.9927 - val_loss: 0.0452 - val_accuracy: 0.9859\n",
            "Epoch 46/1000\n",
            "469/469 [==============================] - 1s 3ms/step - loss: 0.0208 - accuracy: 0.9932 - val_loss: 0.0413 - val_accuracy: 0.9865\n",
            "Epoch 47/1000\n",
            "469/469 [==============================] - 2s 3ms/step - loss: 0.0216 - accuracy: 0.9928 - val_loss: 0.0419 - val_accuracy: 0.9867\n",
            "Epoch 48/1000\n",
            "469/469 [==============================] - 2s 3ms/step - loss: 0.0206 - accuracy: 0.9932 - val_loss: 0.0391 - val_accuracy: 0.9879\n",
            "Epoch 49/1000\n",
            "469/469 [==============================] - 2s 3ms/step - loss: 0.0197 - accuracy: 0.9938 - val_loss: 0.0383 - val_accuracy: 0.9878\n",
            "Epoch 50/1000\n",
            "469/469 [==============================] - 2s 3ms/step - loss: 0.0202 - accuracy: 0.9931 - val_loss: 0.0457 - val_accuracy: 0.9857\n",
            "Epoch 51/1000\n",
            "469/469 [==============================] - 2s 3ms/step - loss: 0.0200 - accuracy: 0.9933 - val_loss: 0.0530 - val_accuracy: 0.9852\n",
            "Epoch 52/1000\n",
            "469/469 [==============================] - 2s 3ms/step - loss: 0.0202 - accuracy: 0.9936 - val_loss: 0.0400 - val_accuracy: 0.9873\n",
            "Epoch 53/1000\n",
            "469/469 [==============================] - 2s 3ms/step - loss: 0.0197 - accuracy: 0.9934 - val_loss: 0.0430 - val_accuracy: 0.9862\n",
            "Epoch 54/1000\n",
            "469/469 [==============================] - 2s 3ms/step - loss: 0.0179 - accuracy: 0.9940 - val_loss: 0.0468 - val_accuracy: 0.9862\n",
            "Epoch 55/1000\n",
            "469/469 [==============================] - 2s 3ms/step - loss: 0.0182 - accuracy: 0.9940 - val_loss: 0.0437 - val_accuracy: 0.9861\n",
            "Epoch 56/1000\n",
            "469/469 [==============================] - 2s 3ms/step - loss: 0.0182 - accuracy: 0.9936 - val_loss: 0.0467 - val_accuracy: 0.9858\n",
            "Epoch 57/1000\n",
            "469/469 [==============================] - 2s 3ms/step - loss: 0.0179 - accuracy: 0.9941 - val_loss: 0.0456 - val_accuracy: 0.9867\n",
            "Epoch 58/1000\n",
            "469/469 [==============================] - 2s 3ms/step - loss: 0.0168 - accuracy: 0.9941 - val_loss: 0.0443 - val_accuracy: 0.9860\n",
            "Epoch 59/1000\n",
            "469/469 [==============================] - 2s 3ms/step - loss: 0.0179 - accuracy: 0.9939 - val_loss: 0.0513 - val_accuracy: 0.9853\n",
            "Epoch 60/1000\n",
            "469/469 [==============================] - 2s 3ms/step - loss: 0.0158 - accuracy: 0.9947 - val_loss: 0.0427 - val_accuracy: 0.9871\n",
            "Epoch 61/1000\n",
            "469/469 [==============================] - 2s 3ms/step - loss: 0.0157 - accuracy: 0.9947 - val_loss: 0.0477 - val_accuracy: 0.9867\n",
            "Epoch 62/1000\n",
            "469/469 [==============================] - 2s 3ms/step - loss: 0.0159 - accuracy: 0.9945 - val_loss: 0.0488 - val_accuracy: 0.9868\n",
            "Epoch 63/1000\n",
            "469/469 [==============================] - 2s 3ms/step - loss: 0.0159 - accuracy: 0.9951 - val_loss: 0.0440 - val_accuracy: 0.9866\n",
            "CPU times: user 1min 53s, sys: 13 s, total: 2min 6s\n",
            "Wall time: 1min 43s\n"
          ],
          "name": "stdout"
        }
      ]
    },
    {
      "cell_type": "code",
      "metadata": {
        "id": "tf3PBVa9M2ry",
        "outputId": "12299b7a-46b3-4e0f-9b1e-944eb5b260c1",
        "colab": {
          "base_uri": "https://localhost:8080/"
        }
      },
      "source": [
        "score = model.evaluate(x_test, y_test, verbose=0)\n",
        "print('Test loss:', score[0])\n",
        "print('Test accuracy:', score[1])\n"
      ],
      "execution_count": 7,
      "outputs": [
        {
          "output_type": "stream",
          "text": [
            "Test loss: 0.038501858711242676\n",
            "Test accuracy: 0.9885000586509705\n"
          ],
          "name": "stdout"
        }
      ]
    },
    {
      "cell_type": "code",
      "metadata": {
        "id": "-lH8wWQdUm-P"
      },
      "source": [
        ""
      ],
      "execution_count": 7,
      "outputs": []
    }
  ]
}