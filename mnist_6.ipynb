{
  "nbformat": 4,
  "nbformat_minor": 0,
  "metadata": {
    "colab": {
      "name": "mnist-6",
      "provenance": [],
      "collapsed_sections": [],
      "authorship_tag": "ABX9TyOaXuEBnqB9TXPsDLhv1dr1",
      "include_colab_link": true
    },
    "kernelspec": {
      "name": "python3",
      "display_name": "Python 3"
    },
    "accelerator": "GPU"
  },
  "cells": [
    {
      "cell_type": "markdown",
      "metadata": {
        "id": "view-in-github",
        "colab_type": "text"
      },
      "source": [
        "<a href=\"https://colab.research.google.com/github/eli-osherovich/mnist-demo/blob/main/mnist_6.ipynb\" target=\"_parent\"><img src=\"https://colab.research.google.com/assets/colab-badge.svg\" alt=\"Open In Colab\"/></a>"
      ]
    },
    {
      "cell_type": "code",
      "metadata": {
        "id": "IkuNVlXOG6ip"
      },
      "source": [
        "import numpy as np\n",
        "\n",
        "import tensorflow as tf\n",
        "from tensorflow import keras\n",
        "from keras.datasets import mnist, fashion_mnist"
      ],
      "execution_count": 1,
      "outputs": []
    },
    {
      "cell_type": "code",
      "metadata": {
        "id": "6txAjVhtvhzv",
        "outputId": "ece5b598-0dd9-4539-cc2b-05dbde63d361",
        "colab": {
          "base_uri": "https://localhost:8080/"
        }
      },
      "source": [
        "!nvidia-smi -L"
      ],
      "execution_count": 2,
      "outputs": [
        {
          "output_type": "stream",
          "text": [
            "GPU 0: Tesla V100-SXM2-16GB (UUID: GPU-c79ae2d4-448b-8432-666f-b372ae8c8e4d)\n"
          ],
          "name": "stdout"
        }
      ]
    },
    {
      "cell_type": "code",
      "metadata": {
        "id": "ESOUnO4PFnMZ"
      },
      "source": [
        "tf.config.optimizer.set_jit(True)"
      ],
      "execution_count": 3,
      "outputs": []
    },
    {
      "cell_type": "code",
      "metadata": {
        "id": "f2x7Alg8Ggkr",
        "outputId": "eea3ad2b-af6e-4d3a-cb72-e33bfe46b053",
        "colab": {
          "base_uri": "https://localhost:8080/"
        }
      },
      "source": [
        "# the data, split between train and test sets\n",
        "dataset = fashion_mnist\n",
        "dataset = mnist\n",
        "\n",
        "\n",
        "(x_train, y_train), (x_test, y_test) = dataset.load_data()\n",
        "\n",
        "x_train = np.expand_dims(x_train, -1)\n",
        "x_test = np.expand_dims(x_test, -1)\n",
        "\n",
        "x_train = x_train.astype(np.float32)/255\n",
        "x_test = x_test.astype(np.float32)/255\n",
        "y_train = y_train.astype(np.int)\n",
        "y_test = y_test.astype(np.int)\n",
        "\n",
        "print('x_train shape:', x_train.shape)\n",
        "print('x_test shape:', x_test.shape)"
      ],
      "execution_count": 4,
      "outputs": [
        {
          "output_type": "stream",
          "text": [
            "x_train shape: (60000, 28, 28, 1)\n",
            "x_test shape: (10000, 28, 28, 1)\n"
          ],
          "name": "stdout"
        }
      ]
    },
    {
      "cell_type": "code",
      "metadata": {
        "id": "TWe0A9RaZ2r6"
      },
      "source": [
        "def gen_model(activation=\"relu\"):\n",
        "  model = tf.keras.models.Sequential()\n",
        "  model.add(tf.keras.Input(shape=(28, 28, 1)))\n",
        "\n",
        "  model.add(tf.keras.layers.Conv2D(128, 5, activation=activation, padding=\"same\"))\n",
        "  model.add(tf.keras.layers.AveragePooling2D(2))\n",
        "  \n",
        "  model.add(tf.keras.layers.Conv2D(128, 5, activation=activation))\n",
        "  model.add(tf.keras.layers.AveragePooling2D())\n",
        "\n",
        "  model.add(tf.keras.layers.Conv2D(128, 5, activation=activation))\n",
        "  \n",
        "  model.add(tf.keras.layers.Flatten())\n",
        "  model.add(tf.keras.layers.Dense(128, activation=activation))\n",
        "  model.add(tf.keras.layers.Dense(10))\n",
        "  return model\n",
        "\n",
        "def compile_model(model, lr=0.001):\n",
        "  model.compile(loss=keras.losses.SparseCategoricalCrossentropy(from_logits=True),\n",
        "                optimizer=keras.optimizers.Adam(learning_rate=lr),\n",
        "                metrics=['accuracy'])\n",
        "  \n",
        "\n",
        "early_stop = tf.keras.callbacks.EarlyStopping(\n",
        "      monitor='val_accuracy',\n",
        "      patience=20,\n",
        "      restore_best_weights=True,\n",
        ")"
      ],
      "execution_count": 5,
      "outputs": []
    },
    {
      "cell_type": "code",
      "metadata": {
        "id": "Z5NllJuVPPwt",
        "outputId": "987f90cd-f8c7-41a9-e143-e9309172a0bd",
        "colab": {
          "base_uri": "https://localhost:8080/"
        }
      },
      "source": [
        "%%time\n",
        "model = gen_model()\n",
        "compile_model(model)\n",
        "model.fit(x_train, y_train,\n",
        "          batch_size=128,\n",
        "          epochs=1000,\n",
        "          verbose=1,\n",
        "          callbacks=[early_stop],\n",
        "          validation_data=(x_test, y_test),\n",
        "          validation_batch_size=2048)\n"
      ],
      "execution_count": 6,
      "outputs": [
        {
          "output_type": "stream",
          "text": [
            "Epoch 1/1000\n",
            "469/469 [==============================] - 4s 9ms/step - loss: 0.1926 - accuracy: 0.9414 - val_loss: 0.0530 - val_accuracy: 0.9848\n",
            "Epoch 2/1000\n",
            "469/469 [==============================] - 4s 9ms/step - loss: 0.0529 - accuracy: 0.9835 - val_loss: 0.0372 - val_accuracy: 0.9884\n",
            "Epoch 3/1000\n",
            "469/469 [==============================] - 2s 5ms/step - loss: 0.0360 - accuracy: 0.9894 - val_loss: 0.0314 - val_accuracy: 0.9894\n",
            "Epoch 4/1000\n",
            "469/469 [==============================] - 3s 5ms/step - loss: 0.0291 - accuracy: 0.9909 - val_loss: 0.0281 - val_accuracy: 0.9894\n",
            "Epoch 5/1000\n",
            "469/469 [==============================] - 2s 5ms/step - loss: 0.0241 - accuracy: 0.9925 - val_loss: 0.0295 - val_accuracy: 0.9903\n",
            "Epoch 6/1000\n",
            "469/469 [==============================] - 2s 5ms/step - loss: 0.0190 - accuracy: 0.9939 - val_loss: 0.0267 - val_accuracy: 0.9917\n",
            "Epoch 7/1000\n",
            "469/469 [==============================] - 2s 5ms/step - loss: 0.0164 - accuracy: 0.9948 - val_loss: 0.0232 - val_accuracy: 0.9922\n",
            "Epoch 8/1000\n",
            "469/469 [==============================] - 2s 5ms/step - loss: 0.0130 - accuracy: 0.9957 - val_loss: 0.0262 - val_accuracy: 0.9915\n",
            "Epoch 9/1000\n",
            "469/469 [==============================] - 2s 5ms/step - loss: 0.0113 - accuracy: 0.9966 - val_loss: 0.0257 - val_accuracy: 0.9919\n",
            "Epoch 10/1000\n",
            "469/469 [==============================] - 2s 5ms/step - loss: 0.0113 - accuracy: 0.9962 - val_loss: 0.0246 - val_accuracy: 0.9918\n",
            "Epoch 11/1000\n",
            "469/469 [==============================] - 2s 5ms/step - loss: 0.0095 - accuracy: 0.9969 - val_loss: 0.0315 - val_accuracy: 0.9918\n",
            "Epoch 12/1000\n",
            "469/469 [==============================] - 2s 5ms/step - loss: 0.0084 - accuracy: 0.9975 - val_loss: 0.0257 - val_accuracy: 0.9928\n",
            "Epoch 13/1000\n",
            "469/469 [==============================] - 2s 5ms/step - loss: 0.0064 - accuracy: 0.9979 - val_loss: 0.0396 - val_accuracy: 0.9901\n",
            "Epoch 14/1000\n",
            "469/469 [==============================] - 2s 5ms/step - loss: 0.0076 - accuracy: 0.9975 - val_loss: 0.0319 - val_accuracy: 0.9915\n",
            "Epoch 15/1000\n",
            "469/469 [==============================] - 2s 5ms/step - loss: 0.0049 - accuracy: 0.9985 - val_loss: 0.0348 - val_accuracy: 0.9916\n",
            "Epoch 16/1000\n",
            "469/469 [==============================] - 2s 5ms/step - loss: 0.0042 - accuracy: 0.9985 - val_loss: 0.0404 - val_accuracy: 0.9917\n",
            "Epoch 17/1000\n",
            "469/469 [==============================] - 2s 5ms/step - loss: 0.0070 - accuracy: 0.9976 - val_loss: 0.0423 - val_accuracy: 0.9910\n",
            "Epoch 18/1000\n",
            "469/469 [==============================] - 2s 5ms/step - loss: 0.0062 - accuracy: 0.9981 - val_loss: 0.0297 - val_accuracy: 0.9927\n",
            "Epoch 19/1000\n",
            "469/469 [==============================] - 2s 5ms/step - loss: 0.0046 - accuracy: 0.9988 - val_loss: 0.0311 - val_accuracy: 0.9910\n",
            "Epoch 20/1000\n",
            "469/469 [==============================] - 2s 5ms/step - loss: 0.0031 - accuracy: 0.9990 - val_loss: 0.0561 - val_accuracy: 0.9895\n",
            "Epoch 21/1000\n",
            "469/469 [==============================] - 2s 5ms/step - loss: 0.0046 - accuracy: 0.9985 - val_loss: 0.0332 - val_accuracy: 0.9922\n",
            "Epoch 22/1000\n",
            "469/469 [==============================] - 2s 5ms/step - loss: 0.0024 - accuracy: 0.9992 - val_loss: 0.0352 - val_accuracy: 0.9924\n",
            "Epoch 23/1000\n",
            "469/469 [==============================] - 2s 5ms/step - loss: 0.0042 - accuracy: 0.9986 - val_loss: 0.0341 - val_accuracy: 0.9923\n",
            "Epoch 24/1000\n",
            "469/469 [==============================] - 2s 5ms/step - loss: 0.0030 - accuracy: 0.9992 - val_loss: 0.0354 - val_accuracy: 0.9920\n",
            "Epoch 25/1000\n",
            "469/469 [==============================] - 2s 5ms/step - loss: 0.0030 - accuracy: 0.9991 - val_loss: 0.0485 - val_accuracy: 0.9906\n",
            "Epoch 26/1000\n",
            "469/469 [==============================] - 2s 5ms/step - loss: 0.0026 - accuracy: 0.9992 - val_loss: 0.0371 - val_accuracy: 0.9922\n",
            "Epoch 27/1000\n",
            "469/469 [==============================] - 2s 5ms/step - loss: 0.0029 - accuracy: 0.9991 - val_loss: 0.0348 - val_accuracy: 0.9929\n",
            "Epoch 28/1000\n",
            "469/469 [==============================] - 2s 5ms/step - loss: 0.0036 - accuracy: 0.9989 - val_loss: 0.0511 - val_accuracy: 0.9895\n",
            "Epoch 29/1000\n",
            "469/469 [==============================] - 2s 5ms/step - loss: 0.0034 - accuracy: 0.9988 - val_loss: 0.0355 - val_accuracy: 0.9919\n",
            "Epoch 30/1000\n",
            "469/469 [==============================] - 3s 5ms/step - loss: 0.0030 - accuracy: 0.9990 - val_loss: 0.0410 - val_accuracy: 0.9902\n",
            "Epoch 31/1000\n",
            "469/469 [==============================] - 3s 5ms/step - loss: 0.0019 - accuracy: 0.9994 - val_loss: 0.0336 - val_accuracy: 0.9925\n",
            "Epoch 32/1000\n",
            "469/469 [==============================] - 2s 5ms/step - loss: 0.0016 - accuracy: 0.9995 - val_loss: 0.0359 - val_accuracy: 0.9927\n",
            "Epoch 33/1000\n",
            "469/469 [==============================] - 2s 5ms/step - loss: 0.0037 - accuracy: 0.9990 - val_loss: 0.0454 - val_accuracy: 0.9904\n",
            "Epoch 34/1000\n",
            "469/469 [==============================] - 2s 5ms/step - loss: 0.0028 - accuracy: 0.9992 - val_loss: 0.0384 - val_accuracy: 0.9921\n",
            "Epoch 35/1000\n",
            "469/469 [==============================] - 2s 5ms/step - loss: 0.0015 - accuracy: 0.9996 - val_loss: 0.0308 - val_accuracy: 0.9936\n",
            "Epoch 36/1000\n",
            "469/469 [==============================] - 2s 5ms/step - loss: 4.9712e-04 - accuracy: 0.9999 - val_loss: 0.0354 - val_accuracy: 0.9928\n",
            "Epoch 37/1000\n",
            "469/469 [==============================] - 2s 5ms/step - loss: 2.7226e-05 - accuracy: 1.0000 - val_loss: 0.0346 - val_accuracy: 0.9935\n",
            "Epoch 38/1000\n",
            "469/469 [==============================] - 2s 5ms/step - loss: 5.8649e-06 - accuracy: 1.0000 - val_loss: 0.0352 - val_accuracy: 0.9938\n",
            "Epoch 39/1000\n",
            "469/469 [==============================] - 2s 5ms/step - loss: 3.6615e-06 - accuracy: 1.0000 - val_loss: 0.0358 - val_accuracy: 0.9938\n",
            "Epoch 40/1000\n",
            "469/469 [==============================] - 2s 5ms/step - loss: 2.5747e-06 - accuracy: 1.0000 - val_loss: 0.0364 - val_accuracy: 0.9939\n",
            "Epoch 41/1000\n",
            "469/469 [==============================] - 2s 5ms/step - loss: 1.8763e-06 - accuracy: 1.0000 - val_loss: 0.0370 - val_accuracy: 0.9937\n",
            "Epoch 42/1000\n",
            "469/469 [==============================] - 2s 5ms/step - loss: 1.3947e-06 - accuracy: 1.0000 - val_loss: 0.0377 - val_accuracy: 0.9937\n",
            "Epoch 43/1000\n",
            "469/469 [==============================] - 2s 5ms/step - loss: 1.0389e-06 - accuracy: 1.0000 - val_loss: 0.0383 - val_accuracy: 0.9937\n",
            "Epoch 44/1000\n",
            "469/469 [==============================] - 3s 5ms/step - loss: 7.7657e-07 - accuracy: 1.0000 - val_loss: 0.0390 - val_accuracy: 0.9939\n",
            "Epoch 45/1000\n",
            "469/469 [==============================] - 3s 6ms/step - loss: 5.8448e-07 - accuracy: 1.0000 - val_loss: 0.0397 - val_accuracy: 0.9939\n",
            "Epoch 46/1000\n",
            "469/469 [==============================] - 3s 6ms/step - loss: 4.3945e-07 - accuracy: 1.0000 - val_loss: 0.0403 - val_accuracy: 0.9940\n",
            "Epoch 47/1000\n",
            "469/469 [==============================] - 3s 6ms/step - loss: 3.3439e-07 - accuracy: 1.0000 - val_loss: 0.0410 - val_accuracy: 0.9939\n",
            "Epoch 48/1000\n",
            "469/469 [==============================] - 3s 5ms/step - loss: 2.5368e-07 - accuracy: 1.0000 - val_loss: 0.0417 - val_accuracy: 0.9941\n",
            "Epoch 49/1000\n",
            "469/469 [==============================] - 2s 5ms/step - loss: 1.9319e-07 - accuracy: 1.0000 - val_loss: 0.0424 - val_accuracy: 0.9941\n",
            "Epoch 50/1000\n",
            "469/469 [==============================] - 2s 5ms/step - loss: 1.4605e-07 - accuracy: 1.0000 - val_loss: 0.0432 - val_accuracy: 0.9941\n",
            "Epoch 51/1000\n",
            "469/469 [==============================] - 2s 5ms/step - loss: 1.1135e-07 - accuracy: 1.0000 - val_loss: 0.0437 - val_accuracy: 0.9941\n",
            "Epoch 52/1000\n",
            "469/469 [==============================] - 2s 5ms/step - loss: 8.4743e-08 - accuracy: 1.0000 - val_loss: 0.0444 - val_accuracy: 0.9941\n",
            "Epoch 53/1000\n",
            "469/469 [==============================] - 2s 5ms/step - loss: 6.6119e-08 - accuracy: 1.0000 - val_loss: 0.0452 - val_accuracy: 0.9941\n",
            "Epoch 54/1000\n",
            "469/469 [==============================] - 2s 5ms/step - loss: 5.0763e-08 - accuracy: 1.0000 - val_loss: 0.0459 - val_accuracy: 0.9941\n",
            "Epoch 55/1000\n",
            "469/469 [==============================] - 2s 5ms/step - loss: 3.8747e-08 - accuracy: 1.0000 - val_loss: 0.0465 - val_accuracy: 0.9941\n",
            "Epoch 56/1000\n",
            "469/469 [==============================] - 2s 5ms/step - loss: 3.0573e-08 - accuracy: 1.0000 - val_loss: 0.0470 - val_accuracy: 0.9943\n",
            "Epoch 57/1000\n",
            "469/469 [==============================] - 2s 5ms/step - loss: 2.3848e-08 - accuracy: 1.0000 - val_loss: 0.0479 - val_accuracy: 0.9941\n",
            "Epoch 58/1000\n",
            "469/469 [==============================] - 2s 5ms/step - loss: 1.8730e-08 - accuracy: 1.0000 - val_loss: 0.0485 - val_accuracy: 0.9941\n",
            "Epoch 59/1000\n",
            "469/469 [==============================] - 2s 5ms/step - loss: 1.4998e-08 - accuracy: 1.0000 - val_loss: 0.0490 - val_accuracy: 0.9942\n",
            "Epoch 60/1000\n",
            "469/469 [==============================] - 2s 5ms/step - loss: 1.1669e-08 - accuracy: 1.0000 - val_loss: 0.0496 - val_accuracy: 0.9942\n",
            "Epoch 61/1000\n",
            "469/469 [==============================] - 3s 5ms/step - loss: 9.4394e-09 - accuracy: 1.0000 - val_loss: 0.0502 - val_accuracy: 0.9941\n",
            "Epoch 62/1000\n",
            "469/469 [==============================] - 2s 5ms/step - loss: 7.5122e-09 - accuracy: 1.0000 - val_loss: 0.0507 - val_accuracy: 0.9943\n",
            "Epoch 63/1000\n",
            "469/469 [==============================] - 2s 5ms/step - loss: 5.9207e-09 - accuracy: 1.0000 - val_loss: 0.0513 - val_accuracy: 0.9943\n",
            "Epoch 64/1000\n",
            "469/469 [==============================] - 2s 5ms/step - loss: 4.9472e-09 - accuracy: 1.0000 - val_loss: 0.0518 - val_accuracy: 0.9943\n",
            "Epoch 65/1000\n",
            "469/469 [==============================] - 2s 5ms/step - loss: 3.9359e-09 - accuracy: 1.0000 - val_loss: 0.0524 - val_accuracy: 0.9943\n",
            "Epoch 66/1000\n",
            "469/469 [==============================] - 2s 5ms/step - loss: 3.1789e-09 - accuracy: 1.0000 - val_loss: 0.0529 - val_accuracy: 0.9943\n",
            "Epoch 67/1000\n",
            "469/469 [==============================] - 3s 5ms/step - loss: 2.6365e-09 - accuracy: 1.0000 - val_loss: 0.0532 - val_accuracy: 0.9943\n",
            "Epoch 68/1000\n",
            "469/469 [==============================] - 2s 5ms/step - loss: 2.1895e-09 - accuracy: 1.0000 - val_loss: 0.0537 - val_accuracy: 0.9942\n",
            "Epoch 69/1000\n",
            "469/469 [==============================] - 2s 5ms/step - loss: 1.8219e-09 - accuracy: 1.0000 - val_loss: 0.0543 - val_accuracy: 0.9941\n",
            "Epoch 70/1000\n",
            "469/469 [==============================] - 2s 5ms/step - loss: 1.4921e-09 - accuracy: 1.0000 - val_loss: 0.0547 - val_accuracy: 0.9942\n",
            "Epoch 71/1000\n",
            "469/469 [==============================] - 2s 5ms/step - loss: 1.2577e-09 - accuracy: 1.0000 - val_loss: 0.0551 - val_accuracy: 0.9942\n",
            "Epoch 72/1000\n",
            "469/469 [==============================] - 2s 5ms/step - loss: 1.0808e-09 - accuracy: 1.0000 - val_loss: 0.0555 - val_accuracy: 0.9942\n",
            "Epoch 73/1000\n",
            "469/469 [==============================] - 2s 5ms/step - loss: 8.8811e-10 - accuracy: 1.0000 - val_loss: 0.0559 - val_accuracy: 0.9942\n",
            "Epoch 74/1000\n",
            "469/469 [==============================] - 2s 5ms/step - loss: 7.6890e-10 - accuracy: 1.0000 - val_loss: 0.0564 - val_accuracy: 0.9942\n",
            "Epoch 75/1000\n",
            "469/469 [==============================] - 2s 5ms/step - loss: 6.4969e-10 - accuracy: 1.0000 - val_loss: 0.0567 - val_accuracy: 0.9942\n",
            "Epoch 76/1000\n",
            "469/469 [==============================] - 3s 5ms/step - loss: 5.5830e-10 - accuracy: 1.0000 - val_loss: 0.0570 - val_accuracy: 0.9942\n",
            "CPU times: user 2min 47s, sys: 18.2 s, total: 3min 5s\n",
            "Wall time: 3min 16s\n"
          ],
          "name": "stdout"
        }
      ]
    },
    {
      "cell_type": "code",
      "metadata": {
        "id": "tf3PBVa9M2ry",
        "outputId": "aafe74a9-004e-4b1e-bbeb-ca331d350bd0",
        "colab": {
          "base_uri": "https://localhost:8080/"
        }
      },
      "source": [
        "score = model.evaluate(x_test, y_test, verbose=0)\n",
        "print('Test loss:', score[0])\n",
        "print('Test accuracy:', score[1])\n"
      ],
      "execution_count": 7,
      "outputs": [
        {
          "output_type": "stream",
          "text": [
            "Test loss: 0.04701683297753334\n",
            "Test accuracy: 0.9943000674247742\n"
          ],
          "name": "stdout"
        }
      ]
    }
  ]
}