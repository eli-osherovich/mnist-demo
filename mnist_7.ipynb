{
  "nbformat": 4,
  "nbformat_minor": 0,
  "metadata": {
    "colab": {
      "name": "mnist-7",
      "provenance": [],
      "collapsed_sections": [],
      "authorship_tag": "ABX9TyPQRWW78Z+5YEJo0lVwhUfg",
      "include_colab_link": true
    },
    "kernelspec": {
      "name": "python3",
      "display_name": "Python 3"
    },
    "accelerator": "GPU"
  },
  "cells": [
    {
      "cell_type": "markdown",
      "metadata": {
        "id": "view-in-github",
        "colab_type": "text"
      },
      "source": [
        "<a href=\"https://colab.research.google.com/github/eli-osherovich/mnist-demo/blob/main/mnist_7.ipynb\" target=\"_parent\"><img src=\"https://colab.research.google.com/assets/colab-badge.svg\" alt=\"Open In Colab\"/></a>"
      ]
    },
    {
      "cell_type": "code",
      "metadata": {
        "id": "IkuNVlXOG6ip"
      },
      "source": [
        "import numpy as np\n",
        "\n",
        "import tensorflow as tf\n",
        "from tensorflow import keras\n",
        "from keras.datasets import mnist, fashion_mnist"
      ],
      "execution_count": 1,
      "outputs": []
    },
    {
      "cell_type": "code",
      "metadata": {
        "id": "6txAjVhtvhzv",
        "outputId": "ece5b598-0dd9-4539-cc2b-05dbde63d361",
        "colab": {
          "base_uri": "https://localhost:8080/"
        }
      },
      "source": [
        "!nvidia-smi -L"
      ],
      "execution_count": 2,
      "outputs": [
        {
          "output_type": "stream",
          "text": [
            "GPU 0: Tesla V100-SXM2-16GB (UUID: GPU-c79ae2d4-448b-8432-666f-b372ae8c8e4d)\n"
          ],
          "name": "stdout"
        }
      ]
    },
    {
      "cell_type": "code",
      "metadata": {
        "id": "ESOUnO4PFnMZ"
      },
      "source": [
        "tf.config.optimizer.set_jit(True)"
      ],
      "execution_count": 3,
      "outputs": []
    },
    {
      "cell_type": "code",
      "metadata": {
        "id": "f2x7Alg8Ggkr",
        "outputId": "eea3ad2b-af6e-4d3a-cb72-e33bfe46b053",
        "colab": {
          "base_uri": "https://localhost:8080/"
        }
      },
      "source": [
        "# the data, split between train and test sets\n",
        "dataset = fashion_mnist\n",
        "dataset = mnist\n",
        "\n",
        "\n",
        "(x_train, y_train), (x_test, y_test) = dataset.load_data()\n",
        "\n",
        "x_train = np.expand_dims(x_train, -1)\n",
        "x_test = np.expand_dims(x_test, -1)\n",
        "\n",
        "x_train = x_train.astype(np.float32)/255\n",
        "x_test = x_test.astype(np.float32)/255\n",
        "y_train = y_train.astype(np.int)\n",
        "y_test = y_test.astype(np.int)\n",
        "\n",
        "print('x_train shape:', x_train.shape)\n",
        "print('x_test shape:', x_test.shape)"
      ],
      "execution_count": 4,
      "outputs": [
        {
          "output_type": "stream",
          "text": [
            "x_train shape: (60000, 28, 28, 1)\n",
            "x_test shape: (10000, 28, 28, 1)\n"
          ],
          "name": "stdout"
        }
      ]
    },
    {
      "cell_type": "code",
      "metadata": {
        "id": "g3VxEX1Wl7hq"
      },
      "source": [
        "datagen = tf.keras.preprocessing.image.ImageDataGenerator(rotation_range=10,\n",
        "                                                          shear_range=10,\n",
        "                                                          width_shift_range=0.1,\n",
        "                                                          height_shift_range=0.1, \n",
        "                                                          zoom_range=0.2, \n",
        "                                                          fill_mode='constant', cval=0)\n",
        "datagen.fit(x_train)"
      ],
      "execution_count": 8,
      "outputs": []
    },
    {
      "cell_type": "code",
      "metadata": {
        "id": "TWe0A9RaZ2r6"
      },
      "source": [
        "def gen_model(activation=\"relu\"):\n",
        "  model = tf.keras.models.Sequential()\n",
        "  model.add(tf.keras.Input(shape=(28, 28, 1)))\n",
        "\n",
        "  model.add(tf.keras.layers.Conv2D(128, 5, activation=activation, padding=\"same\"))\n",
        "  model.add(tf.keras.layers.AveragePooling2D(2))\n",
        "  \n",
        "  model.add(tf.keras.layers.Conv2D(128, 5, activation=activation))\n",
        "  model.add(tf.keras.layers.AveragePooling2D())\n",
        "\n",
        "  model.add(tf.keras.layers.Conv2D(128, 5, activation=activation))\n",
        "  \n",
        "  model.add(tf.keras.layers.Flatten())\n",
        "  model.add(tf.keras.layers.Dense(128, activation=activation))\n",
        "  model.add(tf.keras.layers.Dense(10))\n",
        "  return model\n",
        "\n",
        "def compile_model(model, lr=0.001):\n",
        "  model.compile(loss=keras.losses.SparseCategoricalCrossentropy(from_logits=True),\n",
        "                optimizer=keras.optimizers.Adam(learning_rate=lr),\n",
        "                metrics=['accuracy'])\n",
        "  \n",
        "\n",
        "early_stop = tf.keras.callbacks.EarlyStopping(\n",
        "      monitor='val_accuracy',\n",
        "      patience=20,\n",
        "      restore_best_weights=True,\n",
        ")"
      ],
      "execution_count": 5,
      "outputs": []
    },
    {
      "cell_type": "code",
      "metadata": {
        "id": "Z5NllJuVPPwt",
        "outputId": "bf2be450-e0c9-4c5d-8866-6f6af7be2578",
        "colab": {
          "base_uri": "https://localhost:8080/"
        }
      },
      "source": [
        "%%time\n",
        "model = gen_model()\n",
        "compile_model(model)\n",
        "model.fit(datagen.flow(x_train, y_train, batch_size=128),\n",
        "          epochs=1000,\n",
        "          verbose=1,\n",
        "          callbacks=[early_stop],\n",
        "          validation_data=(x_test, y_test),\n",
        "          validation_batch_size=2048)\n"
      ],
      "execution_count": 9,
      "outputs": [
        {
          "output_type": "stream",
          "text": [
            "Epoch 1/1000\n",
            "469/469 [==============================] - 17s 36ms/step - loss: 0.3480 - accuracy: 0.8898 - val_loss: 0.0547 - val_accuracy: 0.9822\n",
            "Epoch 2/1000\n",
            "469/469 [==============================] - 17s 37ms/step - loss: 0.1103 - accuracy: 0.9664 - val_loss: 0.0331 - val_accuracy: 0.9895\n",
            "Epoch 3/1000\n",
            "469/469 [==============================] - 16s 34ms/step - loss: 0.0796 - accuracy: 0.9758 - val_loss: 0.0312 - val_accuracy: 0.9896\n",
            "Epoch 4/1000\n",
            "469/469 [==============================] - 17s 37ms/step - loss: 0.0657 - accuracy: 0.9796 - val_loss: 0.0366 - val_accuracy: 0.9873\n",
            "Epoch 5/1000\n",
            "469/469 [==============================] - 16s 34ms/step - loss: 0.0547 - accuracy: 0.9830 - val_loss: 0.0253 - val_accuracy: 0.9917\n",
            "Epoch 6/1000\n",
            "469/469 [==============================] - 16s 34ms/step - loss: 0.0497 - accuracy: 0.9847 - val_loss: 0.0200 - val_accuracy: 0.9930\n",
            "Epoch 7/1000\n",
            "469/469 [==============================] - 16s 34ms/step - loss: 0.0459 - accuracy: 0.9862 - val_loss: 0.0232 - val_accuracy: 0.9923\n",
            "Epoch 8/1000\n",
            "469/469 [==============================] - 16s 34ms/step - loss: 0.0422 - accuracy: 0.9864 - val_loss: 0.0195 - val_accuracy: 0.9929\n",
            "Epoch 9/1000\n",
            "469/469 [==============================] - 16s 34ms/step - loss: 0.0393 - accuracy: 0.9874 - val_loss: 0.0202 - val_accuracy: 0.9931\n",
            "Epoch 10/1000\n",
            "469/469 [==============================] - 16s 34ms/step - loss: 0.0375 - accuracy: 0.9884 - val_loss: 0.0190 - val_accuracy: 0.9932\n",
            "Epoch 11/1000\n",
            "469/469 [==============================] - 16s 34ms/step - loss: 0.0333 - accuracy: 0.9895 - val_loss: 0.0193 - val_accuracy: 0.9941\n",
            "Epoch 12/1000\n",
            "469/469 [==============================] - 16s 34ms/step - loss: 0.0333 - accuracy: 0.9894 - val_loss: 0.0175 - val_accuracy: 0.9946\n",
            "Epoch 13/1000\n",
            "469/469 [==============================] - 16s 34ms/step - loss: 0.0294 - accuracy: 0.9907 - val_loss: 0.0185 - val_accuracy: 0.9937\n",
            "Epoch 14/1000\n",
            "469/469 [==============================] - 16s 34ms/step - loss: 0.0292 - accuracy: 0.9914 - val_loss: 0.0199 - val_accuracy: 0.9935\n",
            "Epoch 15/1000\n",
            "469/469 [==============================] - 16s 34ms/step - loss: 0.0287 - accuracy: 0.9910 - val_loss: 0.0157 - val_accuracy: 0.9946\n",
            "Epoch 16/1000\n",
            "469/469 [==============================] - 16s 34ms/step - loss: 0.0258 - accuracy: 0.9920 - val_loss: 0.0140 - val_accuracy: 0.9949\n",
            "Epoch 17/1000\n",
            "469/469 [==============================] - 16s 34ms/step - loss: 0.0259 - accuracy: 0.9920 - val_loss: 0.0132 - val_accuracy: 0.9952\n",
            "Epoch 18/1000\n",
            "469/469 [==============================] - 16s 34ms/step - loss: 0.0262 - accuracy: 0.9916 - val_loss: 0.0129 - val_accuracy: 0.9958\n",
            "Epoch 19/1000\n",
            "469/469 [==============================] - 16s 34ms/step - loss: 0.0240 - accuracy: 0.9928 - val_loss: 0.0200 - val_accuracy: 0.9944\n",
            "Epoch 20/1000\n",
            "469/469 [==============================] - 16s 35ms/step - loss: 0.0230 - accuracy: 0.9931 - val_loss: 0.0212 - val_accuracy: 0.9928\n",
            "Epoch 21/1000\n",
            "469/469 [==============================] - 16s 34ms/step - loss: 0.0227 - accuracy: 0.9931 - val_loss: 0.0209 - val_accuracy: 0.9934\n",
            "Epoch 22/1000\n",
            "469/469 [==============================] - 16s 34ms/step - loss: 0.0206 - accuracy: 0.9937 - val_loss: 0.0183 - val_accuracy: 0.9945\n",
            "Epoch 23/1000\n",
            "469/469 [==============================] - 16s 34ms/step - loss: 0.0236 - accuracy: 0.9928 - val_loss: 0.0178 - val_accuracy: 0.9942\n",
            "Epoch 24/1000\n",
            "469/469 [==============================] - 16s 34ms/step - loss: 0.0209 - accuracy: 0.9933 - val_loss: 0.0171 - val_accuracy: 0.9947\n",
            "Epoch 25/1000\n",
            "469/469 [==============================] - 16s 34ms/step - loss: 0.0185 - accuracy: 0.9940 - val_loss: 0.0194 - val_accuracy: 0.9942\n",
            "Epoch 26/1000\n",
            "469/469 [==============================] - 16s 34ms/step - loss: 0.0201 - accuracy: 0.9937 - val_loss: 0.0150 - val_accuracy: 0.9962\n",
            "Epoch 27/1000\n",
            "469/469 [==============================] - 16s 34ms/step - loss: 0.0193 - accuracy: 0.9940 - val_loss: 0.0168 - val_accuracy: 0.9951\n",
            "Epoch 28/1000\n",
            "469/469 [==============================] - 16s 34ms/step - loss: 0.0183 - accuracy: 0.9942 - val_loss: 0.0175 - val_accuracy: 0.9950\n",
            "Epoch 29/1000\n",
            "469/469 [==============================] - 16s 34ms/step - loss: 0.0177 - accuracy: 0.9943 - val_loss: 0.0223 - val_accuracy: 0.9944\n",
            "Epoch 30/1000\n",
            "469/469 [==============================] - 16s 34ms/step - loss: 0.0164 - accuracy: 0.9948 - val_loss: 0.0206 - val_accuracy: 0.9934\n",
            "Epoch 31/1000\n",
            "469/469 [==============================] - 16s 34ms/step - loss: 0.0163 - accuracy: 0.9944 - val_loss: 0.0261 - val_accuracy: 0.9930\n",
            "Epoch 32/1000\n",
            "469/469 [==============================] - 16s 34ms/step - loss: 0.0170 - accuracy: 0.9947 - val_loss: 0.0208 - val_accuracy: 0.9934\n",
            "Epoch 33/1000\n",
            "469/469 [==============================] - 16s 34ms/step - loss: 0.0172 - accuracy: 0.9947 - val_loss: 0.0124 - val_accuracy: 0.9961\n",
            "Epoch 34/1000\n",
            "469/469 [==============================] - 16s 34ms/step - loss: 0.0135 - accuracy: 0.9957 - val_loss: 0.0136 - val_accuracy: 0.9959\n",
            "Epoch 35/1000\n",
            "469/469 [==============================] - 16s 34ms/step - loss: 0.0164 - accuracy: 0.9949 - val_loss: 0.0179 - val_accuracy: 0.9948\n",
            "Epoch 36/1000\n",
            "469/469 [==============================] - 16s 34ms/step - loss: 0.0153 - accuracy: 0.9957 - val_loss: 0.0155 - val_accuracy: 0.9948\n",
            "Epoch 37/1000\n",
            "469/469 [==============================] - 16s 34ms/step - loss: 0.0148 - accuracy: 0.9954 - val_loss: 0.0169 - val_accuracy: 0.9947\n",
            "Epoch 38/1000\n",
            "469/469 [==============================] - 16s 34ms/step - loss: 0.0147 - accuracy: 0.9953 - val_loss: 0.0259 - val_accuracy: 0.9934\n",
            "Epoch 39/1000\n",
            "469/469 [==============================] - 16s 34ms/step - loss: 0.0144 - accuracy: 0.9955 - val_loss: 0.0185 - val_accuracy: 0.9947\n",
            "Epoch 40/1000\n",
            "469/469 [==============================] - 16s 34ms/step - loss: 0.0147 - accuracy: 0.9953 - val_loss: 0.0184 - val_accuracy: 0.9949\n",
            "Epoch 41/1000\n",
            "469/469 [==============================] - 16s 34ms/step - loss: 0.0125 - accuracy: 0.9962 - val_loss: 0.0204 - val_accuracy: 0.9947\n",
            "Epoch 42/1000\n",
            "469/469 [==============================] - 16s 34ms/step - loss: 0.0144 - accuracy: 0.9953 - val_loss: 0.0130 - val_accuracy: 0.9959\n",
            "Epoch 43/1000\n",
            "469/469 [==============================] - 16s 34ms/step - loss: 0.0139 - accuracy: 0.9954 - val_loss: 0.0140 - val_accuracy: 0.9953\n",
            "Epoch 44/1000\n",
            "469/469 [==============================] - 16s 34ms/step - loss: 0.0135 - accuracy: 0.9958 - val_loss: 0.0158 - val_accuracy: 0.9956\n",
            "Epoch 45/1000\n",
            "469/469 [==============================] - 16s 34ms/step - loss: 0.0125 - accuracy: 0.9960 - val_loss: 0.0199 - val_accuracy: 0.9946\n",
            "Epoch 46/1000\n",
            "469/469 [==============================] - 16s 34ms/step - loss: 0.0128 - accuracy: 0.9961 - val_loss: 0.0149 - val_accuracy: 0.9954\n",
            "CPU times: user 13min 49s, sys: 21.7 s, total: 14min 11s\n",
            "Wall time: 12min 23s\n"
          ],
          "name": "stdout"
        }
      ]
    },
    {
      "cell_type": "code",
      "metadata": {
        "id": "tf3PBVa9M2ry",
        "outputId": "e1fd6921-f74f-4ae7-992e-9a521c1742e9",
        "colab": {
          "base_uri": "https://localhost:8080/"
        }
      },
      "source": [
        "score = model.evaluate(x_test, y_test, verbose=0)\n",
        "print('Test loss:', score[0])\n",
        "print('Test accuracy:', score[1])\n"
      ],
      "execution_count": 10,
      "outputs": [
        {
          "output_type": "stream",
          "text": [
            "Test loss: 0.01501705963164568\n",
            "Test accuracy: 0.9962000250816345\n"
          ],
          "name": "stdout"
        }
      ]
    },
    {
      "cell_type": "code",
      "metadata": {
        "id": "rUOT_c8jo5vC"
      },
      "source": [
        ""
      ],
      "execution_count": null,
      "outputs": []
    }
  ]
}